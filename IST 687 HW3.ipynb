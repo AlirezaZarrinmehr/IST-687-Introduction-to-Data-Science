{
  "nbformat": 4,
  "nbformat_minor": 0,
  "metadata": {
    "colab": {
      "provenance": [],
      "collapsed_sections": [],
      "include_colab_link": true
    },
    "kernelspec": {
      "name": "ir",
      "display_name": "R"
    },
    "language_info": {
      "name": "R"
    }
  },
  "cells": [
    {
      "cell_type": "markdown",
      "metadata": {
        "id": "view-in-github",
        "colab_type": "text"
      },
      "source": [
        "<a href=\"https://colab.research.google.com/github/AlirezaZarrinmehr/Intro-to-Data-Science/blob/main/IST%20687%20HW3.ipynb\" target=\"_parent\"><img src=\"https://colab.research.google.com/assets/colab-badge.svg\" alt=\"Open In Colab\"/></a>"
      ]
    },
    {
      "cell_type": "markdown",
      "metadata": {
        "id": "joFt0aLKgFeT"
      },
      "source": [
        "# Intro to Data Science HW 3\n",
        "\n",
        "##### Copyright 2022, Jeffrey Stanton, Jeffrey Saltz, and Jasmina Tacheva"
      ]
    },
    {
      "cell_type": "code",
      "execution_count": 70,
      "metadata": {
        "id": "6fjrBLdBgFeU"
      },
      "outputs": [],
      "source": [
        "# Enter your name here: "
      ]
    },
    {
      "cell_type": "markdown",
      "metadata": {
        "id": "xrVwNQSIgFeb"
      },
      "source": [
        "### Attribution statement: (choose only one and delete the rest)"
      ]
    },
    {
      "cell_type": "code",
      "execution_count": 71,
      "metadata": {
        "id": "TvFfnDcAgFec"
      },
      "outputs": [],
      "source": [
        "# 1. I did this homework by myself, with help from the book and the professor.\n",
        "# 2. I did this homework with help from the book and the professor and these Internet sources:\n",
        "# 3. I did this homework with help from <Name of another student> but did not cut and paste any code."
      ]
    },
    {
      "cell_type": "markdown",
      "metadata": {
        "id": "Rbx1_vAHgFec"
      },
      "source": [
        "### Reminders of things to practice from last week: \n",
        "Make a data frame:\t\tdata.frame( ) <br>\n",
        "Row index of max/min:\twhich.max( )  which.min( )<br>\n",
        "Sort value or order rows: arrange( )\tsort( )   order( )<br>\n",
        "Descriptive statistics: \tmean( ) sum( ) max( ) <br>\n",
        "Conditional statement:\tif (condition) “true stuff” else “false stuff”<br>\n",
        "\n",
        "### This Week: \n",
        "Often, when you get a dataset, it is not in the format you want. You can (and should) use code to refine the dataset to become more useful. As Chapter 6 of Introduction to Data Science mentions, this is called **“data munging.”** In this homework, you will read in a dataset from the web and work on it (in a data frame) to improve its usefulness.\n"
      ]
    },
    {
      "cell_type": "markdown",
      "metadata": {
        "id": "_FNldhcigFed"
      },
      "source": [
        "## Part 1: Use read_csv( ) to read a CSV file from the web into a data frame:"
      ]
    },
    {
      "cell_type": "markdown",
      "metadata": {
        "id": "og5BFJUDgFee"
      },
      "source": [
        "A.\tUse R code to read directly from a URL on the web. Store the dataset into a new dataframe, called **testDF**. <br>\n",
        "The URL is:    <br>\n",
        "\"https://data-science-intro.s3.us-east-2.amazonaws.com/NYS_COVID_Testing.csv\" <br>\n",
        "**Hint:** use read_csv( ), not read.csv( ). This is from the **tidyverse package**. Check the help to compare them.\n"
      ]
    },
    {
      "cell_type": "code",
      "execution_count": 72,
      "metadata": {
        "id": "dGFOz2NGgFee",
        "outputId": "4380dcf5-96d6-4b46-963b-2f0e3cc3aa4c",
        "colab": {
          "base_uri": "https://localhost:8080/"
        }
      },
      "outputs": [
        {
          "output_type": "stream",
          "name": "stderr",
          "text": [
            "\u001b[1mRows: \u001b[22m\u001b[34m7383\u001b[39m \u001b[1mColumns: \u001b[22m\u001b[34m5\u001b[39m\n",
            "\u001b[36m──\u001b[39m \u001b[1mColumn specification\u001b[22m \u001b[36m────────────────────────────────────────────────────────\u001b[39m\n",
            "\u001b[1mDelimiter:\u001b[22m \",\"\n",
            "\u001b[31mchr\u001b[39m (3): TestDate, AgeGroup, AgeCategory\n",
            "\u001b[32mdbl\u001b[39m (2): PositiveCases, TotalTests\n",
            "\n",
            "\u001b[36mℹ\u001b[39m Use `spec()` to retrieve the full column specification for this data.\n",
            "\u001b[36mℹ\u001b[39m Specify the column types or set `show_col_types = FALSE` to quiet this message.\n"
          ]
        }
      ],
      "source": [
        "library(tidyverse)\n",
        "testDF <- read_csv(\"https://data-science-intro.s3.us-east-2.amazonaws.com/NYS_COVID_Testing.csv\")"
      ]
    },
    {
      "cell_type": "markdown",
      "metadata": {
        "id": "uOHREDI3gFef"
      },
      "source": [
        "B.\tUse View( ), head( ), and tail( ) to examine the **testDF** dataframe. <br>\n",
        "**Add a block comment that briefly describes what you see.**"
      ]
    },
    {
      "cell_type": "code",
      "execution_count": 73,
      "metadata": {
        "id": "NeXExfPvgFeg",
        "outputId": "e60c2ffc-bf65-43da-d562-963b0c7c130b",
        "colab": {
          "base_uri": "https://localhost:8080/",
          "height": 1000
        }
      },
      "outputs": [
        {
          "output_type": "display_data",
          "data": {
            "text/plain": [
              "     TestDate AgeGroup PositiveCases TotalTests AgeCategory       \n",
              "1    3/2/2020 45 to 54 1              1         middle-aged_adults\n",
              "2    3/3/2020 25 to 34 0              2         young_adults      \n",
              "3    3/3/2020 35 to 44 0              1         middle-aged_adults\n",
              "4    3/3/2020 45 to 54 0              1         middle-aged_adults\n",
              "5    3/3/2020 55 to 64 0              2         senior_citizens   \n",
              "6    3/3/2020 65 to 74 0              2         senior_citizens   \n",
              "7    3/3/2020 85 +     0              1         senior_citizens   \n",
              "8    3/4/2020 1 to 4   0              1         children          \n",
              "9    3/4/2020 25 to 34 0              5         young_adults      \n",
              "10   3/4/2020 35 to 44 2              2         middle-aged_adults\n",
              "11   3/4/2020 45 to 54 0              2         middle-aged_adults\n",
              "12   3/4/2020 5 to 19  0              3         children          \n",
              "13   3/4/2020 55 to 64 0              2         senior_citizens   \n",
              "14   3/4/2020 65 to 74 0              3         senior_citizens   \n",
              "15   3/4/2020 85 +     0              1         senior_citizens   \n",
              "16   3/4/2020 < 1      0              1         children          \n",
              "17   3/5/2020 1 to 4   0              7         children          \n",
              "18   3/5/2020 20 to 24 1              4         young_adults      \n",
              "19   3/5/2020 25 to 34 0             10         young_adults      \n",
              "20   3/5/2020 35 to 44 6             13         middle-aged_adults\n",
              "21   3/5/2020 45 to 54 4             13         middle-aged_adults\n",
              "22   3/5/2020 5 to 19  6             17         children          \n",
              "23   3/5/2020 55 to 64 1             12         senior_citizens   \n",
              "24   3/5/2020 65 to 74 3              8         senior_citizens   \n",
              "25   3/5/2020 75 to 84 1              5         senior_citizens   \n",
              "26   3/5/2020 85 +     0              1         senior_citizens   \n",
              "27   3/5/2020 < 1      0              2         children          \n",
              "28   3/6/2020 20 to 24 1              4         young_adults      \n",
              "29   3/6/2020 25 to 34 1              8         young_adults      \n",
              "30   3/6/2020 35 to 44 2              9         middle-aged_adults\n",
              "⋮    ⋮        ⋮        ⋮             ⋮          ⋮                 \n",
              "7354 1/1/2022 35 to 44 10342         44195      middle-aged_adults\n",
              "7355 1/1/2022 45 to 54  8796         38519      middle-aged_adults\n",
              "7356 1/1/2022 5 to 19  10426         39321      children          \n",
              "7357 1/1/2022 55 to 64  7032         34731      senior_citizens   \n",
              "7358 1/1/2022 65 to 74  3476         19433      senior_citizens   \n",
              "7359 1/1/2022 75 to 84  1487          8929      senior_citizens   \n",
              "7360 1/1/2022 85 +       718          5167      senior_citizens   \n",
              "7361 1/1/2022 < 1        746          2195      children          \n",
              "7362 1/2/2022 1 to 4    1775          7818      children          \n",
              "7363 1/2/2022 20 to 24  4297         17220      young_adults      \n",
              "7364 1/2/2022 25 to 34  9666         41402      young_adults      \n",
              "7365 1/2/2022 35 to 44  8796         35585      middle-aged_adults\n",
              "7366 1/2/2022 45 to 54  7158         30384      middle-aged_adults\n",
              "7367 1/2/2022 5 to 19   8965         36061      children          \n",
              "7368 1/2/2022 55 to 64  5868         27295      senior_citizens   \n",
              "7369 1/2/2022 65 to 74  2755         14931      senior_citizens   \n",
              "7370 1/2/2022 75 to 84  1195          6808      senior_citizens   \n",
              "7371 1/2/2022 85 +       522          3754      senior_citizens   \n",
              "7372 1/2/2022 < 1        700          1894      children          \n",
              "7373 1/3/2022 1 to 4    1857          8794      children          \n",
              "7374 1/3/2022 20 to 24  4380         18944      young_adults      \n",
              "7375 1/3/2022 25 to 34  9875         46786      young_adults      \n",
              "7376 1/3/2022 35 to 44  8840         37432      middle-aged_adults\n",
              "7377 1/3/2022 45 to 54  7361         31822      middle-aged_adults\n",
              "7378 1/3/2022 5 to 19   9923         38977      children          \n",
              "7379 1/3/2022 55 to 64  5739         27019      senior_citizens   \n",
              "7380 1/3/2022 65 to 74  2759         14498      senior_citizens   \n",
              "7381 1/3/2022 75 to 84  1141          6519      senior_citizens   \n",
              "7382 1/3/2022 85 +       680          4028      senior_citizens   \n",
              "7383 1/3/2022 < 1        717          2074      children          "
            ],
            "text/html": [
              "<table class=\"dataframe\">\n",
              "<caption>A spec_tbl_df: 7383 × 5</caption>\n",
              "<thead>\n",
              "\t<tr><th scope=col>TestDate</th><th scope=col>AgeGroup</th><th scope=col>PositiveCases</th><th scope=col>TotalTests</th><th scope=col>AgeCategory</th></tr>\n",
              "\t<tr><th scope=col>&lt;chr&gt;</th><th scope=col>&lt;chr&gt;</th><th scope=col>&lt;dbl&gt;</th><th scope=col>&lt;dbl&gt;</th><th scope=col>&lt;chr&gt;</th></tr>\n",
              "</thead>\n",
              "<tbody>\n",
              "\t<tr><td>3/2/2020</td><td>45 to 54</td><td>1</td><td> 1</td><td>middle-aged_adults</td></tr>\n",
              "\t<tr><td>3/3/2020</td><td>25 to 34</td><td>0</td><td> 2</td><td>young_adults      </td></tr>\n",
              "\t<tr><td>3/3/2020</td><td>35 to 44</td><td>0</td><td> 1</td><td>middle-aged_adults</td></tr>\n",
              "\t<tr><td>3/3/2020</td><td>45 to 54</td><td>0</td><td> 1</td><td>middle-aged_adults</td></tr>\n",
              "\t<tr><td>3/3/2020</td><td>55 to 64</td><td>0</td><td> 2</td><td>senior_citizens   </td></tr>\n",
              "\t<tr><td>3/3/2020</td><td>65 to 74</td><td>0</td><td> 2</td><td>senior_citizens   </td></tr>\n",
              "\t<tr><td>3/3/2020</td><td>85 +    </td><td>0</td><td> 1</td><td>senior_citizens   </td></tr>\n",
              "\t<tr><td>3/4/2020</td><td>1 to 4  </td><td>0</td><td> 1</td><td>children          </td></tr>\n",
              "\t<tr><td>3/4/2020</td><td>25 to 34</td><td>0</td><td> 5</td><td>young_adults      </td></tr>\n",
              "\t<tr><td>3/4/2020</td><td>35 to 44</td><td>2</td><td> 2</td><td>middle-aged_adults</td></tr>\n",
              "\t<tr><td>3/4/2020</td><td>45 to 54</td><td>0</td><td> 2</td><td>middle-aged_adults</td></tr>\n",
              "\t<tr><td>3/4/2020</td><td>5 to 19 </td><td>0</td><td> 3</td><td>children          </td></tr>\n",
              "\t<tr><td>3/4/2020</td><td>55 to 64</td><td>0</td><td> 2</td><td>senior_citizens   </td></tr>\n",
              "\t<tr><td>3/4/2020</td><td>65 to 74</td><td>0</td><td> 3</td><td>senior_citizens   </td></tr>\n",
              "\t<tr><td>3/4/2020</td><td>85 +    </td><td>0</td><td> 1</td><td>senior_citizens   </td></tr>\n",
              "\t<tr><td>3/4/2020</td><td><span style=white-space:pre-wrap>&lt; 1     </span></td><td>0</td><td> 1</td><td><span style=white-space:pre-wrap>children          </span></td></tr>\n",
              "\t<tr><td>3/5/2020</td><td>1 to 4  </td><td>0</td><td> 7</td><td>children          </td></tr>\n",
              "\t<tr><td>3/5/2020</td><td>20 to 24</td><td>1</td><td> 4</td><td>young_adults      </td></tr>\n",
              "\t<tr><td>3/5/2020</td><td>25 to 34</td><td>0</td><td>10</td><td>young_adults      </td></tr>\n",
              "\t<tr><td>3/5/2020</td><td>35 to 44</td><td>6</td><td>13</td><td>middle-aged_adults</td></tr>\n",
              "\t<tr><td>3/5/2020</td><td>45 to 54</td><td>4</td><td>13</td><td>middle-aged_adults</td></tr>\n",
              "\t<tr><td>3/5/2020</td><td>5 to 19 </td><td>6</td><td>17</td><td>children          </td></tr>\n",
              "\t<tr><td>3/5/2020</td><td>55 to 64</td><td>1</td><td>12</td><td>senior_citizens   </td></tr>\n",
              "\t<tr><td>3/5/2020</td><td>65 to 74</td><td>3</td><td> 8</td><td>senior_citizens   </td></tr>\n",
              "\t<tr><td>3/5/2020</td><td>75 to 84</td><td>1</td><td> 5</td><td>senior_citizens   </td></tr>\n",
              "\t<tr><td>3/5/2020</td><td>85 +    </td><td>0</td><td> 1</td><td>senior_citizens   </td></tr>\n",
              "\t<tr><td>3/5/2020</td><td><span style=white-space:pre-wrap>&lt; 1     </span></td><td>0</td><td> 2</td><td><span style=white-space:pre-wrap>children          </span></td></tr>\n",
              "\t<tr><td>3/6/2020</td><td>20 to 24</td><td>1</td><td> 4</td><td>young_adults      </td></tr>\n",
              "\t<tr><td>3/6/2020</td><td>25 to 34</td><td>1</td><td> 8</td><td>young_adults      </td></tr>\n",
              "\t<tr><td>3/6/2020</td><td>35 to 44</td><td>2</td><td> 9</td><td>middle-aged_adults</td></tr>\n",
              "\t<tr><td>⋮</td><td>⋮</td><td>⋮</td><td>⋮</td><td>⋮</td></tr>\n",
              "\t<tr><td>1/1/2022</td><td>35 to 44</td><td>10342</td><td>44195</td><td>middle-aged_adults</td></tr>\n",
              "\t<tr><td>1/1/2022</td><td>45 to 54</td><td> 8796</td><td>38519</td><td>middle-aged_adults</td></tr>\n",
              "\t<tr><td>1/1/2022</td><td>5 to 19 </td><td>10426</td><td>39321</td><td>children          </td></tr>\n",
              "\t<tr><td>1/1/2022</td><td>55 to 64</td><td> 7032</td><td>34731</td><td>senior_citizens   </td></tr>\n",
              "\t<tr><td>1/1/2022</td><td>65 to 74</td><td> 3476</td><td>19433</td><td>senior_citizens   </td></tr>\n",
              "\t<tr><td>1/1/2022</td><td>75 to 84</td><td> 1487</td><td> 8929</td><td>senior_citizens   </td></tr>\n",
              "\t<tr><td>1/1/2022</td><td>85 +    </td><td>  718</td><td> 5167</td><td>senior_citizens   </td></tr>\n",
              "\t<tr><td>1/1/2022</td><td><span style=white-space:pre-wrap>&lt; 1     </span></td><td><span style=white-space:pre-wrap>  746</span></td><td> 2195</td><td><span style=white-space:pre-wrap>children          </span></td></tr>\n",
              "\t<tr><td>1/2/2022</td><td>1 to 4  </td><td> 1775</td><td> 7818</td><td>children          </td></tr>\n",
              "\t<tr><td>1/2/2022</td><td>20 to 24</td><td> 4297</td><td>17220</td><td>young_adults      </td></tr>\n",
              "\t<tr><td>1/2/2022</td><td>25 to 34</td><td> 9666</td><td>41402</td><td>young_adults      </td></tr>\n",
              "\t<tr><td>1/2/2022</td><td>35 to 44</td><td> 8796</td><td>35585</td><td>middle-aged_adults</td></tr>\n",
              "\t<tr><td>1/2/2022</td><td>45 to 54</td><td> 7158</td><td>30384</td><td>middle-aged_adults</td></tr>\n",
              "\t<tr><td>1/2/2022</td><td>5 to 19 </td><td> 8965</td><td>36061</td><td>children          </td></tr>\n",
              "\t<tr><td>1/2/2022</td><td>55 to 64</td><td> 5868</td><td>27295</td><td>senior_citizens   </td></tr>\n",
              "\t<tr><td>1/2/2022</td><td>65 to 74</td><td> 2755</td><td>14931</td><td>senior_citizens   </td></tr>\n",
              "\t<tr><td>1/2/2022</td><td>75 to 84</td><td> 1195</td><td> 6808</td><td>senior_citizens   </td></tr>\n",
              "\t<tr><td>1/2/2022</td><td>85 +    </td><td>  522</td><td> 3754</td><td>senior_citizens   </td></tr>\n",
              "\t<tr><td>1/2/2022</td><td><span style=white-space:pre-wrap>&lt; 1     </span></td><td><span style=white-space:pre-wrap>  700</span></td><td> 1894</td><td><span style=white-space:pre-wrap>children          </span></td></tr>\n",
              "\t<tr><td>1/3/2022</td><td>1 to 4  </td><td> 1857</td><td> 8794</td><td>children          </td></tr>\n",
              "\t<tr><td>1/3/2022</td><td>20 to 24</td><td> 4380</td><td>18944</td><td>young_adults      </td></tr>\n",
              "\t<tr><td>1/3/2022</td><td>25 to 34</td><td> 9875</td><td>46786</td><td>young_adults      </td></tr>\n",
              "\t<tr><td>1/3/2022</td><td>35 to 44</td><td> 8840</td><td>37432</td><td>middle-aged_adults</td></tr>\n",
              "\t<tr><td>1/3/2022</td><td>45 to 54</td><td> 7361</td><td>31822</td><td>middle-aged_adults</td></tr>\n",
              "\t<tr><td>1/3/2022</td><td>5 to 19 </td><td> 9923</td><td>38977</td><td>children          </td></tr>\n",
              "\t<tr><td>1/3/2022</td><td>55 to 64</td><td> 5739</td><td>27019</td><td>senior_citizens   </td></tr>\n",
              "\t<tr><td>1/3/2022</td><td>65 to 74</td><td> 2759</td><td>14498</td><td>senior_citizens   </td></tr>\n",
              "\t<tr><td>1/3/2022</td><td>75 to 84</td><td> 1141</td><td> 6519</td><td>senior_citizens   </td></tr>\n",
              "\t<tr><td>1/3/2022</td><td>85 +    </td><td>  680</td><td> 4028</td><td>senior_citizens   </td></tr>\n",
              "\t<tr><td>1/3/2022</td><td><span style=white-space:pre-wrap>&lt; 1     </span></td><td><span style=white-space:pre-wrap>  717</span></td><td> 2074</td><td><span style=white-space:pre-wrap>children          </span></td></tr>\n",
              "</tbody>\n",
              "</table>\n"
            ],
            "text/markdown": "\nA spec_tbl_df: 7383 × 5\n\n| TestDate &lt;chr&gt; | AgeGroup &lt;chr&gt; | PositiveCases &lt;dbl&gt; | TotalTests &lt;dbl&gt; | AgeCategory &lt;chr&gt; |\n|---|---|---|---|---|\n| 3/2/2020 | 45 to 54 | 1 |  1 | middle-aged_adults |\n| 3/3/2020 | 25 to 34 | 0 |  2 | young_adults       |\n| 3/3/2020 | 35 to 44 | 0 |  1 | middle-aged_adults |\n| 3/3/2020 | 45 to 54 | 0 |  1 | middle-aged_adults |\n| 3/3/2020 | 55 to 64 | 0 |  2 | senior_citizens    |\n| 3/3/2020 | 65 to 74 | 0 |  2 | senior_citizens    |\n| 3/3/2020 | 85 +     | 0 |  1 | senior_citizens    |\n| 3/4/2020 | 1 to 4   | 0 |  1 | children           |\n| 3/4/2020 | 25 to 34 | 0 |  5 | young_adults       |\n| 3/4/2020 | 35 to 44 | 2 |  2 | middle-aged_adults |\n| 3/4/2020 | 45 to 54 | 0 |  2 | middle-aged_adults |\n| 3/4/2020 | 5 to 19  | 0 |  3 | children           |\n| 3/4/2020 | 55 to 64 | 0 |  2 | senior_citizens    |\n| 3/4/2020 | 65 to 74 | 0 |  3 | senior_citizens    |\n| 3/4/2020 | 85 +     | 0 |  1 | senior_citizens    |\n| 3/4/2020 | &lt; 1      | 0 |  1 | children           |\n| 3/5/2020 | 1 to 4   | 0 |  7 | children           |\n| 3/5/2020 | 20 to 24 | 1 |  4 | young_adults       |\n| 3/5/2020 | 25 to 34 | 0 | 10 | young_adults       |\n| 3/5/2020 | 35 to 44 | 6 | 13 | middle-aged_adults |\n| 3/5/2020 | 45 to 54 | 4 | 13 | middle-aged_adults |\n| 3/5/2020 | 5 to 19  | 6 | 17 | children           |\n| 3/5/2020 | 55 to 64 | 1 | 12 | senior_citizens    |\n| 3/5/2020 | 65 to 74 | 3 |  8 | senior_citizens    |\n| 3/5/2020 | 75 to 84 | 1 |  5 | senior_citizens    |\n| 3/5/2020 | 85 +     | 0 |  1 | senior_citizens    |\n| 3/5/2020 | &lt; 1      | 0 |  2 | children           |\n| 3/6/2020 | 20 to 24 | 1 |  4 | young_adults       |\n| 3/6/2020 | 25 to 34 | 1 |  8 | young_adults       |\n| 3/6/2020 | 35 to 44 | 2 |  9 | middle-aged_adults |\n| ⋮ | ⋮ | ⋮ | ⋮ | ⋮ |\n| 1/1/2022 | 35 to 44 | 10342 | 44195 | middle-aged_adults |\n| 1/1/2022 | 45 to 54 |  8796 | 38519 | middle-aged_adults |\n| 1/1/2022 | 5 to 19  | 10426 | 39321 | children           |\n| 1/1/2022 | 55 to 64 |  7032 | 34731 | senior_citizens    |\n| 1/1/2022 | 65 to 74 |  3476 | 19433 | senior_citizens    |\n| 1/1/2022 | 75 to 84 |  1487 |  8929 | senior_citizens    |\n| 1/1/2022 | 85 +     |   718 |  5167 | senior_citizens    |\n| 1/1/2022 | &lt; 1      |   746 |  2195 | children           |\n| 1/2/2022 | 1 to 4   |  1775 |  7818 | children           |\n| 1/2/2022 | 20 to 24 |  4297 | 17220 | young_adults       |\n| 1/2/2022 | 25 to 34 |  9666 | 41402 | young_adults       |\n| 1/2/2022 | 35 to 44 |  8796 | 35585 | middle-aged_adults |\n| 1/2/2022 | 45 to 54 |  7158 | 30384 | middle-aged_adults |\n| 1/2/2022 | 5 to 19  |  8965 | 36061 | children           |\n| 1/2/2022 | 55 to 64 |  5868 | 27295 | senior_citizens    |\n| 1/2/2022 | 65 to 74 |  2755 | 14931 | senior_citizens    |\n| 1/2/2022 | 75 to 84 |  1195 |  6808 | senior_citizens    |\n| 1/2/2022 | 85 +     |   522 |  3754 | senior_citizens    |\n| 1/2/2022 | &lt; 1      |   700 |  1894 | children           |\n| 1/3/2022 | 1 to 4   |  1857 |  8794 | children           |\n| 1/3/2022 | 20 to 24 |  4380 | 18944 | young_adults       |\n| 1/3/2022 | 25 to 34 |  9875 | 46786 | young_adults       |\n| 1/3/2022 | 35 to 44 |  8840 | 37432 | middle-aged_adults |\n| 1/3/2022 | 45 to 54 |  7361 | 31822 | middle-aged_adults |\n| 1/3/2022 | 5 to 19  |  9923 | 38977 | children           |\n| 1/3/2022 | 55 to 64 |  5739 | 27019 | senior_citizens    |\n| 1/3/2022 | 65 to 74 |  2759 | 14498 | senior_citizens    |\n| 1/3/2022 | 75 to 84 |  1141 |  6519 | senior_citizens    |\n| 1/3/2022 | 85 +     |   680 |  4028 | senior_citizens    |\n| 1/3/2022 | &lt; 1      |   717 |  2074 | children           |\n\n",
            "text/latex": "A spec\\_tbl\\_df: 7383 × 5\n\\begin{tabular}{lllll}\n TestDate & AgeGroup & PositiveCases & TotalTests & AgeCategory\\\\\n <chr> & <chr> & <dbl> & <dbl> & <chr>\\\\\n\\hline\n\t 3/2/2020 & 45 to 54 & 1 &  1 & middle-aged\\_adults\\\\\n\t 3/3/2020 & 25 to 34 & 0 &  2 & young\\_adults      \\\\\n\t 3/3/2020 & 35 to 44 & 0 &  1 & middle-aged\\_adults\\\\\n\t 3/3/2020 & 45 to 54 & 0 &  1 & middle-aged\\_adults\\\\\n\t 3/3/2020 & 55 to 64 & 0 &  2 & senior\\_citizens   \\\\\n\t 3/3/2020 & 65 to 74 & 0 &  2 & senior\\_citizens   \\\\\n\t 3/3/2020 & 85 +     & 0 &  1 & senior\\_citizens   \\\\\n\t 3/4/2020 & 1 to 4   & 0 &  1 & children          \\\\\n\t 3/4/2020 & 25 to 34 & 0 &  5 & young\\_adults      \\\\\n\t 3/4/2020 & 35 to 44 & 2 &  2 & middle-aged\\_adults\\\\\n\t 3/4/2020 & 45 to 54 & 0 &  2 & middle-aged\\_adults\\\\\n\t 3/4/2020 & 5 to 19  & 0 &  3 & children          \\\\\n\t 3/4/2020 & 55 to 64 & 0 &  2 & senior\\_citizens   \\\\\n\t 3/4/2020 & 65 to 74 & 0 &  3 & senior\\_citizens   \\\\\n\t 3/4/2020 & 85 +     & 0 &  1 & senior\\_citizens   \\\\\n\t 3/4/2020 & < 1      & 0 &  1 & children          \\\\\n\t 3/5/2020 & 1 to 4   & 0 &  7 & children          \\\\\n\t 3/5/2020 & 20 to 24 & 1 &  4 & young\\_adults      \\\\\n\t 3/5/2020 & 25 to 34 & 0 & 10 & young\\_adults      \\\\\n\t 3/5/2020 & 35 to 44 & 6 & 13 & middle-aged\\_adults\\\\\n\t 3/5/2020 & 45 to 54 & 4 & 13 & middle-aged\\_adults\\\\\n\t 3/5/2020 & 5 to 19  & 6 & 17 & children          \\\\\n\t 3/5/2020 & 55 to 64 & 1 & 12 & senior\\_citizens   \\\\\n\t 3/5/2020 & 65 to 74 & 3 &  8 & senior\\_citizens   \\\\\n\t 3/5/2020 & 75 to 84 & 1 &  5 & senior\\_citizens   \\\\\n\t 3/5/2020 & 85 +     & 0 &  1 & senior\\_citizens   \\\\\n\t 3/5/2020 & < 1      & 0 &  2 & children          \\\\\n\t 3/6/2020 & 20 to 24 & 1 &  4 & young\\_adults      \\\\\n\t 3/6/2020 & 25 to 34 & 1 &  8 & young\\_adults      \\\\\n\t 3/6/2020 & 35 to 44 & 2 &  9 & middle-aged\\_adults\\\\\n\t ⋮ & ⋮ & ⋮ & ⋮ & ⋮\\\\\n\t 1/1/2022 & 35 to 44 & 10342 & 44195 & middle-aged\\_adults\\\\\n\t 1/1/2022 & 45 to 54 &  8796 & 38519 & middle-aged\\_adults\\\\\n\t 1/1/2022 & 5 to 19  & 10426 & 39321 & children          \\\\\n\t 1/1/2022 & 55 to 64 &  7032 & 34731 & senior\\_citizens   \\\\\n\t 1/1/2022 & 65 to 74 &  3476 & 19433 & senior\\_citizens   \\\\\n\t 1/1/2022 & 75 to 84 &  1487 &  8929 & senior\\_citizens   \\\\\n\t 1/1/2022 & 85 +     &   718 &  5167 & senior\\_citizens   \\\\\n\t 1/1/2022 & < 1      &   746 &  2195 & children          \\\\\n\t 1/2/2022 & 1 to 4   &  1775 &  7818 & children          \\\\\n\t 1/2/2022 & 20 to 24 &  4297 & 17220 & young\\_adults      \\\\\n\t 1/2/2022 & 25 to 34 &  9666 & 41402 & young\\_adults      \\\\\n\t 1/2/2022 & 35 to 44 &  8796 & 35585 & middle-aged\\_adults\\\\\n\t 1/2/2022 & 45 to 54 &  7158 & 30384 & middle-aged\\_adults\\\\\n\t 1/2/2022 & 5 to 19  &  8965 & 36061 & children          \\\\\n\t 1/2/2022 & 55 to 64 &  5868 & 27295 & senior\\_citizens   \\\\\n\t 1/2/2022 & 65 to 74 &  2755 & 14931 & senior\\_citizens   \\\\\n\t 1/2/2022 & 75 to 84 &  1195 &  6808 & senior\\_citizens   \\\\\n\t 1/2/2022 & 85 +     &   522 &  3754 & senior\\_citizens   \\\\\n\t 1/2/2022 & < 1      &   700 &  1894 & children          \\\\\n\t 1/3/2022 & 1 to 4   &  1857 &  8794 & children          \\\\\n\t 1/3/2022 & 20 to 24 &  4380 & 18944 & young\\_adults      \\\\\n\t 1/3/2022 & 25 to 34 &  9875 & 46786 & young\\_adults      \\\\\n\t 1/3/2022 & 35 to 44 &  8840 & 37432 & middle-aged\\_adults\\\\\n\t 1/3/2022 & 45 to 54 &  7361 & 31822 & middle-aged\\_adults\\\\\n\t 1/3/2022 & 5 to 19  &  9923 & 38977 & children          \\\\\n\t 1/3/2022 & 55 to 64 &  5739 & 27019 & senior\\_citizens   \\\\\n\t 1/3/2022 & 65 to 74 &  2759 & 14498 & senior\\_citizens   \\\\\n\t 1/3/2022 & 75 to 84 &  1141 &  6519 & senior\\_citizens   \\\\\n\t 1/3/2022 & 85 +     &   680 &  4028 & senior\\_citizens   \\\\\n\t 1/3/2022 & < 1      &   717 &  2074 & children          \\\\\n\\end{tabular}\n"
          },
          "metadata": {}
        },
        {
          "output_type": "display_data",
          "data": {
            "text/html": [
              "<table class=\"dataframe\">\n",
              "<caption>A tibble: 6 × 5</caption>\n",
              "<thead>\n",
              "\t<tr><th scope=col>TestDate</th><th scope=col>AgeGroup</th><th scope=col>PositiveCases</th><th scope=col>TotalTests</th><th scope=col>AgeCategory</th></tr>\n",
              "\t<tr><th scope=col>&lt;chr&gt;</th><th scope=col>&lt;chr&gt;</th><th scope=col>&lt;dbl&gt;</th><th scope=col>&lt;dbl&gt;</th><th scope=col>&lt;chr&gt;</th></tr>\n",
              "</thead>\n",
              "<tbody>\n",
              "\t<tr><td>3/2/2020</td><td>45 to 54</td><td>1</td><td>1</td><td>middle-aged_adults</td></tr>\n",
              "\t<tr><td>3/3/2020</td><td>25 to 34</td><td>0</td><td>2</td><td>young_adults      </td></tr>\n",
              "\t<tr><td>3/3/2020</td><td>35 to 44</td><td>0</td><td>1</td><td>middle-aged_adults</td></tr>\n",
              "\t<tr><td>3/3/2020</td><td>45 to 54</td><td>0</td><td>1</td><td>middle-aged_adults</td></tr>\n",
              "\t<tr><td>3/3/2020</td><td>55 to 64</td><td>0</td><td>2</td><td>senior_citizens   </td></tr>\n",
              "\t<tr><td>3/3/2020</td><td>65 to 74</td><td>0</td><td>2</td><td>senior_citizens   </td></tr>\n",
              "</tbody>\n",
              "</table>\n"
            ],
            "text/markdown": "\nA tibble: 6 × 5\n\n| TestDate &lt;chr&gt; | AgeGroup &lt;chr&gt; | PositiveCases &lt;dbl&gt; | TotalTests &lt;dbl&gt; | AgeCategory &lt;chr&gt; |\n|---|---|---|---|---|\n| 3/2/2020 | 45 to 54 | 1 | 1 | middle-aged_adults |\n| 3/3/2020 | 25 to 34 | 0 | 2 | young_adults       |\n| 3/3/2020 | 35 to 44 | 0 | 1 | middle-aged_adults |\n| 3/3/2020 | 45 to 54 | 0 | 1 | middle-aged_adults |\n| 3/3/2020 | 55 to 64 | 0 | 2 | senior_citizens    |\n| 3/3/2020 | 65 to 74 | 0 | 2 | senior_citizens    |\n\n",
            "text/latex": "A tibble: 6 × 5\n\\begin{tabular}{lllll}\n TestDate & AgeGroup & PositiveCases & TotalTests & AgeCategory\\\\\n <chr> & <chr> & <dbl> & <dbl> & <chr>\\\\\n\\hline\n\t 3/2/2020 & 45 to 54 & 1 & 1 & middle-aged\\_adults\\\\\n\t 3/3/2020 & 25 to 34 & 0 & 2 & young\\_adults      \\\\\n\t 3/3/2020 & 35 to 44 & 0 & 1 & middle-aged\\_adults\\\\\n\t 3/3/2020 & 45 to 54 & 0 & 1 & middle-aged\\_adults\\\\\n\t 3/3/2020 & 55 to 64 & 0 & 2 & senior\\_citizens   \\\\\n\t 3/3/2020 & 65 to 74 & 0 & 2 & senior\\_citizens   \\\\\n\\end{tabular}\n",
            "text/plain": [
              "  TestDate AgeGroup PositiveCases TotalTests AgeCategory       \n",
              "1 3/2/2020 45 to 54 1             1          middle-aged_adults\n",
              "2 3/3/2020 25 to 34 0             2          young_adults      \n",
              "3 3/3/2020 35 to 44 0             1          middle-aged_adults\n",
              "4 3/3/2020 45 to 54 0             1          middle-aged_adults\n",
              "5 3/3/2020 55 to 64 0             2          senior_citizens   \n",
              "6 3/3/2020 65 to 74 0             2          senior_citizens   "
            ]
          },
          "metadata": {}
        },
        {
          "output_type": "display_data",
          "data": {
            "text/html": [
              "<table class=\"dataframe\">\n",
              "<caption>A tibble: 6 × 5</caption>\n",
              "<thead>\n",
              "\t<tr><th scope=col>TestDate</th><th scope=col>AgeGroup</th><th scope=col>PositiveCases</th><th scope=col>TotalTests</th><th scope=col>AgeCategory</th></tr>\n",
              "\t<tr><th scope=col>&lt;chr&gt;</th><th scope=col>&lt;chr&gt;</th><th scope=col>&lt;dbl&gt;</th><th scope=col>&lt;dbl&gt;</th><th scope=col>&lt;chr&gt;</th></tr>\n",
              "</thead>\n",
              "<tbody>\n",
              "\t<tr><td>1/3/2022</td><td>5 to 19 </td><td>9923</td><td>38977</td><td>children       </td></tr>\n",
              "\t<tr><td>1/3/2022</td><td>55 to 64</td><td>5739</td><td>27019</td><td>senior_citizens</td></tr>\n",
              "\t<tr><td>1/3/2022</td><td>65 to 74</td><td>2759</td><td>14498</td><td>senior_citizens</td></tr>\n",
              "\t<tr><td>1/3/2022</td><td>75 to 84</td><td>1141</td><td> 6519</td><td>senior_citizens</td></tr>\n",
              "\t<tr><td>1/3/2022</td><td>85 +    </td><td> 680</td><td> 4028</td><td>senior_citizens</td></tr>\n",
              "\t<tr><td>1/3/2022</td><td><span style=white-space:pre-wrap>&lt; 1     </span></td><td> 717</td><td> 2074</td><td><span style=white-space:pre-wrap>children       </span></td></tr>\n",
              "</tbody>\n",
              "</table>\n"
            ],
            "text/markdown": "\nA tibble: 6 × 5\n\n| TestDate &lt;chr&gt; | AgeGroup &lt;chr&gt; | PositiveCases &lt;dbl&gt; | TotalTests &lt;dbl&gt; | AgeCategory &lt;chr&gt; |\n|---|---|---|---|---|\n| 1/3/2022 | 5 to 19  | 9923 | 38977 | children        |\n| 1/3/2022 | 55 to 64 | 5739 | 27019 | senior_citizens |\n| 1/3/2022 | 65 to 74 | 2759 | 14498 | senior_citizens |\n| 1/3/2022 | 75 to 84 | 1141 |  6519 | senior_citizens |\n| 1/3/2022 | 85 +     |  680 |  4028 | senior_citizens |\n| 1/3/2022 | &lt; 1      |  717 |  2074 | children        |\n\n",
            "text/latex": "A tibble: 6 × 5\n\\begin{tabular}{lllll}\n TestDate & AgeGroup & PositiveCases & TotalTests & AgeCategory\\\\\n <chr> & <chr> & <dbl> & <dbl> & <chr>\\\\\n\\hline\n\t 1/3/2022 & 5 to 19  & 9923 & 38977 & children       \\\\\n\t 1/3/2022 & 55 to 64 & 5739 & 27019 & senior\\_citizens\\\\\n\t 1/3/2022 & 65 to 74 & 2759 & 14498 & senior\\_citizens\\\\\n\t 1/3/2022 & 75 to 84 & 1141 &  6519 & senior\\_citizens\\\\\n\t 1/3/2022 & 85 +     &  680 &  4028 & senior\\_citizens\\\\\n\t 1/3/2022 & < 1      &  717 &  2074 & children       \\\\\n\\end{tabular}\n",
            "text/plain": [
              "  TestDate AgeGroup PositiveCases TotalTests AgeCategory    \n",
              "1 1/3/2022 5 to 19  9923          38977      children       \n",
              "2 1/3/2022 55 to 64 5739          27019      senior_citizens\n",
              "3 1/3/2022 65 to 74 2759          14498      senior_citizens\n",
              "4 1/3/2022 75 to 84 1141           6519      senior_citizens\n",
              "5 1/3/2022 85 +      680           4028      senior_citizens\n",
              "6 1/3/2022 < 1       717           2074      children       "
            ]
          },
          "metadata": {}
        }
      ],
      "source": [
        "View(testDF)\n",
        "head(testDF)\n",
        "tail(testDF)"
      ]
    },
    {
      "cell_type": "markdown",
      "metadata": {
        "id": "ZeGRhKPagFef"
      },
      "source": [
        "## Part 2: Create new data frames based on a condition:"
      ]
    },
    {
      "cell_type": "markdown",
      "metadata": {
        "id": "VScQVpNDgFeh"
      },
      "source": [
        "A.\tUse the table( ) command to summarize the contents of the **AgeCategory** variable in **testDF**. <br>\n",
        "**Write a comment interpreting what you see – how many age categories are there in the dataset and what is the proportion of observations in each?**"
      ]
    },
    {
      "cell_type": "code",
      "source": [
        "table(testDF$AgeCategory)"
      ],
      "metadata": {
        "id": "Uyo7jTi4uqFv",
        "outputId": "8768648b-003d-42d9-9183-9b5e696c4b36",
        "colab": {
          "base_uri": "https://localhost:8080/",
          "height": 71
        }
      },
      "execution_count": 74,
      "outputs": [
        {
          "output_type": "display_data",
          "data": {
            "text/plain": [
              "\n",
              "          children middle-aged_adults    senior_citizens       young_adults \n",
              "              2010               1345               2686               1342 "
            ]
          },
          "metadata": {}
        }
      ]
    },
    {
      "cell_type": "markdown",
      "source": [
        "B. Terms like \"senior citizens\" can function as *othering* language which demeans the people it seeks to describe. \n",
        "\n",
        "We can use the **str_replace_all()** function from tidyverse to find all instances of **senior_citizens** in the **AgeCategory** variable and replace them with **older_adults**. \n",
        "\n",
        "In this case, we want to search for **senior_citizens** and replace it with **older_adults** in **testDF$AgeCategory** - how can you use this information to overwrite the **AgeCategory** in the function below:"
      ],
      "metadata": {
        "id": "u-7LVg-29cHz"
      }
    },
    {
      "cell_type": "code",
      "source": [
        "library(tidyverse)\n",
        "testDF$AgeCategory <- str_replace_all(testDF$AgeCategory, \"senior_citizens\", \"older_adults\")\n",
        "head(testDF)"
      ],
      "metadata": {
        "id": "Y_VDYqZQ9cf1",
        "outputId": "6c446d70-244f-45aa-e797-047ca79f9097",
        "colab": {
          "base_uri": "https://localhost:8080/",
          "height": 286
        }
      },
      "execution_count": 75,
      "outputs": [
        {
          "output_type": "display_data",
          "data": {
            "text/html": [
              "<table class=\"dataframe\">\n",
              "<caption>A tibble: 6 × 5</caption>\n",
              "<thead>\n",
              "\t<tr><th scope=col>TestDate</th><th scope=col>AgeGroup</th><th scope=col>PositiveCases</th><th scope=col>TotalTests</th><th scope=col>AgeCategory</th></tr>\n",
              "\t<tr><th scope=col>&lt;chr&gt;</th><th scope=col>&lt;chr&gt;</th><th scope=col>&lt;dbl&gt;</th><th scope=col>&lt;dbl&gt;</th><th scope=col>&lt;chr&gt;</th></tr>\n",
              "</thead>\n",
              "<tbody>\n",
              "\t<tr><td>3/2/2020</td><td>45 to 54</td><td>1</td><td>1</td><td>middle-aged_adults</td></tr>\n",
              "\t<tr><td>3/3/2020</td><td>25 to 34</td><td>0</td><td>2</td><td>young_adults      </td></tr>\n",
              "\t<tr><td>3/3/2020</td><td>35 to 44</td><td>0</td><td>1</td><td>middle-aged_adults</td></tr>\n",
              "\t<tr><td>3/3/2020</td><td>45 to 54</td><td>0</td><td>1</td><td>middle-aged_adults</td></tr>\n",
              "\t<tr><td>3/3/2020</td><td>55 to 64</td><td>0</td><td>2</td><td>older_adults      </td></tr>\n",
              "\t<tr><td>3/3/2020</td><td>65 to 74</td><td>0</td><td>2</td><td>older_adults      </td></tr>\n",
              "</tbody>\n",
              "</table>\n"
            ],
            "text/markdown": "\nA tibble: 6 × 5\n\n| TestDate &lt;chr&gt; | AgeGroup &lt;chr&gt; | PositiveCases &lt;dbl&gt; | TotalTests &lt;dbl&gt; | AgeCategory &lt;chr&gt; |\n|---|---|---|---|---|\n| 3/2/2020 | 45 to 54 | 1 | 1 | middle-aged_adults |\n| 3/3/2020 | 25 to 34 | 0 | 2 | young_adults       |\n| 3/3/2020 | 35 to 44 | 0 | 1 | middle-aged_adults |\n| 3/3/2020 | 45 to 54 | 0 | 1 | middle-aged_adults |\n| 3/3/2020 | 55 to 64 | 0 | 2 | older_adults       |\n| 3/3/2020 | 65 to 74 | 0 | 2 | older_adults       |\n\n",
            "text/latex": "A tibble: 6 × 5\n\\begin{tabular}{lllll}\n TestDate & AgeGroup & PositiveCases & TotalTests & AgeCategory\\\\\n <chr> & <chr> & <dbl> & <dbl> & <chr>\\\\\n\\hline\n\t 3/2/2020 & 45 to 54 & 1 & 1 & middle-aged\\_adults\\\\\n\t 3/3/2020 & 25 to 34 & 0 & 2 & young\\_adults      \\\\\n\t 3/3/2020 & 35 to 44 & 0 & 1 & middle-aged\\_adults\\\\\n\t 3/3/2020 & 45 to 54 & 0 & 1 & middle-aged\\_adults\\\\\n\t 3/3/2020 & 55 to 64 & 0 & 2 & older\\_adults      \\\\\n\t 3/3/2020 & 65 to 74 & 0 & 2 & older\\_adults      \\\\\n\\end{tabular}\n",
            "text/plain": [
              "  TestDate AgeGroup PositiveCases TotalTests AgeCategory       \n",
              "1 3/2/2020 45 to 54 1             1          middle-aged_adults\n",
              "2 3/3/2020 25 to 34 0             2          young_adults      \n",
              "3 3/3/2020 35 to 44 0             1          middle-aged_adults\n",
              "4 3/3/2020 45 to 54 0             1          middle-aged_adults\n",
              "5 3/3/2020 55 to 64 0             2          older_adults      \n",
              "6 3/3/2020 65 to 74 0             2          older_adults      "
            ]
          },
          "metadata": {}
        }
      ]
    },
    {
      "cell_type": "markdown",
      "metadata": {
        "id": "Vd9_XpcugFeg"
      },
      "source": [
        "C.\tCreate a dataframe (called **olderAdults**) that contains only the rows (observations) for which the value in the **AgeCategory** variable (column) is **older_adults**. Hint: Use subsetting."
      ]
    },
    {
      "cell_type": "code",
      "execution_count": 76,
      "metadata": {
        "id": "Np98gQZJgFeh",
        "outputId": "ddfc03fa-80fc-48e0-9eac-d45c595eeb38",
        "colab": {
          "base_uri": "https://localhost:8080/",
          "height": 286
        }
      },
      "outputs": [
        {
          "output_type": "display_data",
          "data": {
            "text/html": [
              "<table class=\"dataframe\">\n",
              "<caption>A tibble: 6 × 5</caption>\n",
              "<thead>\n",
              "\t<tr><th scope=col>TestDate</th><th scope=col>AgeGroup</th><th scope=col>PositiveCases</th><th scope=col>TotalTests</th><th scope=col>AgeCategory</th></tr>\n",
              "\t<tr><th scope=col>&lt;chr&gt;</th><th scope=col>&lt;chr&gt;</th><th scope=col>&lt;dbl&gt;</th><th scope=col>&lt;dbl&gt;</th><th scope=col>&lt;chr&gt;</th></tr>\n",
              "</thead>\n",
              "<tbody>\n",
              "\t<tr><td>3/3/2020</td><td>55 to 64</td><td>0</td><td>2</td><td>older_adults</td></tr>\n",
              "\t<tr><td>3/3/2020</td><td>65 to 74</td><td>0</td><td>2</td><td>older_adults</td></tr>\n",
              "\t<tr><td>3/3/2020</td><td>85 +    </td><td>0</td><td>1</td><td>older_adults</td></tr>\n",
              "\t<tr><td>3/4/2020</td><td>55 to 64</td><td>0</td><td>2</td><td>older_adults</td></tr>\n",
              "\t<tr><td>3/4/2020</td><td>65 to 74</td><td>0</td><td>3</td><td>older_adults</td></tr>\n",
              "\t<tr><td>3/4/2020</td><td>85 +    </td><td>0</td><td>1</td><td>older_adults</td></tr>\n",
              "</tbody>\n",
              "</table>\n"
            ],
            "text/markdown": "\nA tibble: 6 × 5\n\n| TestDate &lt;chr&gt; | AgeGroup &lt;chr&gt; | PositiveCases &lt;dbl&gt; | TotalTests &lt;dbl&gt; | AgeCategory &lt;chr&gt; |\n|---|---|---|---|---|\n| 3/3/2020 | 55 to 64 | 0 | 2 | older_adults |\n| 3/3/2020 | 65 to 74 | 0 | 2 | older_adults |\n| 3/3/2020 | 85 +     | 0 | 1 | older_adults |\n| 3/4/2020 | 55 to 64 | 0 | 2 | older_adults |\n| 3/4/2020 | 65 to 74 | 0 | 3 | older_adults |\n| 3/4/2020 | 85 +     | 0 | 1 | older_adults |\n\n",
            "text/latex": "A tibble: 6 × 5\n\\begin{tabular}{lllll}\n TestDate & AgeGroup & PositiveCases & TotalTests & AgeCategory\\\\\n <chr> & <chr> & <dbl> & <dbl> & <chr>\\\\\n\\hline\n\t 3/3/2020 & 55 to 64 & 0 & 2 & older\\_adults\\\\\n\t 3/3/2020 & 65 to 74 & 0 & 2 & older\\_adults\\\\\n\t 3/3/2020 & 85 +     & 0 & 1 & older\\_adults\\\\\n\t 3/4/2020 & 55 to 64 & 0 & 2 & older\\_adults\\\\\n\t 3/4/2020 & 65 to 74 & 0 & 3 & older\\_adults\\\\\n\t 3/4/2020 & 85 +     & 0 & 1 & older\\_adults\\\\\n\\end{tabular}\n",
            "text/plain": [
              "  TestDate AgeGroup PositiveCases TotalTests AgeCategory \n",
              "1 3/3/2020 55 to 64 0             2          older_adults\n",
              "2 3/3/2020 65 to 74 0             2          older_adults\n",
              "3 3/3/2020 85 +     0             1          older_adults\n",
              "4 3/4/2020 55 to 64 0             2          older_adults\n",
              "5 3/4/2020 65 to 74 0             3          older_adults\n",
              "6 3/4/2020 85 +     0             1          older_adults"
            ]
          },
          "metadata": {}
        }
      ],
      "source": [
        "library(dplyr)\n",
        "olderAdults <- subset(testDF, AgeCategory == \"older_adults\")\n",
        "head(olderAdults)"
      ]
    },
    {
      "cell_type": "markdown",
      "metadata": {
        "id": "a9-DocvngFei"
      },
      "source": [
        "D.\tUse the dim() command on **olderAdults** to confirm that the data frame contains **2,686** observations and **5** columns/variables."
      ]
    },
    {
      "cell_type": "code",
      "source": [
        "dim(olderAdults)"
      ],
      "metadata": {
        "id": "dE5DM_RetsHW",
        "outputId": "60d55c9f-8f04-4e55-fa44-b719b38c2162",
        "colab": {
          "base_uri": "https://localhost:8080/",
          "height": 34
        }
      },
      "execution_count": 77,
      "outputs": [
        {
          "output_type": "display_data",
          "data": {
            "text/html": [
              "<style>\n",
              ".list-inline {list-style: none; margin:0; padding: 0}\n",
              ".list-inline>li {display: inline-block}\n",
              ".list-inline>li:not(:last-child)::after {content: \"\\00b7\"; padding: 0 .5ex}\n",
              "</style>\n",
              "<ol class=list-inline><li>2686</li><li>5</li></ol>\n"
            ],
            "text/markdown": "1. 2686\n2. 5\n\n\n",
            "text/latex": "\\begin{enumerate*}\n\\item 2686\n\\item 5\n\\end{enumerate*}\n",
            "text/plain": [
              "[1] 2686    5"
            ]
          },
          "metadata": {}
        }
      ]
    },
    {
      "cell_type": "markdown",
      "metadata": {
        "id": "9k9qBS6vgFei"
      },
      "source": [
        "E.\tUse **subsetting** to create a new dataframe that contains only the observations for which the value in the **AgeCategory** variable is **young_adults**. The name of this new df should be **youngAdults**."
      ]
    },
    {
      "cell_type": "code",
      "execution_count": 78,
      "metadata": {
        "id": "dpFRnBxWgFeh",
        "outputId": "61d354ba-e62f-4126-a0c0-cc77204ecec6",
        "colab": {
          "base_uri": "https://localhost:8080/",
          "height": 286
        }
      },
      "outputs": [
        {
          "output_type": "display_data",
          "data": {
            "text/html": [
              "<table class=\"dataframe\">\n",
              "<caption>A tibble: 6 × 5</caption>\n",
              "<thead>\n",
              "\t<tr><th scope=col>TestDate</th><th scope=col>AgeGroup</th><th scope=col>PositiveCases</th><th scope=col>TotalTests</th><th scope=col>AgeCategory</th></tr>\n",
              "\t<tr><th scope=col>&lt;chr&gt;</th><th scope=col>&lt;chr&gt;</th><th scope=col>&lt;dbl&gt;</th><th scope=col>&lt;dbl&gt;</th><th scope=col>&lt;chr&gt;</th></tr>\n",
              "</thead>\n",
              "<tbody>\n",
              "\t<tr><td>3/3/2020</td><td>25 to 34</td><td>0</td><td> 2</td><td>young_adults</td></tr>\n",
              "\t<tr><td>3/4/2020</td><td>25 to 34</td><td>0</td><td> 5</td><td>young_adults</td></tr>\n",
              "\t<tr><td>3/5/2020</td><td>20 to 24</td><td>1</td><td> 4</td><td>young_adults</td></tr>\n",
              "\t<tr><td>3/5/2020</td><td>25 to 34</td><td>0</td><td>10</td><td>young_adults</td></tr>\n",
              "\t<tr><td>3/6/2020</td><td>20 to 24</td><td>1</td><td> 4</td><td>young_adults</td></tr>\n",
              "\t<tr><td>3/6/2020</td><td>25 to 34</td><td>1</td><td> 8</td><td>young_adults</td></tr>\n",
              "</tbody>\n",
              "</table>\n"
            ],
            "text/markdown": "\nA tibble: 6 × 5\n\n| TestDate &lt;chr&gt; | AgeGroup &lt;chr&gt; | PositiveCases &lt;dbl&gt; | TotalTests &lt;dbl&gt; | AgeCategory &lt;chr&gt; |\n|---|---|---|---|---|\n| 3/3/2020 | 25 to 34 | 0 |  2 | young_adults |\n| 3/4/2020 | 25 to 34 | 0 |  5 | young_adults |\n| 3/5/2020 | 20 to 24 | 1 |  4 | young_adults |\n| 3/5/2020 | 25 to 34 | 0 | 10 | young_adults |\n| 3/6/2020 | 20 to 24 | 1 |  4 | young_adults |\n| 3/6/2020 | 25 to 34 | 1 |  8 | young_adults |\n\n",
            "text/latex": "A tibble: 6 × 5\n\\begin{tabular}{lllll}\n TestDate & AgeGroup & PositiveCases & TotalTests & AgeCategory\\\\\n <chr> & <chr> & <dbl> & <dbl> & <chr>\\\\\n\\hline\n\t 3/3/2020 & 25 to 34 & 0 &  2 & young\\_adults\\\\\n\t 3/4/2020 & 25 to 34 & 0 &  5 & young\\_adults\\\\\n\t 3/5/2020 & 20 to 24 & 1 &  4 & young\\_adults\\\\\n\t 3/5/2020 & 25 to 34 & 0 & 10 & young\\_adults\\\\\n\t 3/6/2020 & 20 to 24 & 1 &  4 & young\\_adults\\\\\n\t 3/6/2020 & 25 to 34 & 1 &  8 & young\\_adults\\\\\n\\end{tabular}\n",
            "text/plain": [
              "  TestDate AgeGroup PositiveCases TotalTests AgeCategory \n",
              "1 3/3/2020 25 to 34 0              2         young_adults\n",
              "2 3/4/2020 25 to 34 0              5         young_adults\n",
              "3 3/5/2020 20 to 24 1              4         young_adults\n",
              "4 3/5/2020 25 to 34 0             10         young_adults\n",
              "5 3/6/2020 20 to 24 1              4         young_adults\n",
              "6 3/6/2020 25 to 34 1              8         young_adults"
            ]
          },
          "metadata": {}
        }
      ],
      "source": [
        "youngAdults <- subset(testDF, AgeCategory == \"young_adults\")\n",
        "head(youngAdults)"
      ]
    },
    {
      "cell_type": "markdown",
      "source": [
        "F. Create one last data frame which only contains the observations for **children** in the **AgeCategory** variable of **testDF**. Call this new df **childrenDF**."
      ],
      "metadata": {
        "id": "tCqdR-_rvotK"
      }
    },
    {
      "cell_type": "code",
      "execution_count": 79,
      "metadata": {
        "id": "RgxbwBUHgFei",
        "outputId": "22605a5a-86e1-47a5-992d-39fb97d4f9d7",
        "colab": {
          "base_uri": "https://localhost:8080/",
          "height": 286
        }
      },
      "outputs": [
        {
          "output_type": "display_data",
          "data": {
            "text/html": [
              "<table class=\"dataframe\">\n",
              "<caption>A tibble: 6 × 5</caption>\n",
              "<thead>\n",
              "\t<tr><th scope=col>TestDate</th><th scope=col>AgeGroup</th><th scope=col>PositiveCases</th><th scope=col>TotalTests</th><th scope=col>AgeCategory</th></tr>\n",
              "\t<tr><th scope=col>&lt;chr&gt;</th><th scope=col>&lt;chr&gt;</th><th scope=col>&lt;dbl&gt;</th><th scope=col>&lt;dbl&gt;</th><th scope=col>&lt;chr&gt;</th></tr>\n",
              "</thead>\n",
              "<tbody>\n",
              "\t<tr><td>3/4/2020</td><td>1 to 4 </td><td>0</td><td> 1</td><td>children</td></tr>\n",
              "\t<tr><td>3/4/2020</td><td>5 to 19</td><td>0</td><td> 3</td><td>children</td></tr>\n",
              "\t<tr><td>3/4/2020</td><td><span style=white-space:pre-wrap>&lt; 1    </span></td><td>0</td><td> 1</td><td>children</td></tr>\n",
              "\t<tr><td>3/5/2020</td><td>1 to 4 </td><td>0</td><td> 7</td><td>children</td></tr>\n",
              "\t<tr><td>3/5/2020</td><td>5 to 19</td><td>6</td><td>17</td><td>children</td></tr>\n",
              "\t<tr><td>3/5/2020</td><td><span style=white-space:pre-wrap>&lt; 1    </span></td><td>0</td><td> 2</td><td>children</td></tr>\n",
              "</tbody>\n",
              "</table>\n"
            ],
            "text/markdown": "\nA tibble: 6 × 5\n\n| TestDate &lt;chr&gt; | AgeGroup &lt;chr&gt; | PositiveCases &lt;dbl&gt; | TotalTests &lt;dbl&gt; | AgeCategory &lt;chr&gt; |\n|---|---|---|---|---|\n| 3/4/2020 | 1 to 4  | 0 |  1 | children |\n| 3/4/2020 | 5 to 19 | 0 |  3 | children |\n| 3/4/2020 | &lt; 1     | 0 |  1 | children |\n| 3/5/2020 | 1 to 4  | 0 |  7 | children |\n| 3/5/2020 | 5 to 19 | 6 | 17 | children |\n| 3/5/2020 | &lt; 1     | 0 |  2 | children |\n\n",
            "text/latex": "A tibble: 6 × 5\n\\begin{tabular}{lllll}\n TestDate & AgeGroup & PositiveCases & TotalTests & AgeCategory\\\\\n <chr> & <chr> & <dbl> & <dbl> & <chr>\\\\\n\\hline\n\t 3/4/2020 & 1 to 4  & 0 &  1 & children\\\\\n\t 3/4/2020 & 5 to 19 & 0 &  3 & children\\\\\n\t 3/4/2020 & < 1     & 0 &  1 & children\\\\\n\t 3/5/2020 & 1 to 4  & 0 &  7 & children\\\\\n\t 3/5/2020 & 5 to 19 & 6 & 17 & children\\\\\n\t 3/5/2020 & < 1     & 0 &  2 & children\\\\\n\\end{tabular}\n",
            "text/plain": [
              "  TestDate AgeGroup PositiveCases TotalTests AgeCategory\n",
              "1 3/4/2020 1 to 4   0              1         children   \n",
              "2 3/4/2020 5 to 19  0              3         children   \n",
              "3 3/4/2020 < 1      0              1         children   \n",
              "4 3/5/2020 1 to 4   0              7         children   \n",
              "5 3/5/2020 5 to 19  6             17         children   \n",
              "6 3/5/2020 < 1      0              2         children   "
            ]
          },
          "metadata": {}
        }
      ],
      "source": [
        "childrenDF <- subset(testDF, AgeCategory == \"children\")\n",
        "head(childrenDF)"
      ]
    },
    {
      "cell_type": "markdown",
      "metadata": {
        "id": "AgpVQ9-EgFej"
      },
      "source": [
        "## Part 3: Analyze the numeric variables in the **testDF** dataframe."
      ]
    },
    {
      "cell_type": "markdown",
      "metadata": {
        "id": "eIJJEDLigFej"
      },
      "source": [
        "A.\tHow many **numeric variables** does the dataframe have? You can figure that out by looking at the output of **str(testDF)**. "
      ]
    },
    {
      "cell_type": "code",
      "execution_count": 80,
      "metadata": {
        "id": "fmx373SlgFej",
        "outputId": "a0a69d4c-aa0d-40be-c8d3-b4f67ad9e361",
        "colab": {
          "base_uri": "https://localhost:8080/"
        }
      },
      "outputs": [
        {
          "output_type": "stream",
          "name": "stdout",
          "text": [
            "spec_tbl_df [7,383 × 5] (S3: spec_tbl_df/tbl_df/tbl/data.frame)\n",
            " $ TestDate     : chr [1:7383] \"3/2/2020\" \"3/3/2020\" \"3/3/2020\" \"3/3/2020\" ...\n",
            " $ AgeGroup     : chr [1:7383] \"45 to 54\" \"25 to 34\" \"35 to 44\" \"45 to 54\" ...\n",
            " $ PositiveCases: num [1:7383] 1 0 0 0 0 0 0 0 0 2 ...\n",
            " $ TotalTests   : num [1:7383] 1 2 1 1 2 2 1 1 5 2 ...\n",
            " $ AgeCategory  : chr [1:7383] \"middle-aged_adults\" \"young_adults\" \"middle-aged_adults\" \"middle-aged_adults\" ...\n",
            " - attr(*, \"spec\")=\n",
            "  .. cols(\n",
            "  ..   TestDate = \u001b[31mcol_character()\u001b[39m,\n",
            "  ..   AgeGroup = \u001b[31mcol_character()\u001b[39m,\n",
            "  ..   PositiveCases = \u001b[32mcol_double()\u001b[39m,\n",
            "  ..   TotalTests = \u001b[32mcol_double()\u001b[39m,\n",
            "  ..   AgeCategory = \u001b[31mcol_character()\u001b[39m\n",
            "  .. )\n",
            " - attr(*, \"problems\")=<externalptr> \n"
          ]
        }
      ],
      "source": [
        "str(testDF)"
      ]
    },
    {
      "cell_type": "markdown",
      "metadata": {
        "id": "iGoHrvDVgFej"
      },
      "source": [
        "B.\tWhat is the average number of total daily tests? Hint: Can you think of a mathematical function we've come across before to use on the **TotalTests** variable?"
      ]
    },
    {
      "cell_type": "code",
      "source": [
        "mean(testDF$TotalTests)"
      ],
      "metadata": {
        "id": "SPDDt9Vz3nor",
        "outputId": "4527ae50-35e0-485d-999b-ef6466df05c8",
        "colab": {
          "base_uri": "https://localhost:8080/",
          "height": 34
        }
      },
      "execution_count": 81,
      "outputs": [
        {
          "output_type": "display_data",
          "data": {
            "text/html": [
              "11724.9589597724"
            ],
            "text/markdown": "11724.9589597724",
            "text/latex": "11724.9589597724",
            "text/plain": [
              "[1] 11724.96"
            ]
          },
          "metadata": {}
        }
      ]
    },
    {
      "cell_type": "markdown",
      "metadata": {
        "id": "nk_k9BQvgFek"
      },
      "source": [
        "C.\tHow many tests were performed in the row with the highest number of total daily tests? What age category do they correspond to? "
      ]
    },
    {
      "cell_type": "code",
      "source": [
        "max(testDF$TotalTests)\n",
        "testDF[testDF$TotalTests == max(testDF$TotalTests),]"
      ],
      "metadata": {
        "id": "ysiQ8A_i3r85",
        "outputId": "fd880cd4-fe47-4476-c25d-832b0dfabb92",
        "colab": {
          "base_uri": "https://localhost:8080/",
          "height": 147
        }
      },
      "execution_count": 82,
      "outputs": [
        {
          "output_type": "display_data",
          "data": {
            "text/html": [
              "88904"
            ],
            "text/markdown": "88904",
            "text/latex": "88904",
            "text/plain": [
              "[1] 88904"
            ]
          },
          "metadata": {}
        },
        {
          "output_type": "display_data",
          "data": {
            "text/html": [
              "<table class=\"dataframe\">\n",
              "<caption>A tibble: 1 × 5</caption>\n",
              "<thead>\n",
              "\t<tr><th scope=col>TestDate</th><th scope=col>AgeGroup</th><th scope=col>PositiveCases</th><th scope=col>TotalTests</th><th scope=col>AgeCategory</th></tr>\n",
              "\t<tr><th scope=col>&lt;chr&gt;</th><th scope=col>&lt;chr&gt;</th><th scope=col>&lt;dbl&gt;</th><th scope=col>&lt;dbl&gt;</th><th scope=col>&lt;chr&gt;</th></tr>\n",
              "</thead>\n",
              "<tbody>\n",
              "\t<tr><td>12/26/0021</td><td>25 to 34</td><td>12588</td><td>88904</td><td>young_adults</td></tr>\n",
              "</tbody>\n",
              "</table>\n"
            ],
            "text/markdown": "\nA tibble: 1 × 5\n\n| TestDate &lt;chr&gt; | AgeGroup &lt;chr&gt; | PositiveCases &lt;dbl&gt; | TotalTests &lt;dbl&gt; | AgeCategory &lt;chr&gt; |\n|---|---|---|---|---|\n| 12/26/0021 | 25 to 34 | 12588 | 88904 | young_adults |\n\n",
            "text/latex": "A tibble: 1 × 5\n\\begin{tabular}{lllll}\n TestDate & AgeGroup & PositiveCases & TotalTests & AgeCategory\\\\\n <chr> & <chr> & <dbl> & <dbl> & <chr>\\\\\n\\hline\n\t 12/26/0021 & 25 to 34 & 12588 & 88904 & young\\_adults\\\\\n\\end{tabular}\n",
            "text/plain": [
              "  TestDate   AgeGroup PositiveCases TotalTests AgeCategory \n",
              "1 12/26/0021 25 to 34 12588         88904      young_adults"
            ]
          },
          "metadata": {}
        }
      ]
    },
    {
      "cell_type": "markdown",
      "metadata": {
        "id": "tcjG-9ZngFel"
      },
      "source": [
        "D. How many positive cases were registered in the row with the highest number of positive cases? What age category do they correspond to?"
      ]
    },
    {
      "cell_type": "code",
      "execution_count": 83,
      "metadata": {
        "id": "FfIrqE0WgFel",
        "outputId": "ed5218d2-8083-4aed-99d2-e60d512c5c84",
        "colab": {
          "base_uri": "https://localhost:8080/",
          "height": 147
        }
      },
      "outputs": [
        {
          "output_type": "display_data",
          "data": {
            "text/html": [
              "17486"
            ],
            "text/markdown": "17486",
            "text/latex": "17486",
            "text/plain": [
              "[1] 17486"
            ]
          },
          "metadata": {}
        },
        {
          "output_type": "display_data",
          "data": {
            "text/html": [
              "<table class=\"dataframe\">\n",
              "<caption>A tibble: 1 × 5</caption>\n",
              "<thead>\n",
              "\t<tr><th scope=col>TestDate</th><th scope=col>AgeGroup</th><th scope=col>PositiveCases</th><th scope=col>TotalTests</th><th scope=col>AgeCategory</th></tr>\n",
              "\t<tr><th scope=col>&lt;chr&gt;</th><th scope=col>&lt;chr&gt;</th><th scope=col>&lt;dbl&gt;</th><th scope=col>&lt;dbl&gt;</th><th scope=col>&lt;chr&gt;</th></tr>\n",
              "</thead>\n",
              "<tbody>\n",
              "\t<tr><td>12/31/2021</td><td>25 to 34</td><td>17486</td><td>78574</td><td>young_adults</td></tr>\n",
              "</tbody>\n",
              "</table>\n"
            ],
            "text/markdown": "\nA tibble: 1 × 5\n\n| TestDate &lt;chr&gt; | AgeGroup &lt;chr&gt; | PositiveCases &lt;dbl&gt; | TotalTests &lt;dbl&gt; | AgeCategory &lt;chr&gt; |\n|---|---|---|---|---|\n| 12/31/2021 | 25 to 34 | 17486 | 78574 | young_adults |\n\n",
            "text/latex": "A tibble: 1 × 5\n\\begin{tabular}{lllll}\n TestDate & AgeGroup & PositiveCases & TotalTests & AgeCategory\\\\\n <chr> & <chr> & <dbl> & <dbl> & <chr>\\\\\n\\hline\n\t 12/31/2021 & 25 to 34 & 17486 & 78574 & young\\_adults\\\\\n\\end{tabular}\n",
            "text/plain": [
              "  TestDate   AgeGroup PositiveCases TotalTests AgeCategory \n",
              "1 12/31/2021 25 to 34 17486         78574      young_adults"
            ]
          },
          "metadata": {}
        }
      ],
      "source": [
        "max(testDF$PositiveCases)\n",
        "testDF[testDF$PositiveCases == max(testDF$PositiveCases),]"
      ]
    },
    {
      "cell_type": "markdown",
      "metadata": {
        "id": "8A7UeUoHgFel"
      },
      "source": [
        "E.\tWhat is the total number of positive cases in **testDF**?"
      ]
    },
    {
      "cell_type": "code",
      "execution_count": 84,
      "metadata": {
        "id": "V5sfGTI6gFel",
        "outputId": "53d737d8-f819-4fd4-9ce8-4ec9254fa7c0",
        "colab": {
          "base_uri": "https://localhost:8080/",
          "height": 34
        }
      },
      "outputs": [
        {
          "output_type": "display_data",
          "data": {
            "text/html": [
              "3722542"
            ],
            "text/markdown": "3722542",
            "text/latex": "3722542",
            "text/plain": [
              "[1] 3722542"
            ]
          },
          "metadata": {}
        }
      ],
      "source": [
        "sum(testDF$PositiveCases)"
      ]
    },
    {
      "cell_type": "markdown",
      "source": [
        "F. Create a new variable in **testDF** which is the ratio of **PostiveCases** to **TotalTests**. Call this variable **PositivityRate** and explain in a comment what information it gives us."
      ],
      "metadata": {
        "id": "I4uzQowxCMo2"
      }
    },
    {
      "cell_type": "code",
      "source": [
        "testDF$PositivityRate<-testDF$PositiveCases/testDF$TotalTests\n"
      ],
      "metadata": {
        "id": "7MRe-aYFCM0t"
      },
      "execution_count": 86,
      "outputs": []
    },
    {
      "cell_type": "markdown",
      "source": [
        "G. What is the average positivity rate in **testDF**? Hint: Use the **mean()** function on the new variable you created in F."
      ],
      "metadata": {
        "id": "kKlWD9kcC0VN"
      }
    },
    {
      "cell_type": "code",
      "source": [
        "mean(testDF$PositivityRate)"
      ],
      "metadata": {
        "id": "wPSmfpkSC0iX",
        "outputId": "0b2dd84c-0cb1-43fc-c394-015848a6398b",
        "colab": {
          "base_uri": "https://localhost:8080/",
          "height": 34
        }
      },
      "execution_count": 88,
      "outputs": [
        {
          "output_type": "display_data",
          "data": {
            "text/html": [
              "0.0536363263753487"
            ],
            "text/markdown": "0.0536363263753487",
            "text/latex": "0.0536363263753487",
            "text/plain": [
              "[1] 0.05363633"
            ]
          },
          "metadata": {}
        }
      ]
    },
    {
      "cell_type": "markdown",
      "metadata": {
        "id": "Q-PDFIaZgFen"
      },
      "source": [
        "## Part 4:  Create a function to automate the process from F-G:"
      ]
    },
    {
      "cell_type": "markdown",
      "metadata": {
        "id": "ERJgEb9fgFen"
      },
      "source": [
        "A.\tThe following function should work most of the time. Make sure to run this code before trying to test it. That is how you make the new function known to R. **Add comments to each line explaining what it does:**"
      ]
    },
    {
      "cell_type": "code",
      "execution_count": 89,
      "metadata": {
        "id": "AfZuSGJbgFen"
      },
      "outputs": [],
      "source": [
        "calculatePositivity <- function(dataset) {\n",
        "  dataset$PositivityRate <- dataset$PositiveCases/dataset$TotalTests\n",
        "  avePositivity <- mean(dataset$PositivityRate)\n",
        "  return(avePositivity)\n",
        "}"
      ]
    },
    {
      "cell_type": "markdown",
      "metadata": {
        "id": "pVcB4akugFen"
      },
      "source": [
        "B.\tRun your new function on the **testDF** dataframe. Is the output of the function consistent with the output in Step G above? Explain."
      ]
    },
    {
      "cell_type": "code",
      "execution_count": 90,
      "metadata": {
        "id": "Dp7nGapZgFen",
        "outputId": "ef219445-db4e-459a-8e21-f3802f029611",
        "colab": {
          "base_uri": "https://localhost:8080/",
          "height": 34
        }
      },
      "outputs": [
        {
          "output_type": "display_data",
          "data": {
            "text/html": [
              "0.0536363263753487"
            ],
            "text/markdown": "0.0536363263753487",
            "text/latex": "0.0536363263753487",
            "text/plain": [
              "[1] 0.05363633"
            ]
          },
          "metadata": {}
        }
      ],
      "source": [
        "calculatePositivity(testDF)"
      ]
    },
    {
      "cell_type": "markdown",
      "metadata": {
        "id": "cr_es6qdgFeo"
      },
      "source": [
        "C. Run the function on the **olderAdults** df you created earlier."
      ]
    },
    {
      "cell_type": "code",
      "source": [
        "calculatePositivity(olderAdults)"
      ],
      "metadata": {
        "id": "2JJKXwxdEG3u",
        "outputId": "4773498a-2420-4d2e-fa6c-9da79f14c0aa",
        "colab": {
          "base_uri": "https://localhost:8080/",
          "height": 34
        }
      },
      "execution_count": 91,
      "outputs": [
        {
          "output_type": "display_data",
          "data": {
            "text/html": [
              "0.0538620219670733"
            ],
            "text/markdown": "0.0538620219670733",
            "text/latex": "0.0538620219670733",
            "text/plain": [
              "[1] 0.05386202"
            ]
          },
          "metadata": {}
        }
      ]
    },
    {
      "cell_type": "markdown",
      "metadata": {
        "id": "wL7DRtxzgFeo"
      },
      "source": [
        "D.\tRun the function on the **youngAdults** df."
      ]
    },
    {
      "cell_type": "code",
      "execution_count": 92,
      "metadata": {
        "id": "wPGXiJI5gFeo",
        "outputId": "5bd87a06-8870-4eb6-ad02-000c62ac1afa",
        "colab": {
          "base_uri": "https://localhost:8080/",
          "height": 34
        }
      },
      "outputs": [
        {
          "output_type": "display_data",
          "data": {
            "text/html": [
              "0.0543562677376065"
            ],
            "text/markdown": "0.0543562677376065",
            "text/latex": "0.0543562677376065",
            "text/plain": [
              "[1] 0.05435627"
            ]
          },
          "metadata": {}
        }
      ],
      "source": [
        "calculatePositivity(youngAdults)"
      ]
    },
    {
      "cell_type": "markdown",
      "metadata": {
        "id": "upKEzkfGgFeo"
      },
      "source": [
        "E. Lastly, run the posivity function on the **childrenDF** dataframe."
      ]
    },
    {
      "cell_type": "code",
      "execution_count": 93,
      "metadata": {
        "id": "SLaJ51rmgFeo",
        "outputId": "8ec37432-ef0f-4c0e-91b7-905a84175c2f",
        "colab": {
          "base_uri": "https://localhost:8080/",
          "height": 34
        }
      },
      "outputs": [
        {
          "output_type": "display_data",
          "data": {
            "text/html": [
              "0.0503491867715068"
            ],
            "text/markdown": "0.0503491867715068",
            "text/latex": "0.0503491867715068",
            "text/plain": [
              "[1] 0.05034919"
            ]
          },
          "metadata": {}
        }
      ],
      "source": [
        "calculatePositivity(childrenDF)"
      ]
    },
    {
      "cell_type": "markdown",
      "source": [
        "F. In a comment, describe what you observe across these 3 datasets - which age group exhibits the highest positivity rate? How do these numbers compare to the **baseline** positivity rate in **testDF**?"
      ],
      "metadata": {
        "id": "96HxNjKMEsZ9"
      }
    },
    {
      "cell_type": "code",
      "source": [],
      "metadata": {
        "id": "1S5oxpmnErpZ"
      },
      "execution_count": null,
      "outputs": []
    }
  ]
}