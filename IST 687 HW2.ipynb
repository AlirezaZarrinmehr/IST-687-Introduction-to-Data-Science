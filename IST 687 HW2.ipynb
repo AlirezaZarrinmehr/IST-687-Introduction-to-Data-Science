{
  "nbformat": 4,
  "nbformat_minor": 0,
  "metadata": {
    "colab": {
      "provenance": [],
      "collapsed_sections": [],
      "include_colab_link": true
    },
    "kernelspec": {
      "name": "ir",
      "display_name": "R"
    },
    "language_info": {
      "name": "R"
    }
  },
  "cells": [
    {
      "cell_type": "markdown",
      "metadata": {
        "id": "view-in-github",
        "colab_type": "text"
      },
      "source": [
        "<a href=\"https://colab.research.google.com/github/AlirezaZarrinmehr/Intro-to-Data-Science/blob/main/IST%20687%20HW2.ipynb\" target=\"_parent\"><img src=\"https://colab.research.google.com/assets/colab-badge.svg\" alt=\"Open In Colab\"/></a>"
      ]
    },
    {
      "cell_type": "markdown",
      "metadata": {
        "id": "AZhYskSPHemQ"
      },
      "source": [
        "# Intro to Data Science - HW 2\n",
        "\n",
        "##### Copyright 2022, Jeffrey Stanton, Jeffrey Saltz, and Jasmina Tacheva"
      ]
    },
    {
      "cell_type": "code",
      "execution_count": 23,
      "metadata": {
        "id": "WbLnuuEtHemQ"
      },
      "outputs": [],
      "source": [
        "# Enter your name here: "
      ]
    },
    {
      "cell_type": "markdown",
      "metadata": {
        "id": "wmBxE7GXHemR"
      },
      "source": [
        "### Attribution statement: (choose only one and delete the rest)"
      ]
    },
    {
      "cell_type": "code",
      "execution_count": 24,
      "metadata": {
        "id": "sIIKMY6iHemR"
      },
      "outputs": [],
      "source": [
        "# 1. I did this homework by myself, with help from the book and the professor.\n",
        "# 2. I did this homework with help from the book and the professor and these Internet sources:\n",
        "# 3. I did this homework with help from <Name of another student> but did not cut and paste any code."
      ]
    },
    {
      "cell_type": "markdown",
      "metadata": {
        "id": "CQ6l66X6HemS"
      },
      "source": [
        "### Reminders of things to practice from last week: \n",
        "Assignment arrow:  \t\t<- <br>\n",
        "The combine command: \tc( ) <br>\n",
        "Descriptive statistics: \tmean( ) sum( ) max( ) <br>\n",
        "Arithmetic operators:\t\t+ - * /<br>\n",
        "Boolean operators:\t\t>    <    >=    <=   ==   !=  <br>\n",
        "\n",
        "**This Week:** Explore the **quakes** dataset (which is included in R). \n",
        "\n",
        "\n",
        "<br>\n",
        "<br>\n",
        "\n",
        "**Step 0:** Prepare the data <br>\n",
        "A. Copy the **quakes** dataset into a new dataframe (call it **myQuakes**), so that if you need to start over, you can do so easily (by copying **quakes** into **myQuakes** again). Summarize the variables in **myQuakes** using an R command. Also, explore the structure of the dataframe - using another R command. In a brief comment, describe what this dataset is about based on your analysis of the variables in it. \n"
      ]
    },
    {
      "cell_type": "code",
      "execution_count": 25,
      "metadata": {
        "id": "pqkZ_1vsHemS",
        "outputId": "934f6a7f-af48-448d-92a5-c3fa793044e5",
        "colab": {
          "base_uri": "https://localhost:8080/",
          "height": 286
        }
      },
      "outputs": [
        {
          "output_type": "display_data",
          "data": {
            "text/html": [
              "<table class=\"dataframe\">\n",
              "<caption>A data.frame: 6 × 5</caption>\n",
              "<thead>\n",
              "\t<tr><th></th><th scope=col>lat</th><th scope=col>long</th><th scope=col>depth</th><th scope=col>mag</th><th scope=col>stations</th></tr>\n",
              "\t<tr><th></th><th scope=col>&lt;dbl&gt;</th><th scope=col>&lt;dbl&gt;</th><th scope=col>&lt;int&gt;</th><th scope=col>&lt;dbl&gt;</th><th scope=col>&lt;int&gt;</th></tr>\n",
              "</thead>\n",
              "<tbody>\n",
              "\t<tr><th scope=row>1</th><td>-20.42</td><td>181.62</td><td>562</td><td>4.8</td><td>41</td></tr>\n",
              "\t<tr><th scope=row>2</th><td>-20.62</td><td>181.03</td><td>650</td><td>4.2</td><td>15</td></tr>\n",
              "\t<tr><th scope=row>3</th><td>-26.00</td><td>184.10</td><td> 42</td><td>5.4</td><td>43</td></tr>\n",
              "\t<tr><th scope=row>4</th><td>-17.97</td><td>181.66</td><td>626</td><td>4.1</td><td>19</td></tr>\n",
              "\t<tr><th scope=row>5</th><td>-20.42</td><td>181.96</td><td>649</td><td>4.0</td><td>11</td></tr>\n",
              "\t<tr><th scope=row>6</th><td>-19.68</td><td>184.31</td><td>195</td><td>4.0</td><td>12</td></tr>\n",
              "</tbody>\n",
              "</table>\n"
            ],
            "text/markdown": "\nA data.frame: 6 × 5\n\n| <!--/--> | lat &lt;dbl&gt; | long &lt;dbl&gt; | depth &lt;int&gt; | mag &lt;dbl&gt; | stations &lt;int&gt; |\n|---|---|---|---|---|---|\n| 1 | -20.42 | 181.62 | 562 | 4.8 | 41 |\n| 2 | -20.62 | 181.03 | 650 | 4.2 | 15 |\n| 3 | -26.00 | 184.10 |  42 | 5.4 | 43 |\n| 4 | -17.97 | 181.66 | 626 | 4.1 | 19 |\n| 5 | -20.42 | 181.96 | 649 | 4.0 | 11 |\n| 6 | -19.68 | 184.31 | 195 | 4.0 | 12 |\n\n",
            "text/latex": "A data.frame: 6 × 5\n\\begin{tabular}{r|lllll}\n  & lat & long & depth & mag & stations\\\\\n  & <dbl> & <dbl> & <int> & <dbl> & <int>\\\\\n\\hline\n\t1 & -20.42 & 181.62 & 562 & 4.8 & 41\\\\\n\t2 & -20.62 & 181.03 & 650 & 4.2 & 15\\\\\n\t3 & -26.00 & 184.10 &  42 & 5.4 & 43\\\\\n\t4 & -17.97 & 181.66 & 626 & 4.1 & 19\\\\\n\t5 & -20.42 & 181.96 & 649 & 4.0 & 11\\\\\n\t6 & -19.68 & 184.31 & 195 & 4.0 & 12\\\\\n\\end{tabular}\n",
            "text/plain": [
              "  lat    long   depth mag stations\n",
              "1 -20.42 181.62 562   4.8 41      \n",
              "2 -20.62 181.03 650   4.2 15      \n",
              "3 -26.00 184.10  42   5.4 43      \n",
              "4 -17.97 181.66 626   4.1 19      \n",
              "5 -20.42 181.96 649   4.0 11      \n",
              "6 -19.68 184.31 195   4.0 12      "
            ]
          },
          "metadata": {}
        }
      ],
      "source": [
        "myQuakes <- quakes\n",
        "head(myQuakes)"
      ]
    },
    {
      "cell_type": "markdown",
      "metadata": {
        "id": "1VmtTmOiHemS"
      },
      "source": [
        "**Step 1:** Explore the earthquake magnitude variable called **mag**  <br>\n",
        "\n",
        "A.\tWhat is the average magnitude? Use mean() or summary():"
      ]
    },
    {
      "cell_type": "code",
      "execution_count": 26,
      "metadata": {
        "id": "ph516hxrHemT",
        "outputId": "da6c4db8-a9dd-4207-d9a4-93e4a0c9aab3",
        "colab": {
          "base_uri": "https://localhost:8080/",
          "height": 284
        }
      },
      "outputs": [
        {
          "output_type": "display_data",
          "data": {
            "text/html": [
              "4.6204"
            ],
            "text/markdown": "4.6204",
            "text/latex": "4.6204",
            "text/plain": [
              "[1] 4.6204"
            ]
          },
          "metadata": {}
        },
        {
          "output_type": "display_data",
          "data": {
            "text/plain": [
              "      lat              long           depth            mag      \n",
              " Min.   :-38.59   Min.   :165.7   Min.   : 40.0   Min.   :4.00  \n",
              " 1st Qu.:-23.47   1st Qu.:179.6   1st Qu.: 99.0   1st Qu.:4.30  \n",
              " Median :-20.30   Median :181.4   Median :247.0   Median :4.60  \n",
              " Mean   :-20.64   Mean   :179.5   Mean   :311.4   Mean   :4.62  \n",
              " 3rd Qu.:-17.64   3rd Qu.:183.2   3rd Qu.:543.0   3rd Qu.:4.90  \n",
              " Max.   :-10.72   Max.   :188.1   Max.   :680.0   Max.   :6.40  \n",
              "    stations     \n",
              " Min.   : 10.00  \n",
              " 1st Qu.: 18.00  \n",
              " Median : 27.00  \n",
              " Mean   : 33.42  \n",
              " 3rd Qu.: 42.00  \n",
              " Max.   :132.00  "
            ]
          },
          "metadata": {}
        }
      ],
      "source": [
        "mean(myQuakes$mag)\n",
        "summary(myQuakes)"
      ]
    },
    {
      "cell_type": "markdown",
      "metadata": {
        "id": "ApkafuZlHemT"
      },
      "source": [
        "B.\tWhat is the magnitude of the smallest earthquake? Use min() or summary() and save the result in a variable called **minQuake**:"
      ]
    },
    {
      "cell_type": "code",
      "execution_count": 51,
      "metadata": {
        "id": "BDcYUNhiHemU",
        "outputId": "1d8cda1a-bd42-43d6-fe17-19dbeee5977d",
        "colab": {
          "base_uri": "https://localhost:8080/",
          "height": 34
        }
      },
      "outputs": [
        {
          "output_type": "display_data",
          "data": {
            "text/html": [
              "4"
            ],
            "text/markdown": "4",
            "text/latex": "4",
            "text/plain": [
              "[1] 4"
            ]
          },
          "metadata": {}
        }
      ],
      "source": [
        "minQuake <- min(myQuakes$mag)\n",
        "minQuake\n",
        "#summary(myQuakes)"
      ]
    },
    {
      "cell_type": "markdown",
      "metadata": {
        "id": "RMy1_PNOHemT"
      },
      "source": [
        "C.\tWhat is the magnitude of the largest earthquake? Use max() or summary() and save the result in a variable called **maxQuake**:"
      ]
    },
    {
      "cell_type": "code",
      "source": [
        "maxQuake <- max(myQuakes$mag)\n",
        "maxQuake\n",
        "#summary(myQuakes)"
      ],
      "metadata": {
        "id": "osJy96H1fvwj",
        "outputId": "6ab47109-9d4a-4440-e623-04b5659fd925",
        "colab": {
          "base_uri": "https://localhost:8080/",
          "height": 34
        }
      },
      "execution_count": 52,
      "outputs": [
        {
          "output_type": "display_data",
          "data": {
            "text/html": [
              "6.4"
            ],
            "text/markdown": "6.4",
            "text/latex": "6.4",
            "text/plain": [
              "[1] 6.4"
            ]
          },
          "metadata": {}
        }
      ]
    },
    {
      "cell_type": "markdown",
      "metadata": {
        "id": "17gWHZV3HemU"
      },
      "source": [
        "D.\tOutput the **fourth row** of the dataframe:"
      ]
    },
    {
      "cell_type": "code",
      "execution_count": 29,
      "metadata": {
        "id": "NRPUu5H2a2xk",
        "outputId": "50361d0d-2bb5-48bd-a984-e7489b39e785",
        "colab": {
          "base_uri": "https://localhost:8080/",
          "height": 129
        }
      },
      "outputs": [
        {
          "output_type": "display_data",
          "data": {
            "text/html": [
              "<table class=\"dataframe\">\n",
              "<caption>A data.frame: 1 × 5</caption>\n",
              "<thead>\n",
              "\t<tr><th></th><th scope=col>lat</th><th scope=col>long</th><th scope=col>depth</th><th scope=col>mag</th><th scope=col>stations</th></tr>\n",
              "\t<tr><th></th><th scope=col>&lt;dbl&gt;</th><th scope=col>&lt;dbl&gt;</th><th scope=col>&lt;int&gt;</th><th scope=col>&lt;dbl&gt;</th><th scope=col>&lt;int&gt;</th></tr>\n",
              "</thead>\n",
              "<tbody>\n",
              "\t<tr><th scope=row>4</th><td>-17.97</td><td>181.66</td><td>626</td><td>4.1</td><td>19</td></tr>\n",
              "</tbody>\n",
              "</table>\n"
            ],
            "text/markdown": "\nA data.frame: 1 × 5\n\n| <!--/--> | lat &lt;dbl&gt; | long &lt;dbl&gt; | depth &lt;int&gt; | mag &lt;dbl&gt; | stations &lt;int&gt; |\n|---|---|---|---|---|---|\n| 4 | -17.97 | 181.66 | 626 | 4.1 | 19 |\n\n",
            "text/latex": "A data.frame: 1 × 5\n\\begin{tabular}{r|lllll}\n  & lat & long & depth & mag & stations\\\\\n  & <dbl> & <dbl> & <int> & <dbl> & <int>\\\\\n\\hline\n\t4 & -17.97 & 181.66 & 626 & 4.1 & 19\\\\\n\\end{tabular}\n",
            "text/plain": [
              "  lat    long   depth mag stations\n",
              "4 -17.97 181.66 626   4.1 19      "
            ]
          },
          "metadata": {}
        }
      ],
      "source": [
        "myQuakes[4,]"
      ]
    },
    {
      "cell_type": "markdown",
      "metadata": {
        "id": "mlA9luqwa2xl"
      },
      "source": [
        "E. Create a new dataframe, with only the rows where the **magnitude is greater than 4**. How many rows are in that dataframe (report this number using code, do not count by looking at the output):"
      ]
    },
    {
      "cell_type": "code",
      "execution_count": 30,
      "metadata": {
        "id": "T-mIHYfaHemU",
        "outputId": "40182124-f939-49af-cee7-a84eea1f2111",
        "colab": {
          "base_uri": "https://localhost:8080/",
          "height": 34
        }
      },
      "outputs": [
        {
          "output_type": "display_data",
          "data": {
            "text/html": [
              "954"
            ],
            "text/markdown": "954",
            "text/latex": "954",
            "text/plain": [
              "[1] 954"
            ]
          },
          "metadata": {}
        }
      ],
      "source": [
        "newDf <- myQuakes[myQuakes$mag>4,]\n",
        "nrow(newDf)"
      ]
    },
    {
      "cell_type": "markdown",
      "metadata": {
        "id": "NqBV_eU9WnZk"
      },
      "source": [
        "F.\tUsing the **arrange()** function, create a **sorted dataframe** based on magnitude and store it in **quakeSorted1**. Explain how this function works."
      ]
    },
    {
      "cell_type": "code",
      "execution_count": 31,
      "metadata": {
        "id": "3zH4cqqMWmwW"
      },
      "outputs": [],
      "source": [
        "library(tidyverse)\n",
        "quakeSorted1 <- myQuakes%>%arrange(mag)"
      ]
    },
    {
      "cell_type": "markdown",
      "source": [
        "G. Now create a second sorted dataframe called **quakeSorted2** using the **order()** function. Explain in a comment how the function works."
      ],
      "metadata": {
        "id": "RSaAg7XydWH1"
      }
    },
    {
      "cell_type": "code",
      "source": [
        "quakeSorted2 <- myQuakes[order(myQuakes$mag),]"
      ],
      "metadata": {
        "id": "0rB5_i_cdVfI"
      },
      "execution_count": 34,
      "outputs": []
    },
    {
      "cell_type": "markdown",
      "source": [
        "H. Print the top rows of each of the sorted dataframes using the **head()** function and explain in a comment what you see - did the two sorting functions produce a similar result?"
      ],
      "metadata": {
        "id": "OBaP4SJvdmVf"
      }
    },
    {
      "cell_type": "code",
      "source": [
        "head(quakeSorted1)"
      ],
      "metadata": {
        "id": "S-PaSK1Ad58m",
        "outputId": "16d6477a-7755-4f44-9d58-fe56bc07547b",
        "colab": {
          "base_uri": "https://localhost:8080/",
          "height": 286
        }
      },
      "execution_count": 38,
      "outputs": [
        {
          "output_type": "display_data",
          "data": {
            "text/html": [
              "<table class=\"dataframe\">\n",
              "<caption>A data.frame: 6 × 5</caption>\n",
              "<thead>\n",
              "\t<tr><th></th><th scope=col>lat</th><th scope=col>long</th><th scope=col>depth</th><th scope=col>mag</th><th scope=col>stations</th></tr>\n",
              "\t<tr><th></th><th scope=col>&lt;dbl&gt;</th><th scope=col>&lt;dbl&gt;</th><th scope=col>&lt;int&gt;</th><th scope=col>&lt;dbl&gt;</th><th scope=col>&lt;int&gt;</th></tr>\n",
              "</thead>\n",
              "<tbody>\n",
              "\t<tr><th scope=row>1</th><td>-20.42</td><td>181.96</td><td>649</td><td>4</td><td>11</td></tr>\n",
              "\t<tr><th scope=row>2</th><td>-19.68</td><td>184.31</td><td>195</td><td>4</td><td>12</td></tr>\n",
              "\t<tr><th scope=row>3</th><td>-17.94</td><td>181.49</td><td>537</td><td>4</td><td>15</td></tr>\n",
              "\t<tr><th scope=row>4</th><td>-23.55</td><td>180.80</td><td>349</td><td>4</td><td>10</td></tr>\n",
              "\t<tr><th scope=row>5</th><td>-19.26</td><td>184.42</td><td>223</td><td>4</td><td>15</td></tr>\n",
              "\t<tr><th scope=row>6</th><td>-22.06</td><td>180.60</td><td>584</td><td>4</td><td>11</td></tr>\n",
              "</tbody>\n",
              "</table>\n"
            ],
            "text/markdown": "\nA data.frame: 6 × 5\n\n| <!--/--> | lat &lt;dbl&gt; | long &lt;dbl&gt; | depth &lt;int&gt; | mag &lt;dbl&gt; | stations &lt;int&gt; |\n|---|---|---|---|---|---|\n| 1 | -20.42 | 181.96 | 649 | 4 | 11 |\n| 2 | -19.68 | 184.31 | 195 | 4 | 12 |\n| 3 | -17.94 | 181.49 | 537 | 4 | 15 |\n| 4 | -23.55 | 180.80 | 349 | 4 | 10 |\n| 5 | -19.26 | 184.42 | 223 | 4 | 15 |\n| 6 | -22.06 | 180.60 | 584 | 4 | 11 |\n\n",
            "text/latex": "A data.frame: 6 × 5\n\\begin{tabular}{r|lllll}\n  & lat & long & depth & mag & stations\\\\\n  & <dbl> & <dbl> & <int> & <dbl> & <int>\\\\\n\\hline\n\t1 & -20.42 & 181.96 & 649 & 4 & 11\\\\\n\t2 & -19.68 & 184.31 & 195 & 4 & 12\\\\\n\t3 & -17.94 & 181.49 & 537 & 4 & 15\\\\\n\t4 & -23.55 & 180.80 & 349 & 4 & 10\\\\\n\t5 & -19.26 & 184.42 & 223 & 4 & 15\\\\\n\t6 & -22.06 & 180.60 & 584 & 4 & 11\\\\\n\\end{tabular}\n",
            "text/plain": [
              "  lat    long   depth mag stations\n",
              "1 -20.42 181.96 649   4   11      \n",
              "2 -19.68 184.31 195   4   12      \n",
              "3 -17.94 181.49 537   4   15      \n",
              "4 -23.55 180.80 349   4   10      \n",
              "5 -19.26 184.42 223   4   15      \n",
              "6 -22.06 180.60 584   4   11      "
            ]
          },
          "metadata": {}
        }
      ]
    },
    {
      "cell_type": "code",
      "source": [
        "head(quakeSorted2)"
      ],
      "metadata": {
        "id": "tj8OT13JoHPM",
        "outputId": "62abd6fb-bae0-4e50-d5d2-79eb508191cb",
        "colab": {
          "base_uri": "https://localhost:8080/",
          "height": 286
        }
      },
      "execution_count": 37,
      "outputs": [
        {
          "output_type": "display_data",
          "data": {
            "text/html": [
              "<table class=\"dataframe\">\n",
              "<caption>A data.frame: 6 × 5</caption>\n",
              "<thead>\n",
              "\t<tr><th></th><th scope=col>lat</th><th scope=col>long</th><th scope=col>depth</th><th scope=col>mag</th><th scope=col>stations</th></tr>\n",
              "\t<tr><th></th><th scope=col>&lt;dbl&gt;</th><th scope=col>&lt;dbl&gt;</th><th scope=col>&lt;int&gt;</th><th scope=col>&lt;dbl&gt;</th><th scope=col>&lt;int&gt;</th></tr>\n",
              "</thead>\n",
              "<tbody>\n",
              "\t<tr><th scope=row>5</th><td>-20.42</td><td>181.96</td><td>649</td><td>4</td><td>11</td></tr>\n",
              "\t<tr><th scope=row>6</th><td>-19.68</td><td>184.31</td><td>195</td><td>4</td><td>12</td></tr>\n",
              "\t<tr><th scope=row>26</th><td>-17.94</td><td>181.49</td><td>537</td><td>4</td><td>15</td></tr>\n",
              "\t<tr><th scope=row>34</th><td>-23.55</td><td>180.80</td><td>349</td><td>4</td><td>10</td></tr>\n",
              "\t<tr><th scope=row>52</th><td>-19.26</td><td>184.42</td><td>223</td><td>4</td><td>15</td></tr>\n",
              "\t<tr><th scope=row>58</th><td>-22.06</td><td>180.60</td><td>584</td><td>4</td><td>11</td></tr>\n",
              "</tbody>\n",
              "</table>\n"
            ],
            "text/markdown": "\nA data.frame: 6 × 5\n\n| <!--/--> | lat &lt;dbl&gt; | long &lt;dbl&gt; | depth &lt;int&gt; | mag &lt;dbl&gt; | stations &lt;int&gt; |\n|---|---|---|---|---|---|\n| 5 | -20.42 | 181.96 | 649 | 4 | 11 |\n| 6 | -19.68 | 184.31 | 195 | 4 | 12 |\n| 26 | -17.94 | 181.49 | 537 | 4 | 15 |\n| 34 | -23.55 | 180.80 | 349 | 4 | 10 |\n| 52 | -19.26 | 184.42 | 223 | 4 | 15 |\n| 58 | -22.06 | 180.60 | 584 | 4 | 11 |\n\n",
            "text/latex": "A data.frame: 6 × 5\n\\begin{tabular}{r|lllll}\n  & lat & long & depth & mag & stations\\\\\n  & <dbl> & <dbl> & <int> & <dbl> & <int>\\\\\n\\hline\n\t5 & -20.42 & 181.96 & 649 & 4 & 11\\\\\n\t6 & -19.68 & 184.31 & 195 & 4 & 12\\\\\n\t26 & -17.94 & 181.49 & 537 & 4 & 15\\\\\n\t34 & -23.55 & 180.80 & 349 & 4 & 10\\\\\n\t52 & -19.26 & 184.42 & 223 & 4 & 15\\\\\n\t58 & -22.06 & 180.60 & 584 & 4 & 11\\\\\n\\end{tabular}\n",
            "text/plain": [
              "   lat    long   depth mag stations\n",
              "5  -20.42 181.96 649   4   11      \n",
              "6  -19.68 184.31 195   4   12      \n",
              "26 -17.94 181.49 537   4   15      \n",
              "34 -23.55 180.80 349   4   10      \n",
              "52 -19.26 184.42 223   4   15      \n",
              "58 -22.06 180.60 584   4   11      "
            ]
          },
          "metadata": {}
        }
      ]
    },
    {
      "cell_type": "markdown",
      "metadata": {
        "id": "OmTi7AL3HemV"
      },
      "source": [
        "I.\tWhat are the latitude and longitude of the quake reported by the largest number of stations?  "
      ]
    },
    {
      "cell_type": "code",
      "execution_count": 62,
      "metadata": {
        "id": "0qZqdfiBHemV",
        "outputId": "96b80ee2-09d2-4b6f-dab8-6c88c5a68e0b",
        "colab": {
          "base_uri": "https://localhost:8080/",
          "height": 147
        }
      },
      "outputs": [
        {
          "output_type": "display_data",
          "data": {
            "text/html": [
              "<table class=\"dataframe\">\n",
              "<caption>A data.frame: 1 × 2</caption>\n",
              "<thead>\n",
              "\t<tr><th scope=col>lat</th><th scope=col>long</th></tr>\n",
              "\t<tr><th scope=col>&lt;dbl&gt;</th><th scope=col>&lt;dbl&gt;</th></tr>\n",
              "</thead>\n",
              "<tbody>\n",
              "\t<tr><td>-12.23</td><td>167.02</td></tr>\n",
              "</tbody>\n",
              "</table>\n"
            ],
            "text/markdown": "\nA data.frame: 1 × 2\n\n| lat &lt;dbl&gt; | long &lt;dbl&gt; |\n|---|---|\n| -12.23 | 167.02 |\n\n",
            "text/latex": "A data.frame: 1 × 2\n\\begin{tabular}{ll}\n lat & long\\\\\n <dbl> & <dbl>\\\\\n\\hline\n\t -12.23 & 167.02\\\\\n\\end{tabular}\n",
            "text/plain": [
              "  lat    long  \n",
              "1 -12.23 167.02"
            ]
          },
          "metadata": {}
        }
      ],
      "source": [
        "select(filter(myQuakes, myQuakes$station == max(myQuakes$station)), lat, long)"
      ]
    },
    {
      "cell_type": "markdown",
      "metadata": {
        "id": "dpJyNdxmHemV"
      },
      "source": [
        "J.\tWhat are the latitude and longitude of the quake with the smallest magnitude?  "
      ]
    },
    {
      "cell_type": "code",
      "execution_count": 65,
      "metadata": {
        "id": "vbvrXXc0HemV",
        "outputId": "cf296b24-515f-4b72-890e-73040a0e3ee1",
        "colab": {
          "base_uri": "https://localhost:8080/",
          "height": 1000
        }
      },
      "outputs": [
        {
          "output_type": "display_data",
          "data": {
            "text/html": [
              "<table class=\"dataframe\">\n",
              "<caption>A data.frame: 46 × 2</caption>\n",
              "<thead>\n",
              "\t<tr><th scope=col>lat</th><th scope=col>long</th></tr>\n",
              "\t<tr><th scope=col>&lt;dbl&gt;</th><th scope=col>&lt;dbl&gt;</th></tr>\n",
              "</thead>\n",
              "<tbody>\n",
              "\t<tr><td>-20.42</td><td>181.96</td></tr>\n",
              "\t<tr><td>-19.68</td><td>184.31</td></tr>\n",
              "\t<tr><td>-17.94</td><td>181.49</td></tr>\n",
              "\t<tr><td>-23.55</td><td>180.80</td></tr>\n",
              "\t<tr><td>-19.26</td><td>184.42</td></tr>\n",
              "\t<tr><td>-22.06</td><td>180.60</td></tr>\n",
              "\t<tr><td>-15.31</td><td>185.80</td></tr>\n",
              "\t<tr><td>-17.70</td><td>181.70</td></tr>\n",
              "\t<tr><td>-19.73</td><td>182.40</td></tr>\n",
              "\t<tr><td>-19.06</td><td>182.45</td></tr>\n",
              "\t<tr><td>-20.65</td><td>181.40</td></tr>\n",
              "\t<tr><td>-17.90</td><td>181.50</td></tr>\n",
              "\t<tr><td>-17.70</td><td>182.20</td></tr>\n",
              "\t<tr><td>-23.54</td><td>179.93</td></tr>\n",
              "\t<tr><td>-17.70</td><td>185.00</td></tr>\n",
              "\t<tr><td>-17.94</td><td>181.51</td></tr>\n",
              "\t<tr><td>-30.64</td><td>181.20</td></tr>\n",
              "\t<tr><td>-16.90</td><td>185.72</td></tr>\n",
              "\t<tr><td>-10.72</td><td>165.99</td></tr>\n",
              "\t<tr><td>-18.55</td><td>182.23</td></tr>\n",
              "\t<tr><td>-22.70</td><td>183.30</td></tr>\n",
              "\t<tr><td>-21.00</td><td>183.20</td></tr>\n",
              "\t<tr><td>-17.02</td><td>182.93</td></tr>\n",
              "\t<tr><td>-19.51</td><td>183.97</td></tr>\n",
              "\t<tr><td>-15.43</td><td>185.19</td></tr>\n",
              "\t<tr><td>-17.91</td><td>181.48</td></tr>\n",
              "\t<tr><td>-17.10</td><td>182.80</td></tr>\n",
              "\t<tr><td>-30.30</td><td>180.80</td></tr>\n",
              "\t<tr><td>-25.60</td><td>180.30</td></tr>\n",
              "\t<tr><td>-20.70</td><td>186.30</td></tr>\n",
              "\t<tr><td>-16.40</td><td>182.73</td></tr>\n",
              "\t<tr><td>-21.60</td><td>180.50</td></tr>\n",
              "\t<tr><td>-17.90</td><td>181.50</td></tr>\n",
              "\t<tr><td>-28.00</td><td>182.00</td></tr>\n",
              "\t<tr><td>-22.12</td><td>180.49</td></tr>\n",
              "\t<tr><td>-21.62</td><td>182.40</td></tr>\n",
              "\t<tr><td>-19.70</td><td>182.44</td></tr>\n",
              "\t<tr><td>-18.50</td><td>185.40</td></tr>\n",
              "\t<tr><td>-21.03</td><td>180.78</td></tr>\n",
              "\t<tr><td>-17.80</td><td>181.20</td></tr>\n",
              "\t<tr><td>-17.82</td><td>181.27</td></tr>\n",
              "\t<tr><td>-25.06</td><td>182.80</td></tr>\n",
              "\t<tr><td>-18.14</td><td>181.71</td></tr>\n",
              "\t<tr><td>-23.49</td><td>180.06</td></tr>\n",
              "\t<tr><td>-17.86</td><td>181.30</td></tr>\n",
              "\t<tr><td>-17.95</td><td>181.37</td></tr>\n",
              "</tbody>\n",
              "</table>\n"
            ],
            "text/markdown": "\nA data.frame: 46 × 2\n\n| lat &lt;dbl&gt; | long &lt;dbl&gt; |\n|---|---|\n| -20.42 | 181.96 |\n| -19.68 | 184.31 |\n| -17.94 | 181.49 |\n| -23.55 | 180.80 |\n| -19.26 | 184.42 |\n| -22.06 | 180.60 |\n| -15.31 | 185.80 |\n| -17.70 | 181.70 |\n| -19.73 | 182.40 |\n| -19.06 | 182.45 |\n| -20.65 | 181.40 |\n| -17.90 | 181.50 |\n| -17.70 | 182.20 |\n| -23.54 | 179.93 |\n| -17.70 | 185.00 |\n| -17.94 | 181.51 |\n| -30.64 | 181.20 |\n| -16.90 | 185.72 |\n| -10.72 | 165.99 |\n| -18.55 | 182.23 |\n| -22.70 | 183.30 |\n| -21.00 | 183.20 |\n| -17.02 | 182.93 |\n| -19.51 | 183.97 |\n| -15.43 | 185.19 |\n| -17.91 | 181.48 |\n| -17.10 | 182.80 |\n| -30.30 | 180.80 |\n| -25.60 | 180.30 |\n| -20.70 | 186.30 |\n| -16.40 | 182.73 |\n| -21.60 | 180.50 |\n| -17.90 | 181.50 |\n| -28.00 | 182.00 |\n| -22.12 | 180.49 |\n| -21.62 | 182.40 |\n| -19.70 | 182.44 |\n| -18.50 | 185.40 |\n| -21.03 | 180.78 |\n| -17.80 | 181.20 |\n| -17.82 | 181.27 |\n| -25.06 | 182.80 |\n| -18.14 | 181.71 |\n| -23.49 | 180.06 |\n| -17.86 | 181.30 |\n| -17.95 | 181.37 |\n\n",
            "text/latex": "A data.frame: 46 × 2\n\\begin{tabular}{ll}\n lat & long\\\\\n <dbl> & <dbl>\\\\\n\\hline\n\t -20.42 & 181.96\\\\\n\t -19.68 & 184.31\\\\\n\t -17.94 & 181.49\\\\\n\t -23.55 & 180.80\\\\\n\t -19.26 & 184.42\\\\\n\t -22.06 & 180.60\\\\\n\t -15.31 & 185.80\\\\\n\t -17.70 & 181.70\\\\\n\t -19.73 & 182.40\\\\\n\t -19.06 & 182.45\\\\\n\t -20.65 & 181.40\\\\\n\t -17.90 & 181.50\\\\\n\t -17.70 & 182.20\\\\\n\t -23.54 & 179.93\\\\\n\t -17.70 & 185.00\\\\\n\t -17.94 & 181.51\\\\\n\t -30.64 & 181.20\\\\\n\t -16.90 & 185.72\\\\\n\t -10.72 & 165.99\\\\\n\t -18.55 & 182.23\\\\\n\t -22.70 & 183.30\\\\\n\t -21.00 & 183.20\\\\\n\t -17.02 & 182.93\\\\\n\t -19.51 & 183.97\\\\\n\t -15.43 & 185.19\\\\\n\t -17.91 & 181.48\\\\\n\t -17.10 & 182.80\\\\\n\t -30.30 & 180.80\\\\\n\t -25.60 & 180.30\\\\\n\t -20.70 & 186.30\\\\\n\t -16.40 & 182.73\\\\\n\t -21.60 & 180.50\\\\\n\t -17.90 & 181.50\\\\\n\t -28.00 & 182.00\\\\\n\t -22.12 & 180.49\\\\\n\t -21.62 & 182.40\\\\\n\t -19.70 & 182.44\\\\\n\t -18.50 & 185.40\\\\\n\t -21.03 & 180.78\\\\\n\t -17.80 & 181.20\\\\\n\t -17.82 & 181.27\\\\\n\t -25.06 & 182.80\\\\\n\t -18.14 & 181.71\\\\\n\t -23.49 & 180.06\\\\\n\t -17.86 & 181.30\\\\\n\t -17.95 & 181.37\\\\\n\\end{tabular}\n",
            "text/plain": [
              "   lat    long  \n",
              "1  -20.42 181.96\n",
              "2  -19.68 184.31\n",
              "3  -17.94 181.49\n",
              "4  -23.55 180.80\n",
              "5  -19.26 184.42\n",
              "6  -22.06 180.60\n",
              "7  -15.31 185.80\n",
              "8  -17.70 181.70\n",
              "9  -19.73 182.40\n",
              "10 -19.06 182.45\n",
              "11 -20.65 181.40\n",
              "12 -17.90 181.50\n",
              "13 -17.70 182.20\n",
              "14 -23.54 179.93\n",
              "15 -17.70 185.00\n",
              "16 -17.94 181.51\n",
              "17 -30.64 181.20\n",
              "18 -16.90 185.72\n",
              "19 -10.72 165.99\n",
              "20 -18.55 182.23\n",
              "21 -22.70 183.30\n",
              "22 -21.00 183.20\n",
              "23 -17.02 182.93\n",
              "24 -19.51 183.97\n",
              "25 -15.43 185.19\n",
              "26 -17.91 181.48\n",
              "27 -17.10 182.80\n",
              "28 -30.30 180.80\n",
              "29 -25.60 180.30\n",
              "30 -20.70 186.30\n",
              "31 -16.40 182.73\n",
              "32 -21.60 180.50\n",
              "33 -17.90 181.50\n",
              "34 -28.00 182.00\n",
              "35 -22.12 180.49\n",
              "36 -21.62 182.40\n",
              "37 -19.70 182.44\n",
              "38 -18.50 185.40\n",
              "39 -21.03 180.78\n",
              "40 -17.80 181.20\n",
              "41 -17.82 181.27\n",
              "42 -25.06 182.80\n",
              "43 -18.14 181.71\n",
              "44 -23.49 180.06\n",
              "45 -17.86 181.30\n",
              "46 -17.95 181.37"
            ]
          },
          "metadata": {}
        }
      ],
      "source": [
        "select(filter(myQuakes, myQuakes$mag == min(myQuakes$mag)), lat, long)"
      ]
    },
    {
      "cell_type": "markdown",
      "metadata": {
        "id": "I_aby-FLHemV"
      },
      "source": [
        "**Step 3:** Using conditional if statements <br>\n",
        "\n",
        "A.\t Test if **maxQuake** is greater than 6 (output “yes” or “no”) <br>\n",
        "**Hint:** Try modifying the following code in R: "
      ]
    },
    {
      "cell_type": "code",
      "execution_count": 66,
      "metadata": {
        "id": "DOy2M88qHemW",
        "outputId": "89217cb4-7c4e-4b3c-f578-ebc7729ce552",
        "colab": {
          "base_uri": "https://localhost:8080/",
          "height": 34
        }
      },
      "outputs": [
        {
          "output_type": "display_data",
          "data": {
            "text/html": [
              "'Yes'"
            ],
            "text/markdown": "'Yes'",
            "text/latex": "'Yes'",
            "text/plain": [
              "[1] \"Yes\""
            ]
          },
          "metadata": {}
        }
      ],
      "source": [
        "if  (maxQuake > 6) \"Yes\" else \"No\""
      ]
    },
    {
      "cell_type": "markdown",
      "metadata": {
        "id": "UeO6bqXQHemW"
      },
      "source": [
        "B.\t Following the same logic, test if **minQuake** is less than 3 (output “yes” or “no”):"
      ]
    },
    {
      "cell_type": "code",
      "source": [
        "if  (minQuake < 3) \"Yes\" else \"No\""
      ],
      "metadata": {
        "id": "tseS6XfzoYIY",
        "outputId": "dd90fd7c-4e0d-4cf1-8099-5a8227d284a6",
        "colab": {
          "base_uri": "https://localhost:8080/",
          "height": 34
        }
      },
      "execution_count": 67,
      "outputs": [
        {
          "output_type": "display_data",
          "data": {
            "text/html": [
              "'No'"
            ],
            "text/markdown": "'No'",
            "text/latex": "'No'",
            "text/plain": [
              "[1] \"No\""
            ]
          },
          "metadata": {}
        }
      ]
    }
  ]
}