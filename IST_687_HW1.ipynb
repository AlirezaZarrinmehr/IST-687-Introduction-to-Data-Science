{
  "nbformat": 4,
  "nbformat_minor": 0,
  "metadata": {
    "colab": {
      "provenance": [],
      "collapsed_sections": [],
      "include_colab_link": true
    },
    "kernelspec": {
      "name": "ir",
      "display_name": "R"
    },
    "language_info": {
      "name": "R"
    }
  },
  "cells": [
    {
      "cell_type": "markdown",
      "metadata": {
        "id": "view-in-github",
        "colab_type": "text"
      },
      "source": [
        "<a href=\"https://colab.research.google.com/github/AlirezaZarrinmehr/Intro-to-Data-Science/blob/main/IST_687_HW1.ipynb\" target=\"_parent\"><img src=\"https://colab.research.google.com/assets/colab-badge.svg\" alt=\"Open In Colab\"/></a>"
      ]
    },
    {
      "cell_type": "markdown",
      "metadata": {
        "id": "S5xKlqTBHL2f"
      },
      "source": [
        "## Intro to Data Science - HW 1\n",
        "##### Copyright 2022, Jeffrey Stanton, Jeffrey Saltz, and Jasmina Tacheva"
      ]
    },
    {
      "cell_type": "code",
      "execution_count": null,
      "metadata": {
        "id": "TDArhKc0HL2g"
      },
      "outputs": [],
      "source": [
        "# Enter your name here: "
      ]
    },
    {
      "cell_type": "markdown",
      "metadata": {
        "id": "cGHitmRjHL2g"
      },
      "source": [
        "### Attribution statement: (choose only one and delete the rest)"
      ]
    },
    {
      "cell_type": "code",
      "execution_count": null,
      "metadata": {
        "id": "OD8DkFNXHL2h"
      },
      "outputs": [],
      "source": [
        "# 1. I did this homework by myself, with help from the book and the professor.\n",
        "# 2. I did this homework with help from the book and the professor and these Internet sources:\n",
        "# 3. I did this homework with help from <Name of another student> but did not cut and paste any code."
      ]
    },
    {
      "cell_type": "markdown",
      "metadata": {
        "id": "wByWQ_c-HL2h"
      },
      "source": [
        "Define a variable:"
      ]
    },
    {
      "cell_type": "code",
      "execution_count": null,
      "metadata": {
        "id": "7aFjla_uHL2h"
      },
      "outputs": [],
      "source": [
        "value <- 150"
      ]
    },
    {
      "cell_type": "markdown",
      "source": [
        "Print the content of this new variable:"
      ],
      "metadata": {
        "id": "S1PgVuy9ZaCh"
      }
    },
    {
      "cell_type": "code",
      "source": [
        "value"
      ],
      "metadata": {
        "id": "CBVUSYQFZh3f",
        "outputId": "599a058e-77f1-48bf-ca74-2629c67dbe4b",
        "colab": {
          "base_uri": "https://localhost:8080/",
          "height": 34
        }
      },
      "execution_count": null,
      "outputs": [
        {
          "output_type": "display_data",
          "data": {
            "text/html": [
              "150"
            ],
            "text/markdown": "150",
            "text/latex": "150",
            "text/plain": [
              "[1] 150"
            ]
          },
          "metadata": {}
        }
      ]
    },
    {
      "cell_type": "markdown",
      "metadata": {
        "id": "uoi3mEmmHL2i"
      },
      "source": [
        "Define the following vectors, which represent the **hospital capacity** (measured in number of hospital beds) and **number of colleges** in each of the five counties in Central New York (CNY) – **Cayuga**, **Cortland**, **Madison**, **Onondaga**, and **Oswego**, in this order (e.g. the first number in the **capacity** vector suggests there are 124 hospital beds in Cayuga county):"
      ]
    },
    {
      "cell_type": "code",
      "execution_count": null,
      "metadata": {
        "id": "6EotifYEHL2i"
      },
      "outputs": [],
      "source": [
        "capacity <- c(124, 70, 51, 1403, 86)\n",
        "colleges <- c(2, 2, 3, 9, 2)"
      ]
    },
    {
      "cell_type": "markdown",
      "metadata": {
        "id": "TmQjdH24HL2i"
      },
      "source": [
        "# Part 1: Calculating statistics using R  "
      ]
    },
    {
      "cell_type": "markdown",
      "metadata": {
        "id": "52NxYexbHL2j"
      },
      "source": [
        "A.\tShow the number of observations in the **capacity** vector with the length() function: "
      ]
    },
    {
      "cell_type": "code",
      "execution_count": null,
      "metadata": {
        "id": "jvgD1j45HL2j",
        "outputId": "66051fc8-a137-4dec-c9ea-7efdbe7d048a",
        "colab": {
          "base_uri": "https://localhost:8080/",
          "height": 52
        }
      },
      "outputs": [
        {
          "output_type": "display_data",
          "data": {
            "text/html": [
              "5"
            ],
            "text/markdown": "5",
            "text/latex": "5",
            "text/plain": [
              "[1] 5"
            ]
          },
          "metadata": {}
        },
        {
          "output_type": "display_data",
          "data": {
            "text/html": [
              "5"
            ],
            "text/markdown": "5",
            "text/latex": "5",
            "text/plain": [
              "[1] 5"
            ]
          },
          "metadata": {}
        }
      ],
      "source": [
        "length(capacity)"
      ]
    },
    {
      "cell_type": "markdown",
      "metadata": {
        "id": "ufDhv11EHL2j"
      },
      "source": [
        "B.\tShow the number of observations in the **colleges** vector with the length() function:"
      ]
    },
    {
      "cell_type": "code",
      "execution_count": null,
      "metadata": {
        "id": "0zMfsQ4gHL2j"
      },
      "outputs": [],
      "source": [
        "length(colleges)"
      ]
    },
    {
      "cell_type": "markdown",
      "metadata": {
        "id": "RXxu154rHL2k"
      },
      "source": [
        "C.\tCalculate the average number of colleges in CNY using the mean() function:"
      ]
    },
    {
      "cell_type": "code",
      "execution_count": null,
      "metadata": {
        "id": "ugsYR8rCHL2k",
        "outputId": "f82a8f00-1143-4f5e-d176-bdb59e8c191e",
        "colab": {
          "base_uri": "https://localhost:8080/",
          "height": 34
        }
      },
      "outputs": [
        {
          "output_type": "display_data",
          "data": {
            "text/html": [
              "3.6"
            ],
            "text/markdown": "3.6",
            "text/latex": "3.6",
            "text/plain": [
              "[1] 3.6"
            ]
          },
          "metadata": {}
        }
      ],
      "source": [
        "mean(colleges)"
      ]
    },
    {
      "cell_type": "markdown",
      "metadata": {
        "id": "segX05F6HL2l"
      },
      "source": [
        "D.\tCalculate the total number of colleges in CNY using the sum() function:"
      ]
    },
    {
      "cell_type": "code",
      "execution_count": null,
      "metadata": {
        "id": "jVFDBr3CHL2l",
        "outputId": "c93cfdb8-4c74-4c38-d40b-04804d09e436",
        "colab": {
          "base_uri": "https://localhost:8080/",
          "height": 34
        }
      },
      "outputs": [
        {
          "output_type": "display_data",
          "data": {
            "text/html": [
              "18"
            ],
            "text/markdown": "18",
            "text/latex": "18",
            "text/plain": [
              "[1] 18"
            ]
          },
          "metadata": {}
        }
      ],
      "source": [
        "sum(colleges)"
      ]
    },
    {
      "cell_type": "markdown",
      "metadata": {
        "id": "ULXspYuJHL2j"
      },
      "source": [
        "E.\tCalculate the average CNY hospital capacity using the mean() function:"
      ]
    },
    {
      "cell_type": "code",
      "source": [
        "mean(capacity)"
      ],
      "metadata": {
        "id": "UOg58jIeYagr",
        "outputId": "0d0c4da0-0737-4e9f-eb4d-55b68a928a1f",
        "colab": {
          "base_uri": "https://localhost:8080/",
          "height": 34
        }
      },
      "execution_count": null,
      "outputs": [
        {
          "output_type": "display_data",
          "data": {
            "text/html": [
              "346.8"
            ],
            "text/markdown": "346.8",
            "text/latex": "346.8",
            "text/plain": [
              "[1] 346.8"
            ]
          },
          "metadata": {}
        }
      ]
    },
    {
      "cell_type": "markdown",
      "metadata": {
        "id": "9RNBrTK1HL2k"
      },
      "source": [
        "F.\tCalculate the total hospital capacity in CNY using the sum() function:"
      ]
    },
    {
      "cell_type": "code",
      "execution_count": null,
      "metadata": {
        "id": "EzytqkgqHL2l",
        "outputId": "18abe7ae-1fa4-4225-b6a2-f667747d7fe2",
        "colab": {
          "base_uri": "https://localhost:8080/",
          "height": 34
        }
      },
      "outputs": [
        {
          "output_type": "display_data",
          "data": {
            "text/html": [
              "1734"
            ],
            "text/markdown": "1734",
            "text/latex": "1734",
            "text/plain": [
              "[1] 1734"
            ]
          },
          "metadata": {}
        }
      ],
      "source": [
        "sum(capacity)"
      ]
    },
    {
      "cell_type": "markdown",
      "metadata": {
        "id": "41RxK-ZjHL2l"
      },
      "source": [
        "G.\tCalculate the average number of colleges in CNY again, this time using **the results from steps B & D**:"
      ]
    },
    {
      "cell_type": "code",
      "execution_count": null,
      "metadata": {
        "id": "muqLZ5B5HL2l",
        "outputId": "303a4e01-b8d8-4200-ef1e-9f6cd4ccd449",
        "colab": {
          "base_uri": "https://localhost:8080/",
          "height": 34
        }
      },
      "outputs": [
        {
          "output_type": "display_data",
          "data": {
            "text/html": [
              "3.6"
            ],
            "text/markdown": "3.6",
            "text/latex": "3.6",
            "text/plain": [
              "[1] 3.6"
            ]
          },
          "metadata": {}
        }
      ],
      "source": [
        "sum(colleges)/length(colleges)"
      ]
    },
    {
      "cell_type": "markdown",
      "metadata": {
        "id": "m-7vj6y6HL2l"
      },
      "source": [
        "H.\tCalculate the average CNY hospital capacity again, this time using **the results from steps A & F**:"
      ]
    },
    {
      "cell_type": "code",
      "execution_count": null,
      "metadata": {
        "id": "FZu31EbIHL2m",
        "outputId": "e8aa6f18-e7f7-4b09-d7cf-c056020df1c7",
        "colab": {
          "base_uri": "https://localhost:8080/",
          "height": 34
        }
      },
      "outputs": [
        {
          "output_type": "display_data",
          "data": {
            "text/html": [
              "346.8"
            ],
            "text/markdown": "346.8",
            "text/latex": "346.8",
            "text/plain": [
              "[1] 346.8"
            ]
          },
          "metadata": {}
        }
      ],
      "source": [
        "sum(capacity)/length(capacity)"
      ]
    },
    {
      "cell_type": "markdown",
      "metadata": {
        "id": "RETC7Pb_HL2m"
      },
      "source": [
        "# Part 2: Using the max/min and range functions in R"
      ]
    },
    {
      "cell_type": "markdown",
      "metadata": {
        "id": "s2gcH8z-HL2m"
      },
      "source": [
        "I.\tHow many colleges does the county with most colleges have? Hint: Use the max() function:"
      ]
    },
    {
      "cell_type": "code",
      "execution_count": null,
      "metadata": {
        "id": "dA7clQKuHL2m",
        "outputId": "c28939bd-f7be-4be3-95db-cc8c826f20a8",
        "colab": {
          "base_uri": "https://localhost:8080/",
          "height": 34
        }
      },
      "outputs": [
        {
          "output_type": "display_data",
          "data": {
            "text/html": [
              "9"
            ],
            "text/markdown": "9",
            "text/latex": "9",
            "text/plain": [
              "[1] 9"
            ]
          },
          "metadata": {}
        }
      ],
      "source": [
        "max(colleges)"
      ]
    },
    {
      "cell_type": "markdown",
      "metadata": {
        "id": "EwpI86yFHL2m"
      },
      "source": [
        "J.\tWhat is the hospital capacity of the county with the smallest number of hospital beds in CNY? **Hint:** Use the min() function:"
      ]
    },
    {
      "cell_type": "code",
      "execution_count": null,
      "metadata": {
        "id": "HZtjBBPoHL2m",
        "outputId": "c6d9599a-90ae-4d09-bcc4-6ce5a4a3082b",
        "colab": {
          "base_uri": "https://localhost:8080/",
          "height": 34
        }
      },
      "outputs": [
        {
          "output_type": "display_data",
          "data": {
            "text/html": [
              "51"
            ],
            "text/markdown": "51",
            "text/latex": "51",
            "text/plain": [
              "[1] 51"
            ]
          },
          "metadata": {}
        }
      ],
      "source": [
        "min(capacity)"
      ]
    },
    {
      "cell_type": "markdown",
      "metadata": {
        "id": "z-UdneF1HL2m"
      },
      "source": [
        "K.\tDisplay the number of beds in the county with the highest hospital capacity and the county with the lowest hospital capacity together, using a single command. **Hint:** Use the range() function:"
      ]
    },
    {
      "cell_type": "code",
      "execution_count": null,
      "metadata": {
        "id": "MCzwj3mFHL2m",
        "outputId": "cb1ae06c-e69a-4599-bee6-e7599bc76ab0",
        "colab": {
          "base_uri": "https://localhost:8080/",
          "height": 34
        }
      },
      "outputs": [
        {
          "output_type": "display_data",
          "data": {
            "text/html": [
              "<style>\n",
              ".list-inline {list-style: none; margin:0; padding: 0}\n",
              ".list-inline>li {display: inline-block}\n",
              ".list-inline>li:not(:last-child)::after {content: \"\\00b7\"; padding: 0 .5ex}\n",
              "</style>\n",
              "<ol class=list-inline><li>51</li><li>1403</li></ol>\n"
            ],
            "text/markdown": "1. 51\n2. 1403\n\n\n",
            "text/latex": "\\begin{enumerate*}\n\\item 51\n\\item 1403\n\\end{enumerate*}\n",
            "text/plain": [
              "[1]   51 1403"
            ]
          },
          "metadata": {}
        }
      ],
      "source": [
        "range(capacity)"
      ]
    },
    {
      "cell_type": "markdown",
      "metadata": {
        "id": "ge0TOYQ1HL2n"
      },
      "source": [
        "# Part 3: Vector Math"
      ]
    },
    {
      "cell_type": "markdown",
      "metadata": {
        "id": "lb2y_mUcHL2n"
      },
      "source": [
        "L.\tCreate a new vector called **lowerCap**, which is the current hospital capacity of each county **1 10** (each county has 100 more hospital beds):"
      ]
    },
    {
      "cell_type": "code",
      "execution_count": null,
      "metadata": {
        "id": "6THBDj_jHL2n"
      },
      "outputs": [],
      "source": [
        "lowerCap <- capacity -10"
      ]
    },
    {
      "cell_type": "markdown",
      "metadata": {
        "id": "5hBrL9qrHL2n"
      },
      "source": [
        "M.\t Calculate the average of **lowerCap**:"
      ]
    },
    {
      "cell_type": "code",
      "execution_count": null,
      "metadata": {
        "id": "BgDxBx6KHL2n",
        "outputId": "234c9018-9139-416e-f6ed-5f0c1ec244b5",
        "colab": {
          "base_uri": "https://localhost:8080/",
          "height": 34
        }
      },
      "outputs": [
        {
          "output_type": "display_data",
          "data": {
            "text/html": [
              "336.8"
            ],
            "text/markdown": "336.8",
            "text/latex": "336.8",
            "text/plain": [
              "[1] 336.8"
            ]
          },
          "metadata": {}
        }
      ],
      "source": [
        "mean(lowerCap)"
      ]
    },
    {
      "cell_type": "markdown",
      "source": [
        "N. Create another vector called **megaCap**, which is the original hospital capacity in each county (stored in **capacity**) plus **value** (the variable we declared in the beginning of this assignment). "
      ],
      "metadata": {
        "id": "rxATHYoNZwh4"
      }
    },
    {
      "cell_type": "code",
      "source": [
        "megaCap <- capacity + value"
      ],
      "metadata": {
        "id": "pdDMbtKvaQKL"
      },
      "execution_count": null,
      "outputs": []
    },
    {
      "cell_type": "markdown",
      "source": [
        "O. Print the content of **megaCap**:"
      ],
      "metadata": {
        "id": "GUjZ8-e7aQhU"
      }
    },
    {
      "cell_type": "code",
      "source": [
        "megaCap"
      ],
      "metadata": {
        "id": "FR8hk50VaWca",
        "outputId": "190f785d-68c6-4351-a79b-5c01d5f9b33e",
        "colab": {
          "base_uri": "https://localhost:8080/",
          "height": 34
        }
      },
      "execution_count": null,
      "outputs": [
        {
          "output_type": "display_data",
          "data": {
            "text/html": [
              "<style>\n",
              ".list-inline {list-style: none; margin:0; padding: 0}\n",
              ".list-inline>li {display: inline-block}\n",
              ".list-inline>li:not(:last-child)::after {content: \"\\00b7\"; padding: 0 .5ex}\n",
              "</style>\n",
              "<ol class=list-inline><li>274</li><li>220</li><li>201</li><li>1553</li><li>236</li></ol>\n"
            ],
            "text/markdown": "1. 274\n2. 220\n3. 201\n4. 1553\n5. 236\n\n\n",
            "text/latex": "\\begin{enumerate*}\n\\item 274\n\\item 220\n\\item 201\n\\item 1553\n\\item 236\n\\end{enumerate*}\n",
            "text/plain": [
              "[1]  274  220  201 1553  236"
            ]
          },
          "metadata": {}
        }
      ]
    },
    {
      "cell_type": "markdown",
      "metadata": {
        "id": "M-T4uW3kHL2n"
      },
      "source": [
        "P.\tIn a variable called **bigCap**, store all the hospital numbers from the original **capacity** vector which are **greater than 80** (using **subsetting** in R):"
      ]
    },
    {
      "cell_type": "code",
      "execution_count": null,
      "metadata": {
        "id": "UuLSlpBqHL2n"
      },
      "outputs": [],
      "source": [
        "bigCap <- capacity[capacity>80]"
      ]
    },
    {
      "cell_type": "markdown",
      "metadata": {
        "id": "7BLOes79HL2o"
      },
      "source": [
        "Q.\tPrint the length of **bigCap** and explain in a comment how many counties have more than 80 hospital beds:"
      ]
    },
    {
      "cell_type": "code",
      "execution_count": null,
      "metadata": {
        "id": "ppurVMh4HL2o",
        "outputId": "c653700e-c8d6-4761-81db-97bc320a59a9",
        "colab": {
          "base_uri": "https://localhost:8080/",
          "height": 34
        }
      },
      "outputs": [
        {
          "output_type": "display_data",
          "data": {
            "text/html": [
              "3"
            ],
            "text/markdown": "3",
            "text/latex": "3",
            "text/plain": [
              "[1] 3"
            ]
          },
          "metadata": {}
        }
      ],
      "source": [
        "length(bigCap)"
      ]
    }
  ]
}