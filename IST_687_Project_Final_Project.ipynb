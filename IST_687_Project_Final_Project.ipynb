{
  "cells": [
    {
      "cell_type": "markdown",
      "metadata": {
        "id": "view-in-github",
        "colab_type": "text"
      },
      "source": [
        "<a href=\"https://colab.research.google.com/github/AlirezaZarrinmehr/Intro-to-Data-Science/blob/main/IST_687_Project_Final_Project.ipynb\" target=\"_parent\"><img src=\"https://colab.research.google.com/assets/colab-badge.svg\" alt=\"Open In Colab\"/></a>"
      ]
    },
    {
      "cell_type": "markdown",
      "metadata": {
        "id": "AZhYskSPHemQ"
      },
      "source": [
        "# Intro to Data Science - Final Project \n",
        "\n",
        "##### Copyright 2022, Group 4\n"
      ]
    },
    {
      "cell_type": "markdown",
      "metadata": {
        "id": "LqFvQXREdHeu"
      },
      "source": [
        "###1-Importing the libraries:"
      ]
    },
    {
      "cell_type": "code",
      "execution_count": 2,
      "metadata": {
        "id": "WbLnuuEtHemQ"
      },
      "outputs": [],
      "source": [
        "# install.packages('arules')\n",
        "# install.packages('arulesViz')\n",
        "# install.packages('MASS')\n",
        "# install.packages('maps')\n",
        "# install.packages('ggplot2')\n",
        "# install.packages('ggmap')\n",
        "# install.packages('mapproj')\n",
        "# install.packages('imputeTS')\n",
        "# install.packages('caret')\n",
        "# install.packages('arulesViz')\n",
        "# install.packages('arules')\n",
        "# install.packages('kernlab')\n",
        "library(tidyverse)\n",
        "library(MASS)\n",
        "library(imputeTS)\n",
        "library(ggplot2)\n",
        "library(maps)\n",
        "library(ggmap)\n",
        "library(mapproj)\n",
        "library(kernlab)"
      ]
    },
    {
      "cell_type": "markdown",
      "metadata": {
        "id": "qEZNmQdsq1Cq"
      },
      "source": [
        "###2-Storing the data in df dataset\n"
      ]
    },
    {
      "cell_type": "code",
      "execution_count": 3,
      "metadata": {
        "id": "QfLTAXVjrA3t",
        "colab": {
          "base_uri": "https://localhost:8080/",
          "height": 449
        },
        "outputId": "8a95eefe-588b-4128-db77-21b513c2586f"
      },
      "outputs": [
        {
          "output_type": "stream",
          "name": "stderr",
          "text": [
            "\u001b[1mRows: \u001b[22m\u001b[34m7582\u001b[39m \u001b[1mColumns: \u001b[22m\u001b[34m14\u001b[39m\n",
            "\u001b[36m──\u001b[39m \u001b[1mColumn specification\u001b[22m \u001b[36m────────────────────────────────────────────────────────\u001b[39m\n",
            "\u001b[1mDelimiter:\u001b[22m \",\"\n",
            "\u001b[31mchr\u001b[39m (8): smoker, location, location_type, education_level, yearly_physical, ...\n",
            "\u001b[32mdbl\u001b[39m (6): X, age, bmi, children, hypertension, cost\n",
            "\n",
            "\u001b[36mℹ\u001b[39m Use `spec()` to retrieve the full column specification for this data.\n",
            "\u001b[36mℹ\u001b[39m Specify the column types or set `show_col_types = FALSE` to quiet this message.\n"
          ]
        },
        {
          "output_type": "display_data",
          "data": {
            "text/html": [
              "<table class=\"dataframe\">\n",
              "<caption>A tibble: 6 × 14</caption>\n",
              "<thead>\n",
              "\t<tr><th scope=col>X</th><th scope=col>age</th><th scope=col>bmi</th><th scope=col>children</th><th scope=col>smoker</th><th scope=col>location</th><th scope=col>location_type</th><th scope=col>education_level</th><th scope=col>yearly_physical</th><th scope=col>exercise</th><th scope=col>married</th><th scope=col>hypertension</th><th scope=col>gender</th><th scope=col>cost</th></tr>\n",
              "\t<tr><th scope=col>&lt;dbl&gt;</th><th scope=col>&lt;dbl&gt;</th><th scope=col>&lt;dbl&gt;</th><th scope=col>&lt;dbl&gt;</th><th scope=col>&lt;chr&gt;</th><th scope=col>&lt;chr&gt;</th><th scope=col>&lt;chr&gt;</th><th scope=col>&lt;chr&gt;</th><th scope=col>&lt;chr&gt;</th><th scope=col>&lt;chr&gt;</th><th scope=col>&lt;chr&gt;</th><th scope=col>&lt;dbl&gt;</th><th scope=col>&lt;chr&gt;</th><th scope=col>&lt;dbl&gt;</th></tr>\n",
              "</thead>\n",
              "<tbody>\n",
              "\t<tr><td>1</td><td>18</td><td>27.900</td><td>0</td><td>yes</td><td>CONNECTICUT  </td><td>Urban  </td><td>Bachelor</td><td>No</td><td>Active    </td><td>Married</td><td>0</td><td>female</td><td>1746</td></tr>\n",
              "\t<tr><td>2</td><td>19</td><td>33.770</td><td>1</td><td>no </td><td>RHODE ISLAND </td><td>Urban  </td><td>Bachelor</td><td>No</td><td>Not-Active</td><td>Married</td><td>0</td><td>male  </td><td> 602</td></tr>\n",
              "\t<tr><td>3</td><td>27</td><td>33.000</td><td>3</td><td>no </td><td>MASSACHUSETTS</td><td>Urban  </td><td>Master  </td><td>No</td><td>Active    </td><td>Married</td><td>0</td><td>male  </td><td> 576</td></tr>\n",
              "\t<tr><td>4</td><td>34</td><td>22.705</td><td>0</td><td>no </td><td>PENNSYLVANIA </td><td>Country</td><td>Master  </td><td>No</td><td>Not-Active</td><td>Married</td><td>1</td><td>male  </td><td>5562</td></tr>\n",
              "\t<tr><td>5</td><td>32</td><td>28.880</td><td>0</td><td>no </td><td>PENNSYLVANIA </td><td>Country</td><td>PhD     </td><td>No</td><td>Not-Active</td><td>Married</td><td>0</td><td>male  </td><td> 836</td></tr>\n",
              "\t<tr><td>7</td><td>47</td><td>33.440</td><td>1</td><td>no </td><td>PENNSYLVANIA </td><td>Urban  </td><td>Bachelor</td><td>No</td><td>Not-Active</td><td>Married</td><td>0</td><td>female</td><td>3842</td></tr>\n",
              "</tbody>\n",
              "</table>\n"
            ],
            "text/markdown": "\nA tibble: 6 × 14\n\n| X &lt;dbl&gt; | age &lt;dbl&gt; | bmi &lt;dbl&gt; | children &lt;dbl&gt; | smoker &lt;chr&gt; | location &lt;chr&gt; | location_type &lt;chr&gt; | education_level &lt;chr&gt; | yearly_physical &lt;chr&gt; | exercise &lt;chr&gt; | married &lt;chr&gt; | hypertension &lt;dbl&gt; | gender &lt;chr&gt; | cost &lt;dbl&gt; |\n|---|---|---|---|---|---|---|---|---|---|---|---|---|---|\n| 1 | 18 | 27.900 | 0 | yes | CONNECTICUT   | Urban   | Bachelor | No | Active     | Married | 0 | female | 1746 |\n| 2 | 19 | 33.770 | 1 | no  | RHODE ISLAND  | Urban   | Bachelor | No | Not-Active | Married | 0 | male   |  602 |\n| 3 | 27 | 33.000 | 3 | no  | MASSACHUSETTS | Urban   | Master   | No | Active     | Married | 0 | male   |  576 |\n| 4 | 34 | 22.705 | 0 | no  | PENNSYLVANIA  | Country | Master   | No | Not-Active | Married | 1 | male   | 5562 |\n| 5 | 32 | 28.880 | 0 | no  | PENNSYLVANIA  | Country | PhD      | No | Not-Active | Married | 0 | male   |  836 |\n| 7 | 47 | 33.440 | 1 | no  | PENNSYLVANIA  | Urban   | Bachelor | No | Not-Active | Married | 0 | female | 3842 |\n\n",
            "text/latex": "A tibble: 6 × 14\n\\begin{tabular}{llllllllllllll}\n X & age & bmi & children & smoker & location & location\\_type & education\\_level & yearly\\_physical & exercise & married & hypertension & gender & cost\\\\\n <dbl> & <dbl> & <dbl> & <dbl> & <chr> & <chr> & <chr> & <chr> & <chr> & <chr> & <chr> & <dbl> & <chr> & <dbl>\\\\\n\\hline\n\t 1 & 18 & 27.900 & 0 & yes & CONNECTICUT   & Urban   & Bachelor & No & Active     & Married & 0 & female & 1746\\\\\n\t 2 & 19 & 33.770 & 1 & no  & RHODE ISLAND  & Urban   & Bachelor & No & Not-Active & Married & 0 & male   &  602\\\\\n\t 3 & 27 & 33.000 & 3 & no  & MASSACHUSETTS & Urban   & Master   & No & Active     & Married & 0 & male   &  576\\\\\n\t 4 & 34 & 22.705 & 0 & no  & PENNSYLVANIA  & Country & Master   & No & Not-Active & Married & 1 & male   & 5562\\\\\n\t 5 & 32 & 28.880 & 0 & no  & PENNSYLVANIA  & Country & PhD      & No & Not-Active & Married & 0 & male   &  836\\\\\n\t 7 & 47 & 33.440 & 1 & no  & PENNSYLVANIA  & Urban   & Bachelor & No & Not-Active & Married & 0 & female & 3842\\\\\n\\end{tabular}\n",
            "text/plain": [
              "  X age bmi    children smoker location      location_type education_level\n",
              "1 1 18  27.900 0        yes    CONNECTICUT   Urban         Bachelor       \n",
              "2 2 19  33.770 1        no     RHODE ISLAND  Urban         Bachelor       \n",
              "3 3 27  33.000 3        no     MASSACHUSETTS Urban         Master         \n",
              "4 4 34  22.705 0        no     PENNSYLVANIA  Country       Master         \n",
              "5 5 32  28.880 0        no     PENNSYLVANIA  Country       PhD            \n",
              "6 7 47  33.440 1        no     PENNSYLVANIA  Urban         Bachelor       \n",
              "  yearly_physical exercise   married hypertension gender cost\n",
              "1 No              Active     Married 0            female 1746\n",
              "2 No              Not-Active Married 0            male    602\n",
              "3 No              Active     Married 0            male    576\n",
              "4 No              Not-Active Married 1            male   5562\n",
              "5 No              Not-Active Married 0            male    836\n",
              "6 No              Not-Active Married 0            female 3842"
            ]
          },
          "metadata": {}
        }
      ],
      "source": [
        "df<- read_csv('https://intro-datascience.s3.us-east-2.amazonaws.com/HMO_data.csv')\n",
        "head(df)"
      ]
    },
    {
      "cell_type": "markdown",
      "metadata": {
        "id": "K1akDEmjq_C-"
      },
      "source": [
        "###3-Converting the data type to factor:\n"
      ]
    },
    {
      "cell_type": "code",
      "execution_count": 4,
      "metadata": {
        "id": "_uqs1YqhUZwT",
        "colab": {
          "base_uri": "https://localhost:8080/",
          "height": 324
        },
        "outputId": "9edbfe28-62f3-4cca-998e-6b9192595e20"
      },
      "outputs": [
        {
          "output_type": "display_data",
          "data": {
            "text/html": [
              "<table class=\"dataframe\">\n",
              "<caption>A tibble: 6 × 14</caption>\n",
              "<thead>\n",
              "\t<tr><th scope=col>X</th><th scope=col>age</th><th scope=col>bmi</th><th scope=col>children</th><th scope=col>smoker</th><th scope=col>location</th><th scope=col>location_type</th><th scope=col>education_level</th><th scope=col>yearly_physical</th><th scope=col>exercise</th><th scope=col>married</th><th scope=col>hypertension</th><th scope=col>gender</th><th scope=col>cost</th></tr>\n",
              "\t<tr><th scope=col>&lt;dbl&gt;</th><th scope=col>&lt;dbl&gt;</th><th scope=col>&lt;dbl&gt;</th><th scope=col>&lt;fct&gt;</th><th scope=col>&lt;fct&gt;</th><th scope=col>&lt;fct&gt;</th><th scope=col>&lt;fct&gt;</th><th scope=col>&lt;fct&gt;</th><th scope=col>&lt;fct&gt;</th><th scope=col>&lt;fct&gt;</th><th scope=col>&lt;fct&gt;</th><th scope=col>&lt;dbl&gt;</th><th scope=col>&lt;fct&gt;</th><th scope=col>&lt;dbl&gt;</th></tr>\n",
              "</thead>\n",
              "<tbody>\n",
              "\t<tr><td>1</td><td>18</td><td>27.900</td><td>0</td><td>yes</td><td>CONNECTICUT  </td><td>Urban  </td><td>Bachelor</td><td>No</td><td>Active    </td><td>Married</td><td>0</td><td>female</td><td>1746</td></tr>\n",
              "\t<tr><td>2</td><td>19</td><td>33.770</td><td>1</td><td>no </td><td>RHODE ISLAND </td><td>Urban  </td><td>Bachelor</td><td>No</td><td>Not-Active</td><td>Married</td><td>0</td><td>male  </td><td> 602</td></tr>\n",
              "\t<tr><td>3</td><td>27</td><td>33.000</td><td>3</td><td>no </td><td>MASSACHUSETTS</td><td>Urban  </td><td>Master  </td><td>No</td><td>Active    </td><td>Married</td><td>0</td><td>male  </td><td> 576</td></tr>\n",
              "\t<tr><td>4</td><td>34</td><td>22.705</td><td>0</td><td>no </td><td>PENNSYLVANIA </td><td>Country</td><td>Master  </td><td>No</td><td>Not-Active</td><td>Married</td><td>1</td><td>male  </td><td>5562</td></tr>\n",
              "\t<tr><td>5</td><td>32</td><td>28.880</td><td>0</td><td>no </td><td>PENNSYLVANIA </td><td>Country</td><td>PhD     </td><td>No</td><td>Not-Active</td><td>Married</td><td>0</td><td>male  </td><td> 836</td></tr>\n",
              "\t<tr><td>7</td><td>47</td><td>33.440</td><td>1</td><td>no </td><td>PENNSYLVANIA </td><td>Urban  </td><td>Bachelor</td><td>No</td><td>Not-Active</td><td>Married</td><td>0</td><td>female</td><td>3842</td></tr>\n",
              "</tbody>\n",
              "</table>\n"
            ],
            "text/markdown": "\nA tibble: 6 × 14\n\n| X &lt;dbl&gt; | age &lt;dbl&gt; | bmi &lt;dbl&gt; | children &lt;fct&gt; | smoker &lt;fct&gt; | location &lt;fct&gt; | location_type &lt;fct&gt; | education_level &lt;fct&gt; | yearly_physical &lt;fct&gt; | exercise &lt;fct&gt; | married &lt;fct&gt; | hypertension &lt;dbl&gt; | gender &lt;fct&gt; | cost &lt;dbl&gt; |\n|---|---|---|---|---|---|---|---|---|---|---|---|---|---|\n| 1 | 18 | 27.900 | 0 | yes | CONNECTICUT   | Urban   | Bachelor | No | Active     | Married | 0 | female | 1746 |\n| 2 | 19 | 33.770 | 1 | no  | RHODE ISLAND  | Urban   | Bachelor | No | Not-Active | Married | 0 | male   |  602 |\n| 3 | 27 | 33.000 | 3 | no  | MASSACHUSETTS | Urban   | Master   | No | Active     | Married | 0 | male   |  576 |\n| 4 | 34 | 22.705 | 0 | no  | PENNSYLVANIA  | Country | Master   | No | Not-Active | Married | 1 | male   | 5562 |\n| 5 | 32 | 28.880 | 0 | no  | PENNSYLVANIA  | Country | PhD      | No | Not-Active | Married | 0 | male   |  836 |\n| 7 | 47 | 33.440 | 1 | no  | PENNSYLVANIA  | Urban   | Bachelor | No | Not-Active | Married | 0 | female | 3842 |\n\n",
            "text/latex": "A tibble: 6 × 14\n\\begin{tabular}{llllllllllllll}\n X & age & bmi & children & smoker & location & location\\_type & education\\_level & yearly\\_physical & exercise & married & hypertension & gender & cost\\\\\n <dbl> & <dbl> & <dbl> & <fct> & <fct> & <fct> & <fct> & <fct> & <fct> & <fct> & <fct> & <dbl> & <fct> & <dbl>\\\\\n\\hline\n\t 1 & 18 & 27.900 & 0 & yes & CONNECTICUT   & Urban   & Bachelor & No & Active     & Married & 0 & female & 1746\\\\\n\t 2 & 19 & 33.770 & 1 & no  & RHODE ISLAND  & Urban   & Bachelor & No & Not-Active & Married & 0 & male   &  602\\\\\n\t 3 & 27 & 33.000 & 3 & no  & MASSACHUSETTS & Urban   & Master   & No & Active     & Married & 0 & male   &  576\\\\\n\t 4 & 34 & 22.705 & 0 & no  & PENNSYLVANIA  & Country & Master   & No & Not-Active & Married & 1 & male   & 5562\\\\\n\t 5 & 32 & 28.880 & 0 & no  & PENNSYLVANIA  & Country & PhD      & No & Not-Active & Married & 0 & male   &  836\\\\\n\t 7 & 47 & 33.440 & 1 & no  & PENNSYLVANIA  & Urban   & Bachelor & No & Not-Active & Married & 0 & female & 3842\\\\\n\\end{tabular}\n",
            "text/plain": [
              "  X age bmi    children smoker location      location_type education_level\n",
              "1 1 18  27.900 0        yes    CONNECTICUT   Urban         Bachelor       \n",
              "2 2 19  33.770 1        no     RHODE ISLAND  Urban         Bachelor       \n",
              "3 3 27  33.000 3        no     MASSACHUSETTS Urban         Master         \n",
              "4 4 34  22.705 0        no     PENNSYLVANIA  Country       Master         \n",
              "5 5 32  28.880 0        no     PENNSYLVANIA  Country       PhD            \n",
              "6 7 47  33.440 1        no     PENNSYLVANIA  Urban         Bachelor       \n",
              "  yearly_physical exercise   married hypertension gender cost\n",
              "1 No              Active     Married 0            female 1746\n",
              "2 No              Not-Active Married 0            male    602\n",
              "3 No              Active     Married 0            male    576\n",
              "4 No              Not-Active Married 1            male   5562\n",
              "5 No              Not-Active Married 0            male    836\n",
              "6 No              Not-Active Married 0            female 3842"
            ]
          },
          "metadata": {}
        },
        {
          "output_type": "display_data",
          "data": {
            "text/html": [
              "<style>\n",
              ".list-inline {list-style: none; margin:0; padding: 0}\n",
              ".list-inline>li {display: inline-block}\n",
              ".list-inline>li:not(:last-child)::after {content: \"\\00b7\"; padding: 0 .5ex}\n",
              "</style>\n",
              "<ol class=list-inline><li>7582</li><li>14</li></ol>\n"
            ],
            "text/markdown": "1. 7582\n2. 14\n\n\n",
            "text/latex": "\\begin{enumerate*}\n\\item 7582\n\\item 14\n\\end{enumerate*}\n",
            "text/plain": [
              "[1] 7582   14"
            ]
          },
          "metadata": {}
        }
      ],
      "source": [
        "df$children <- factor(df$children)\n",
        "df$smoker <- factor(df$smoker)\n",
        "df$location_type <- factor(df$location_type)\n",
        "df$education_level <- factor(df$education_level)\n",
        "df$yearly_physical <- factor(df$yearly_physical)\n",
        "df$exercise <- factor(df$exercise)\n",
        "df$married <- factor(df$married)\n",
        "df$location <- factor(df$location)\n",
        "df$gender <- factor(df$gender)\n",
        "\n",
        "head(df)\n",
        "dim(df)"
      ]
    },
    {
      "cell_type": "markdown",
      "metadata": {
        "id": "3xG6AOVbrMAD"
      },
      "source": [
        "###4-Checking for NA values:\n"
      ]
    },
    {
      "cell_type": "code",
      "execution_count": 5,
      "metadata": {
        "id": "jerwG-XquISG",
        "colab": {
          "base_uri": "https://localhost:8080/",
          "height": 475
        },
        "outputId": "a8e0cb21-7a8c-4342-c4a8-21b2fc5c8775"
      },
      "outputs": [
        {
          "output_type": "stream",
          "name": "stdout",
          "text": [
            "[1] \"Number of null values in age column\"\n"
          ]
        },
        {
          "output_type": "display_data",
          "data": {
            "text/html": [
              "<style>\n",
              ".list-inline {list-style: none; margin:0; padding: 0}\n",
              ".list-inline>li {display: inline-block}\n",
              ".list-inline>li:not(:last-child)::after {content: \"\\00b7\"; padding: 0 .5ex}\n",
              "</style>\n",
              "<ol class=list-inline><li>0</li><li>14</li></ol>\n"
            ],
            "text/markdown": "1. 0\n2. 14\n\n\n",
            "text/latex": "\\begin{enumerate*}\n\\item 0\n\\item 14\n\\end{enumerate*}\n",
            "text/plain": [
              "[1]  0 14"
            ]
          },
          "metadata": {}
        },
        {
          "output_type": "stream",
          "name": "stdout",
          "text": [
            "[1] \"Number of null values in bmi column\"\n"
          ]
        },
        {
          "output_type": "display_data",
          "data": {
            "text/html": [
              "<style>\n",
              ".list-inline {list-style: none; margin:0; padding: 0}\n",
              ".list-inline>li {display: inline-block}\n",
              ".list-inline>li:not(:last-child)::after {content: \"\\00b7\"; padding: 0 .5ex}\n",
              "</style>\n",
              "<ol class=list-inline><li>78</li><li>14</li></ol>\n"
            ],
            "text/markdown": "1. 78\n2. 14\n\n\n",
            "text/latex": "\\begin{enumerate*}\n\\item 78\n\\item 14\n\\end{enumerate*}\n",
            "text/plain": [
              "[1] 78 14"
            ]
          },
          "metadata": {}
        },
        {
          "output_type": "stream",
          "name": "stdout",
          "text": [
            "[1] \"Number of null values in children column\"\n"
          ]
        },
        {
          "output_type": "display_data",
          "data": {
            "text/html": [
              "<style>\n",
              ".list-inline {list-style: none; margin:0; padding: 0}\n",
              ".list-inline>li {display: inline-block}\n",
              ".list-inline>li:not(:last-child)::after {content: \"\\00b7\"; padding: 0 .5ex}\n",
              "</style>\n",
              "<ol class=list-inline><li>0</li><li>14</li></ol>\n"
            ],
            "text/markdown": "1. 0\n2. 14\n\n\n",
            "text/latex": "\\begin{enumerate*}\n\\item 0\n\\item 14\n\\end{enumerate*}\n",
            "text/plain": [
              "[1]  0 14"
            ]
          },
          "metadata": {}
        },
        {
          "output_type": "stream",
          "name": "stdout",
          "text": [
            "[1] \"Number of null values in cost column\"\n"
          ]
        },
        {
          "output_type": "display_data",
          "data": {
            "text/html": [
              "<style>\n",
              ".list-inline {list-style: none; margin:0; padding: 0}\n",
              ".list-inline>li {display: inline-block}\n",
              ".list-inline>li:not(:last-child)::after {content: \"\\00b7\"; padding: 0 .5ex}\n",
              "</style>\n",
              "<ol class=list-inline><li>0</li><li>14</li></ol>\n"
            ],
            "text/markdown": "1. 0\n2. 14\n\n\n",
            "text/latex": "\\begin{enumerate*}\n\\item 0\n\\item 14\n\\end{enumerate*}\n",
            "text/plain": [
              "[1]  0 14"
            ]
          },
          "metadata": {}
        },
        {
          "output_type": "stream",
          "name": "stdout",
          "text": [
            "[1] \"Number of null values in education_level column\"\n"
          ]
        },
        {
          "output_type": "display_data",
          "data": {
            "text/html": [
              "<style>\n",
              ".list-inline {list-style: none; margin:0; padding: 0}\n",
              ".list-inline>li {display: inline-block}\n",
              ".list-inline>li:not(:last-child)::after {content: \"\\00b7\"; padding: 0 .5ex}\n",
              "</style>\n",
              "<ol class=list-inline><li>0</li><li>14</li></ol>\n"
            ],
            "text/markdown": "1. 0\n2. 14\n\n\n",
            "text/latex": "\\begin{enumerate*}\n\\item 0\n\\item 14\n\\end{enumerate*}\n",
            "text/plain": [
              "[1]  0 14"
            ]
          },
          "metadata": {}
        },
        {
          "output_type": "stream",
          "name": "stdout",
          "text": [
            "[1] \"Number of null values in exercise column\"\n"
          ]
        },
        {
          "output_type": "display_data",
          "data": {
            "text/html": [
              "<style>\n",
              ".list-inline {list-style: none; margin:0; padding: 0}\n",
              ".list-inline>li {display: inline-block}\n",
              ".list-inline>li:not(:last-child)::after {content: \"\\00b7\"; padding: 0 .5ex}\n",
              "</style>\n",
              "<ol class=list-inline><li>0</li><li>14</li></ol>\n"
            ],
            "text/markdown": "1. 0\n2. 14\n\n\n",
            "text/latex": "\\begin{enumerate*}\n\\item 0\n\\item 14\n\\end{enumerate*}\n",
            "text/plain": [
              "[1]  0 14"
            ]
          },
          "metadata": {}
        },
        {
          "output_type": "stream",
          "name": "stdout",
          "text": [
            "[1] \"Number of null values in gender column\"\n"
          ]
        },
        {
          "output_type": "display_data",
          "data": {
            "text/html": [
              "<style>\n",
              ".list-inline {list-style: none; margin:0; padding: 0}\n",
              ".list-inline>li {display: inline-block}\n",
              ".list-inline>li:not(:last-child)::after {content: \"\\00b7\"; padding: 0 .5ex}\n",
              "</style>\n",
              "<ol class=list-inline><li>0</li><li>14</li></ol>\n"
            ],
            "text/markdown": "1. 0\n2. 14\n\n\n",
            "text/latex": "\\begin{enumerate*}\n\\item 0\n\\item 14\n\\end{enumerate*}\n",
            "text/plain": [
              "[1]  0 14"
            ]
          },
          "metadata": {}
        },
        {
          "output_type": "stream",
          "name": "stdout",
          "text": [
            "[1] \"Number of null values in hypertension column\"\n"
          ]
        },
        {
          "output_type": "display_data",
          "data": {
            "text/html": [
              "<style>\n",
              ".list-inline {list-style: none; margin:0; padding: 0}\n",
              ".list-inline>li {display: inline-block}\n",
              ".list-inline>li:not(:last-child)::after {content: \"\\00b7\"; padding: 0 .5ex}\n",
              "</style>\n",
              "<ol class=list-inline><li>80</li><li>14</li></ol>\n"
            ],
            "text/markdown": "1. 80\n2. 14\n\n\n",
            "text/latex": "\\begin{enumerate*}\n\\item 80\n\\item 14\n\\end{enumerate*}\n",
            "text/plain": [
              "[1] 80 14"
            ]
          },
          "metadata": {}
        },
        {
          "output_type": "stream",
          "name": "stdout",
          "text": [
            "[1] \"Number of null values in location column\"\n"
          ]
        },
        {
          "output_type": "display_data",
          "data": {
            "text/html": [
              "<style>\n",
              ".list-inline {list-style: none; margin:0; padding: 0}\n",
              ".list-inline>li {display: inline-block}\n",
              ".list-inline>li:not(:last-child)::after {content: \"\\00b7\"; padding: 0 .5ex}\n",
              "</style>\n",
              "<ol class=list-inline><li>0</li><li>14</li></ol>\n"
            ],
            "text/markdown": "1. 0\n2. 14\n\n\n",
            "text/latex": "\\begin{enumerate*}\n\\item 0\n\\item 14\n\\end{enumerate*}\n",
            "text/plain": [
              "[1]  0 14"
            ]
          },
          "metadata": {}
        },
        {
          "output_type": "stream",
          "name": "stdout",
          "text": [
            "[1] \"Number of null values in location_type column\"\n"
          ]
        },
        {
          "output_type": "display_data",
          "data": {
            "text/html": [
              "<style>\n",
              ".list-inline {list-style: none; margin:0; padding: 0}\n",
              ".list-inline>li {display: inline-block}\n",
              ".list-inline>li:not(:last-child)::after {content: \"\\00b7\"; padding: 0 .5ex}\n",
              "</style>\n",
              "<ol class=list-inline><li>0</li><li>14</li></ol>\n"
            ],
            "text/markdown": "1. 0\n2. 14\n\n\n",
            "text/latex": "\\begin{enumerate*}\n\\item 0\n\\item 14\n\\end{enumerate*}\n",
            "text/plain": [
              "[1]  0 14"
            ]
          },
          "metadata": {}
        },
        {
          "output_type": "stream",
          "name": "stdout",
          "text": [
            "[1] \"Number of null values in married column\"\n"
          ]
        },
        {
          "output_type": "display_data",
          "data": {
            "text/html": [
              "<style>\n",
              ".list-inline {list-style: none; margin:0; padding: 0}\n",
              ".list-inline>li {display: inline-block}\n",
              ".list-inline>li:not(:last-child)::after {content: \"\\00b7\"; padding: 0 .5ex}\n",
              "</style>\n",
              "<ol class=list-inline><li>0</li><li>14</li></ol>\n"
            ],
            "text/markdown": "1. 0\n2. 14\n\n\n",
            "text/latex": "\\begin{enumerate*}\n\\item 0\n\\item 14\n\\end{enumerate*}\n",
            "text/plain": [
              "[1]  0 14"
            ]
          },
          "metadata": {}
        },
        {
          "output_type": "stream",
          "name": "stdout",
          "text": [
            "[1] \"Number of null values in smoker column\"\n"
          ]
        },
        {
          "output_type": "display_data",
          "data": {
            "text/html": [
              "<style>\n",
              ".list-inline {list-style: none; margin:0; padding: 0}\n",
              ".list-inline>li {display: inline-block}\n",
              ".list-inline>li:not(:last-child)::after {content: \"\\00b7\"; padding: 0 .5ex}\n",
              "</style>\n",
              "<ol class=list-inline><li>0</li><li>14</li></ol>\n"
            ],
            "text/markdown": "1. 0\n2. 14\n\n\n",
            "text/latex": "\\begin{enumerate*}\n\\item 0\n\\item 14\n\\end{enumerate*}\n",
            "text/plain": [
              "[1]  0 14"
            ]
          },
          "metadata": {}
        },
        {
          "output_type": "stream",
          "name": "stdout",
          "text": [
            "[1] \"Number of null values in yearly_physical column\"\n"
          ]
        },
        {
          "output_type": "display_data",
          "data": {
            "text/html": [
              "<style>\n",
              ".list-inline {list-style: none; margin:0; padding: 0}\n",
              ".list-inline>li {display: inline-block}\n",
              ".list-inline>li:not(:last-child)::after {content: \"\\00b7\"; padding: 0 .5ex}\n",
              "</style>\n",
              "<ol class=list-inline><li>0</li><li>14</li></ol>\n"
            ],
            "text/markdown": "1. 0\n2. 14\n\n\n",
            "text/latex": "\\begin{enumerate*}\n\\item 0\n\\item 14\n\\end{enumerate*}\n",
            "text/plain": [
              "[1]  0 14"
            ]
          },
          "metadata": {}
        }
      ],
      "source": [
        "print('Number of null values in age column')\n",
        "dim(df%>%filter(is.na(df$age)==TRUE))\n",
        "print('Number of null values in bmi column')\n",
        "dim(df%>%filter(is.na(df$bmi)==TRUE))\n",
        "print('Number of null values in children column')\n",
        "dim(df%>%filter(is.na(df$children)==TRUE))\n",
        "print('Number of null values in cost column')\n",
        "dim(df%>%filter(is.na(df$cost)==TRUE))\n",
        "print('Number of null values in education_level column')\n",
        "dim(df%>%filter(is.na(df$education_level)==TRUE))\n",
        "print('Number of null values in exercise column')\n",
        "dim(df%>%filter(is.na(df$exercise)==TRUE))\n",
        "print('Number of null values in gender column')\n",
        "dim(df%>%filter(is.na(df$gender)==TRUE))\n",
        "print('Number of null values in hypertension column')\n",
        "dim(df%>%filter(is.na(df$hypertension)==TRUE))\n",
        "print('Number of null values in location column')\n",
        "dim(df%>%filter(is.na(df$location)==TRUE))\n",
        "print('Number of null values in location_type column')\n",
        "dim(df%>%filter(is.na(df$location_type)==TRUE))\n",
        "print('Number of null values in married column')\n",
        "dim(df%>%filter(is.na(df$married)==TRUE))\n",
        "print('Number of null values in smoker column')\n",
        "dim(df%>%filter(is.na(df$smoker)==TRUE))\n",
        "print('Number of null values in yearly_physical column')\n",
        "dim(df%>%filter(is.na(df$yearly_physical)==TRUE))"
      ]
    },
    {
      "cell_type": "markdown",
      "metadata": {
        "id": "DHolAJyMuDIa"
      },
      "source": [
        "###5-Interpolating the Null values: "
      ]
    },
    {
      "cell_type": "code",
      "execution_count": 6,
      "metadata": {
        "id": "arhnxwDWrf6V",
        "colab": {
          "base_uri": "https://localhost:8080/",
          "height": 377
        },
        "outputId": "b47d0d9c-a769-429a-c28f-26f93d057031"
      },
      "outputs": [
        {
          "output_type": "stream",
          "name": "stdout",
          "text": [
            "[1] \"Number of null values in hypertension column\"\n"
          ]
        },
        {
          "output_type": "display_data",
          "data": {
            "text/html": [
              "<style>\n",
              ".list-inline {list-style: none; margin:0; padding: 0}\n",
              ".list-inline>li {display: inline-block}\n",
              ".list-inline>li:not(:last-child)::after {content: \"\\00b7\"; padding: 0 .5ex}\n",
              "</style>\n",
              "<ol class=list-inline><li>0</li><li>14</li></ol>\n"
            ],
            "text/markdown": "1. 0\n2. 14\n\n\n",
            "text/latex": "\\begin{enumerate*}\n\\item 0\n\\item 14\n\\end{enumerate*}\n",
            "text/plain": [
              "[1]  0 14"
            ]
          },
          "metadata": {}
        },
        {
          "output_type": "stream",
          "name": "stdout",
          "text": [
            "[1] \"Number of null values in bmi column\"\n"
          ]
        },
        {
          "output_type": "display_data",
          "data": {
            "text/html": [
              "<style>\n",
              ".list-inline {list-style: none; margin:0; padding: 0}\n",
              ".list-inline>li {display: inline-block}\n",
              ".list-inline>li:not(:last-child)::after {content: \"\\00b7\"; padding: 0 .5ex}\n",
              "</style>\n",
              "<ol class=list-inline><li>0</li><li>14</li></ol>\n"
            ],
            "text/markdown": "1. 0\n2. 14\n\n\n",
            "text/latex": "\\begin{enumerate*}\n\\item 0\n\\item 14\n\\end{enumerate*}\n",
            "text/plain": [
              "[1]  0 14"
            ]
          },
          "metadata": {}
        },
        {
          "output_type": "display_data",
          "data": {
            "text/html": [
              "<table class=\"dataframe\">\n",
              "<caption>A tibble: 6 × 14</caption>\n",
              "<thead>\n",
              "\t<tr><th scope=col>X</th><th scope=col>age</th><th scope=col>bmi</th><th scope=col>children</th><th scope=col>smoker</th><th scope=col>location</th><th scope=col>location_type</th><th scope=col>education_level</th><th scope=col>yearly_physical</th><th scope=col>exercise</th><th scope=col>married</th><th scope=col>hypertension</th><th scope=col>gender</th><th scope=col>cost</th></tr>\n",
              "\t<tr><th scope=col>&lt;dbl&gt;</th><th scope=col>&lt;dbl&gt;</th><th scope=col>&lt;dbl&gt;</th><th scope=col>&lt;fct&gt;</th><th scope=col>&lt;fct&gt;</th><th scope=col>&lt;fct&gt;</th><th scope=col>&lt;fct&gt;</th><th scope=col>&lt;fct&gt;</th><th scope=col>&lt;fct&gt;</th><th scope=col>&lt;fct&gt;</th><th scope=col>&lt;fct&gt;</th><th scope=col>&lt;fct&gt;</th><th scope=col>&lt;fct&gt;</th><th scope=col>&lt;dbl&gt;</th></tr>\n",
              "</thead>\n",
              "<tbody>\n",
              "\t<tr><td>1</td><td>18</td><td>27.900</td><td>0</td><td>yes</td><td>CONNECTICUT  </td><td>Urban  </td><td>Bachelor</td><td>No</td><td>Active    </td><td>Married</td><td>0</td><td>female</td><td>1746</td></tr>\n",
              "\t<tr><td>2</td><td>19</td><td>33.770</td><td>1</td><td>no </td><td>RHODE ISLAND </td><td>Urban  </td><td>Bachelor</td><td>No</td><td>Not-Active</td><td>Married</td><td>0</td><td>male  </td><td> 602</td></tr>\n",
              "\t<tr><td>3</td><td>27</td><td>33.000</td><td>3</td><td>no </td><td>MASSACHUSETTS</td><td>Urban  </td><td>Master  </td><td>No</td><td>Active    </td><td>Married</td><td>0</td><td>male  </td><td> 576</td></tr>\n",
              "\t<tr><td>4</td><td>34</td><td>22.705</td><td>0</td><td>no </td><td>PENNSYLVANIA </td><td>Country</td><td>Master  </td><td>No</td><td>Not-Active</td><td>Married</td><td>1</td><td>male  </td><td>5562</td></tr>\n",
              "\t<tr><td>5</td><td>32</td><td>28.880</td><td>0</td><td>no </td><td>PENNSYLVANIA </td><td>Country</td><td>PhD     </td><td>No</td><td>Not-Active</td><td>Married</td><td>0</td><td>male  </td><td> 836</td></tr>\n",
              "\t<tr><td>7</td><td>47</td><td>33.440</td><td>1</td><td>no </td><td>PENNSYLVANIA </td><td>Urban  </td><td>Bachelor</td><td>No</td><td>Not-Active</td><td>Married</td><td>0</td><td>female</td><td>3842</td></tr>\n",
              "</tbody>\n",
              "</table>\n"
            ],
            "text/markdown": "\nA tibble: 6 × 14\n\n| X &lt;dbl&gt; | age &lt;dbl&gt; | bmi &lt;dbl&gt; | children &lt;fct&gt; | smoker &lt;fct&gt; | location &lt;fct&gt; | location_type &lt;fct&gt; | education_level &lt;fct&gt; | yearly_physical &lt;fct&gt; | exercise &lt;fct&gt; | married &lt;fct&gt; | hypertension &lt;fct&gt; | gender &lt;fct&gt; | cost &lt;dbl&gt; |\n|---|---|---|---|---|---|---|---|---|---|---|---|---|---|\n| 1 | 18 | 27.900 | 0 | yes | CONNECTICUT   | Urban   | Bachelor | No | Active     | Married | 0 | female | 1746 |\n| 2 | 19 | 33.770 | 1 | no  | RHODE ISLAND  | Urban   | Bachelor | No | Not-Active | Married | 0 | male   |  602 |\n| 3 | 27 | 33.000 | 3 | no  | MASSACHUSETTS | Urban   | Master   | No | Active     | Married | 0 | male   |  576 |\n| 4 | 34 | 22.705 | 0 | no  | PENNSYLVANIA  | Country | Master   | No | Not-Active | Married | 1 | male   | 5562 |\n| 5 | 32 | 28.880 | 0 | no  | PENNSYLVANIA  | Country | PhD      | No | Not-Active | Married | 0 | male   |  836 |\n| 7 | 47 | 33.440 | 1 | no  | PENNSYLVANIA  | Urban   | Bachelor | No | Not-Active | Married | 0 | female | 3842 |\n\n",
            "text/latex": "A tibble: 6 × 14\n\\begin{tabular}{llllllllllllll}\n X & age & bmi & children & smoker & location & location\\_type & education\\_level & yearly\\_physical & exercise & married & hypertension & gender & cost\\\\\n <dbl> & <dbl> & <dbl> & <fct> & <fct> & <fct> & <fct> & <fct> & <fct> & <fct> & <fct> & <fct> & <fct> & <dbl>\\\\\n\\hline\n\t 1 & 18 & 27.900 & 0 & yes & CONNECTICUT   & Urban   & Bachelor & No & Active     & Married & 0 & female & 1746\\\\\n\t 2 & 19 & 33.770 & 1 & no  & RHODE ISLAND  & Urban   & Bachelor & No & Not-Active & Married & 0 & male   &  602\\\\\n\t 3 & 27 & 33.000 & 3 & no  & MASSACHUSETTS & Urban   & Master   & No & Active     & Married & 0 & male   &  576\\\\\n\t 4 & 34 & 22.705 & 0 & no  & PENNSYLVANIA  & Country & Master   & No & Not-Active & Married & 1 & male   & 5562\\\\\n\t 5 & 32 & 28.880 & 0 & no  & PENNSYLVANIA  & Country & PhD      & No & Not-Active & Married & 0 & male   &  836\\\\\n\t 7 & 47 & 33.440 & 1 & no  & PENNSYLVANIA  & Urban   & Bachelor & No & Not-Active & Married & 0 & female & 3842\\\\\n\\end{tabular}\n",
            "text/plain": [
              "  X age bmi    children smoker location      location_type education_level\n",
              "1 1 18  27.900 0        yes    CONNECTICUT   Urban         Bachelor       \n",
              "2 2 19  33.770 1        no     RHODE ISLAND  Urban         Bachelor       \n",
              "3 3 27  33.000 3        no     MASSACHUSETTS Urban         Master         \n",
              "4 4 34  22.705 0        no     PENNSYLVANIA  Country       Master         \n",
              "5 5 32  28.880 0        no     PENNSYLVANIA  Country       PhD            \n",
              "6 7 47  33.440 1        no     PENNSYLVANIA  Urban         Bachelor       \n",
              "  yearly_physical exercise   married hypertension gender cost\n",
              "1 No              Active     Married 0            female 1746\n",
              "2 No              Not-Active Married 0            male    602\n",
              "3 No              Active     Married 0            male    576\n",
              "4 No              Not-Active Married 1            male   5562\n",
              "5 No              Not-Active Married 0            male    836\n",
              "6 No              Not-Active Married 0            female 3842"
            ]
          },
          "metadata": {}
        }
      ],
      "source": [
        "df$bmi <- na_interpolation(df$bmi)\n",
        "df$hypertension <- as.numeric(df$hypertension)\n",
        "df$hypertension <- na_interpolation(df$hypertension)\n",
        "df$hypertension <- as.factor(df$hypertension)\n",
        "#removing the rows with interpolation of 0.5\n",
        "df <- df%>%filter(hypertension != 0.5)\n",
        "print('Number of null values in hypertension column')\n",
        "dim(df%>%filter(is.na(df$hypertension)==TRUE))\n",
        "print('Number of null values in bmi column')\n",
        "dim(df%>%filter(is.na(df$bmi)==TRUE))\n",
        "head(df)"
      ]
    },
    {
      "cell_type": "markdown",
      "metadata": {
        "id": "Hlb02OpPq9KR"
      },
      "source": [
        "###6-Adding the Expensive Column:"
      ]
    },
    {
      "cell_type": "code",
      "execution_count": 7,
      "metadata": {
        "id": "nz9mlXJ4roVG",
        "colab": {
          "base_uri": "https://localhost:8080/",
          "height": 306
        },
        "outputId": "160f52c3-1044-4689-9b23-da0d5bb0172f"
      },
      "outputs": [
        {
          "output_type": "display_data",
          "data": {
            "text/html": [
              "<table class=\"dataframe\">\n",
              "<caption>A tibble: 6 × 15</caption>\n",
              "<thead>\n",
              "\t<tr><th scope=col>X</th><th scope=col>age</th><th scope=col>bmi</th><th scope=col>children</th><th scope=col>smoker</th><th scope=col>location</th><th scope=col>location_type</th><th scope=col>education_level</th><th scope=col>yearly_physical</th><th scope=col>exercise</th><th scope=col>married</th><th scope=col>hypertension</th><th scope=col>gender</th><th scope=col>cost</th><th scope=col>expensive</th></tr>\n",
              "\t<tr><th scope=col>&lt;dbl&gt;</th><th scope=col>&lt;dbl&gt;</th><th scope=col>&lt;dbl&gt;</th><th scope=col>&lt;fct&gt;</th><th scope=col>&lt;fct&gt;</th><th scope=col>&lt;fct&gt;</th><th scope=col>&lt;fct&gt;</th><th scope=col>&lt;fct&gt;</th><th scope=col>&lt;fct&gt;</th><th scope=col>&lt;fct&gt;</th><th scope=col>&lt;fct&gt;</th><th scope=col>&lt;fct&gt;</th><th scope=col>&lt;fct&gt;</th><th scope=col>&lt;dbl&gt;</th><th scope=col>&lt;fct&gt;</th></tr>\n",
              "</thead>\n",
              "<tbody>\n",
              "\t<tr><td>1</td><td>18</td><td>27.900</td><td>0</td><td>yes</td><td>CONNECTICUT  </td><td>Urban  </td><td>Bachelor</td><td>No</td><td>Active    </td><td>Married</td><td>0</td><td>female</td><td>1746</td><td>0</td></tr>\n",
              "\t<tr><td>2</td><td>19</td><td>33.770</td><td>1</td><td>no </td><td>RHODE ISLAND </td><td>Urban  </td><td>Bachelor</td><td>No</td><td>Not-Active</td><td>Married</td><td>0</td><td>male  </td><td> 602</td><td>0</td></tr>\n",
              "\t<tr><td>3</td><td>27</td><td>33.000</td><td>3</td><td>no </td><td>MASSACHUSETTS</td><td>Urban  </td><td>Master  </td><td>No</td><td>Active    </td><td>Married</td><td>0</td><td>male  </td><td> 576</td><td>0</td></tr>\n",
              "\t<tr><td>4</td><td>34</td><td>22.705</td><td>0</td><td>no </td><td>PENNSYLVANIA </td><td>Country</td><td>Master  </td><td>No</td><td>Not-Active</td><td>Married</td><td>1</td><td>male  </td><td>5562</td><td>1</td></tr>\n",
              "\t<tr><td>5</td><td>32</td><td>28.880</td><td>0</td><td>no </td><td>PENNSYLVANIA </td><td>Country</td><td>PhD     </td><td>No</td><td>Not-Active</td><td>Married</td><td>0</td><td>male  </td><td> 836</td><td>0</td></tr>\n",
              "\t<tr><td>7</td><td>47</td><td>33.440</td><td>1</td><td>no </td><td>PENNSYLVANIA </td><td>Urban  </td><td>Bachelor</td><td>No</td><td>Not-Active</td><td>Married</td><td>0</td><td>female</td><td>3842</td><td>0</td></tr>\n",
              "</tbody>\n",
              "</table>\n"
            ],
            "text/markdown": "\nA tibble: 6 × 15\n\n| X &lt;dbl&gt; | age &lt;dbl&gt; | bmi &lt;dbl&gt; | children &lt;fct&gt; | smoker &lt;fct&gt; | location &lt;fct&gt; | location_type &lt;fct&gt; | education_level &lt;fct&gt; | yearly_physical &lt;fct&gt; | exercise &lt;fct&gt; | married &lt;fct&gt; | hypertension &lt;fct&gt; | gender &lt;fct&gt; | cost &lt;dbl&gt; | expensive &lt;fct&gt; |\n|---|---|---|---|---|---|---|---|---|---|---|---|---|---|---|\n| 1 | 18 | 27.900 | 0 | yes | CONNECTICUT   | Urban   | Bachelor | No | Active     | Married | 0 | female | 1746 | 0 |\n| 2 | 19 | 33.770 | 1 | no  | RHODE ISLAND  | Urban   | Bachelor | No | Not-Active | Married | 0 | male   |  602 | 0 |\n| 3 | 27 | 33.000 | 3 | no  | MASSACHUSETTS | Urban   | Master   | No | Active     | Married | 0 | male   |  576 | 0 |\n| 4 | 34 | 22.705 | 0 | no  | PENNSYLVANIA  | Country | Master   | No | Not-Active | Married | 1 | male   | 5562 | 1 |\n| 5 | 32 | 28.880 | 0 | no  | PENNSYLVANIA  | Country | PhD      | No | Not-Active | Married | 0 | male   |  836 | 0 |\n| 7 | 47 | 33.440 | 1 | no  | PENNSYLVANIA  | Urban   | Bachelor | No | Not-Active | Married | 0 | female | 3842 | 0 |\n\n",
            "text/latex": "A tibble: 6 × 15\n\\begin{tabular}{lllllllllllllll}\n X & age & bmi & children & smoker & location & location\\_type & education\\_level & yearly\\_physical & exercise & married & hypertension & gender & cost & expensive\\\\\n <dbl> & <dbl> & <dbl> & <fct> & <fct> & <fct> & <fct> & <fct> & <fct> & <fct> & <fct> & <fct> & <fct> & <dbl> & <fct>\\\\\n\\hline\n\t 1 & 18 & 27.900 & 0 & yes & CONNECTICUT   & Urban   & Bachelor & No & Active     & Married & 0 & female & 1746 & 0\\\\\n\t 2 & 19 & 33.770 & 1 & no  & RHODE ISLAND  & Urban   & Bachelor & No & Not-Active & Married & 0 & male   &  602 & 0\\\\\n\t 3 & 27 & 33.000 & 3 & no  & MASSACHUSETTS & Urban   & Master   & No & Active     & Married & 0 & male   &  576 & 0\\\\\n\t 4 & 34 & 22.705 & 0 & no  & PENNSYLVANIA  & Country & Master   & No & Not-Active & Married & 1 & male   & 5562 & 1\\\\\n\t 5 & 32 & 28.880 & 0 & no  & PENNSYLVANIA  & Country & PhD      & No & Not-Active & Married & 0 & male   &  836 & 0\\\\\n\t 7 & 47 & 33.440 & 1 & no  & PENNSYLVANIA  & Urban   & Bachelor & No & Not-Active & Married & 0 & female & 3842 & 0\\\\\n\\end{tabular}\n",
            "text/plain": [
              "  X age bmi    children smoker location      location_type education_level\n",
              "1 1 18  27.900 0        yes    CONNECTICUT   Urban         Bachelor       \n",
              "2 2 19  33.770 1        no     RHODE ISLAND  Urban         Bachelor       \n",
              "3 3 27  33.000 3        no     MASSACHUSETTS Urban         Master         \n",
              "4 4 34  22.705 0        no     PENNSYLVANIA  Country       Master         \n",
              "5 5 32  28.880 0        no     PENNSYLVANIA  Country       PhD            \n",
              "6 7 47  33.440 1        no     PENNSYLVANIA  Urban         Bachelor       \n",
              "  yearly_physical exercise   married hypertension gender cost expensive\n",
              "1 No              Active     Married 0            female 1746 0        \n",
              "2 No              Not-Active Married 0            male    602 0        \n",
              "3 No              Active     Married 0            male    576 0        \n",
              "4 No              Not-Active Married 1            male   5562 1        \n",
              "5 No              Not-Active Married 0            male    836 0        \n",
              "6 No              Not-Active Married 0            female 3842 0        "
            ]
          },
          "metadata": {}
        }
      ],
      "source": [
        "df$expensive <- 1\n",
        "df$expensive[df$cost < 5000] <- 0\n",
        "df$expensive <- as.factor(df$expensive)\n",
        "head(df)"
      ]
    },
    {
      "cell_type": "markdown",
      "metadata": {
        "id": "au0QxexWmVsi"
      },
      "source": [
        "###7-Get the number of expensive and inexpensive obsservation"
      ]
    },
    {
      "cell_type": "code",
      "execution_count": 8,
      "metadata": {
        "id": "wp-BHpDFZEBK",
        "colab": {
          "base_uri": "https://localhost:8080/",
          "height": 88
        },
        "outputId": "b11be344-562e-4deb-cab8-3738b408e1be"
      },
      "outputs": [
        {
          "output_type": "stream",
          "name": "stdout",
          "text": [
            "[1] \"Table of expensive:\"\n"
          ]
        },
        {
          "output_type": "display_data",
          "data": {
            "text/plain": [
              "\n",
              "   0    1 \n",
              "5759 1793 "
            ]
          },
          "metadata": {}
        }
      ],
      "source": [
        "print('Table of expensive:')\n",
        "table(df$expensive)\n",
        "# from this output we can say that the there are 2360 expensive and 5222 inexpensive"
      ]
    },
    {
      "cell_type": "markdown",
      "metadata": {
        "id": "AyyGW42Ty4mn"
      },
      "source": [
        "###8- Creating Histogram and Boxplot of numeric variables:"
      ]
    },
    {
      "cell_type": "code",
      "execution_count": 9,
      "metadata": {
        "id": "bLDjzSoszA_j",
        "colab": {
          "base_uri": "https://localhost:8080/",
          "height": 1000
        },
        "outputId": "253200fc-14b8-492c-885c-3ffb9d02ace0"
      },
      "outputs": [
        {
          "output_type": "display_data",
          "data": {
            "text/plain": [
              "Plot with title “Histogram of Age variable”"
            ],
            "image/png": "[encoded data removed]"
          },
          "metadata": {
            "image/png": {
              "width": 420,
              "height": 420
            }
          }
        },
        {
          "output_type": "display_data",
          "data": {
            "text/plain": [
              "Plot with title “BoxPlot of Age variable”"
            ],
            "image/png": "[encoded data removed]"
          },
          "metadata": {
            "image/png": {
              "width": 420,
              "height": 420
            }
          }
        },
        {
          "output_type": "display_data",
          "data": {
            "text/plain": [
              "Plot with title “Histogram of BMI variable”"
            ],
            "image/png": "[encoded data removed]"
          },
          "metadata": {
            "image/png": {
              "width": 420,
              "height": 420
            }
          }
        },
        {
          "output_type": "display_data",
          "data": {
            "text/plain": [
              "Plot with title “BoxPlot of BMI variable”"
            ],
            "image/png": "[encoded data removed]"
          },
          "metadata": {
            "image/png": {
              "width": 420,
              "height": 420
            }
          }
        },
        {
          "output_type": "display_data",
          "data": {
            "text/plain": [
              "Plot with title “Histogram of Cost variable”"
            ],
            "image/png": "[encoded data removed]"
          },
          "metadata": {
            "image/png": {
              "width": 420,
              "height": 420
            }
          }
        },
        {
          "output_type": "display_data",
          "data": {
            "text/plain": [
              "Plot with title “BoxPlot of Cost variable”"
            ],
            "image/png": "[encoded data removed]"
          },
          "metadata": {
            "image/png": {
              "width": 420,
              "height": 420
            }
          }
        }
      ],
      "source": [
        "hist(df$age, main= \"Histogram of Age variable\")\n",
        "boxplot(df$age, main = \"BoxPlot of Age variable\")\n",
        "\n",
        "hist(df$bmi, main= \"Histogram of BMI variable\")\n",
        "boxplot(df$bmi, main = \"BoxPlot of BMI variable\")\n",
        "\n",
        "hist(df$cost, main= \"Histogram of Cost variable\")\n",
        "boxplot(df$cost, main = \"BoxPlot of Cost variable\")"
      ]
    },
    {
      "cell_type": "markdown",
      "metadata": {
        "id": "Hz3HRBIb7lfI"
      },
      "source": [
        "###9-Creating the Table of Categorical variables:\n"
      ]
    },
    {
      "cell_type": "code",
      "execution_count": 10,
      "metadata": {
        "id": "9oVkFLdD7n9V",
        "colab": {
          "base_uri": "https://localhost:8080/",
          "height": 839
        },
        "outputId": "0ecf2925-693d-4429-a9f3-7bb3b9f16beb"
      },
      "outputs": [
        {
          "output_type": "stream",
          "name": "stdout",
          "text": [
            "[1] \"Table of education_level:\"\n"
          ]
        },
        {
          "output_type": "display_data",
          "data": {
            "text/plain": [
              "\n",
              "         Bachelor            Master No College Degree               PhD \n",
              "             4558              1528               757               709 "
            ]
          },
          "metadata": {}
        },
        {
          "output_type": "stream",
          "name": "stdout",
          "text": [
            "[1] \"Table of Children:\"\n"
          ]
        },
        {
          "output_type": "display_data",
          "data": {
            "text/plain": [
              "\n",
              "   0    1    2    3    4    5 \n",
              "3248 1765 1361  936  130  112 "
            ]
          },
          "metadata": {}
        },
        {
          "output_type": "stream",
          "name": "stdout",
          "text": [
            "[1] \"Table of hypertension:\"\n"
          ]
        },
        {
          "output_type": "display_data",
          "data": {
            "text/plain": [
              "\n",
              "   0  0.5    1 \n",
              "6047    0 1505 "
            ]
          },
          "metadata": {}
        },
        {
          "output_type": "stream",
          "name": "stdout",
          "text": [
            "[1] \"Table of exercise:\"\n"
          ]
        },
        {
          "output_type": "display_data",
          "data": {
            "text/plain": [
              "\n",
              "    Active Not-Active \n",
              "      1883       5669 "
            ]
          },
          "metadata": {}
        },
        {
          "output_type": "stream",
          "name": "stdout",
          "text": [
            "[1] \"Table of expensive:\"\n"
          ]
        },
        {
          "output_type": "display_data",
          "data": {
            "text/plain": [
              "\n",
              "   0    1 \n",
              "5759 1793 "
            ]
          },
          "metadata": {}
        },
        {
          "output_type": "stream",
          "name": "stdout",
          "text": [
            "[1] \"Table of gender:\"\n"
          ]
        },
        {
          "output_type": "display_data",
          "data": {
            "text/plain": [
              "\n",
              "female   male \n",
              "  3647   3905 "
            ]
          },
          "metadata": {}
        },
        {
          "output_type": "stream",
          "name": "stdout",
          "text": [
            "[1] \"Table of location:\"\n"
          ]
        },
        {
          "output_type": "display_data",
          "data": {
            "text/plain": [
              "\n",
              "  CONNECTICUT      MARYLAND MASSACHUSETTS    NEW JERSEY      NEW YORK \n",
              "          607           743           463           496           544 \n",
              " PENNSYLVANIA  RHODE ISLAND \n",
              "         3998           701 "
            ]
          },
          "metadata": {}
        },
        {
          "output_type": "stream",
          "name": "stdout",
          "text": [
            "[1] \"Table of location_type:\"\n"
          ]
        },
        {
          "output_type": "display_data",
          "data": {
            "text/plain": [
              "\n",
              "Country   Urban \n",
              "   1893    5659 "
            ]
          },
          "metadata": {}
        },
        {
          "output_type": "stream",
          "name": "stdout",
          "text": [
            "[1] \"Table of married:\"\n"
          ]
        },
        {
          "output_type": "display_data",
          "data": {
            "text/plain": [
              "\n",
              "    Married Not_Married \n",
              "       5042        2510 "
            ]
          },
          "metadata": {}
        },
        {
          "output_type": "stream",
          "name": "stdout",
          "text": [
            "[1] \"Table of smoker:\"\n"
          ]
        },
        {
          "output_type": "display_data",
          "data": {
            "text/plain": [
              "\n",
              "  no  yes \n",
              "6079 1473 "
            ]
          },
          "metadata": {}
        },
        {
          "output_type": "stream",
          "name": "stdout",
          "text": [
            "[1] \"Table of yearly_physical:\"\n"
          ]
        },
        {
          "output_type": "display_data",
          "data": {
            "text/plain": [
              "\n",
              "  No  Yes \n",
              "5679 1873 "
            ]
          },
          "metadata": {}
        }
      ],
      "source": [
        "print('Table of education_level:')\n",
        "table(df$education_level)\n",
        "print('Table of Children:')\n",
        "table(df$children)\n",
        "print('Table of hypertension:')\n",
        "table(df$hypertension)\n",
        "print('Table of exercise:')\n",
        "table(df$exercise)\n",
        "print('Table of expensive:')\n",
        "table(df$expensive)\n",
        "print('Table of gender:')\n",
        "table(df$gender)\n",
        "print('Table of location:')\n",
        "table(df$location)\n",
        "print('Table of location_type:')\n",
        "table(df$location_type)\n",
        "print('Table of married:')\n",
        "table(df$married)\n",
        "print('Table of smoker:')\n",
        "table(df$smoker)\n",
        "print('Table of yearly_physical:')\n",
        "table(df$yearly_physical)"
      ]
    },
    {
      "cell_type": "markdown",
      "metadata": {
        "id": "5S_w-0aJ5RCO"
      },
      "source": [
        "None of observed variables have to be normal in linear regression analysis, which includes t-test and ANOVA. The errors after modeling, however, should be normal to draw a valid conclusion by hypothesis testing\n"
      ]
    },
    {
      "cell_type": "markdown",
      "metadata": {
        "id": "FcW5IOkJsb9Z"
      },
      "source": [
        "###10-Creating a Geographic Map:"
      ]
    },
    {
      "cell_type": "code",
      "execution_count": 11,
      "metadata": {
        "id": "K7Tfzc1Bscv7",
        "colab": {
          "base_uri": "https://localhost:8080/",
          "height": 437
        },
        "outputId": "c61cac61-4dac-4aae-c3ef-10c9ca6a0fb7"
      },
      "outputs": [
        {
          "output_type": "display_data",
          "data": {
            "text/plain": [
              "plot without title"
            ],
            "image/png": "[encoded data removed]"
          },
          "metadata": {
            "image/png": {
              "width": 420,
              "height": 420
            }
          }
        }
      ],
      "source": [
        "dfmap <- df \n",
        "dfmap$region <- tolower(dfmap$location)\n",
        "\n",
        "dfmap$expensive <- as.numeric(dfmap$expensive)\n",
        "\n",
        "states <- map_data(\"state\")\n",
        "map.dfmap <- merge(states,dfmap, by=\"region\", all.x=T)\n",
        "map.dfmap <- map.dfmap[order(map.dfmap$order),]\n",
        "ggplot(map.dfmap, aes(x=long,y=lat,group=group))+\n",
        "  geom_polygon(aes(fill=expensive))+\n",
        "  geom_path()+ \n",
        "  scale_fill_gradientn(colours=rev(heat.colors(10)),na.value=\"grey90\")+\n",
        "  coord_map()\n",
        "\n",
        "dfmap$expensive <- as.factor(dfmap$expensive)"
      ]
    },
    {
      "cell_type": "markdown",
      "metadata": {
        "id": "Nuds-QZeWWlA"
      },
      "source": [
        "###11-Creating expensive & none-expensive subsets:"
      ]
    },
    {
      "cell_type": "code",
      "execution_count": 12,
      "metadata": {
        "id": "kbRgZHaiWdQQ",
        "colab": {
          "base_uri": "https://localhost:8080/",
          "height": 52
        },
        "outputId": "ebbd419f-9681-4486-bd9a-27b4b6c76639"
      },
      "outputs": [
        {
          "output_type": "display_data",
          "data": {
            "text/html": [
              "1793"
            ],
            "text/markdown": "1793",
            "text/latex": "1793",
            "text/plain": [
              "[1] 1793"
            ]
          },
          "metadata": {}
        },
        {
          "output_type": "display_data",
          "data": {
            "text/html": [
              "5759"
            ],
            "text/markdown": "5759",
            "text/latex": "5759",
            "text/plain": [
              "[1] 5759"
            ]
          },
          "metadata": {}
        }
      ],
      "source": [
        "df_exp <- df[df$expensive == 1,]\n",
        "df_cheap <- df[df$expensive == 0,]\n",
        "nrow(df_exp)\n",
        "nrow(df_cheap)"
      ]
    },
    {
      "cell_type": "markdown",
      "metadata": {
        "id": "f6VpMgpzk2KB"
      },
      "source": [
        "###12-Creating bar plot and boxplots of all the predictor variables in relation to expensive variable\n",
        "\n"
      ]
    },
    {
      "cell_type": "code",
      "execution_count": 13,
      "metadata": {
        "id": "UagR1ViJ4Ojm",
        "colab": {
          "base_uri": "https://localhost:8080/",
          "height": 437
        },
        "outputId": "39b7aa62-b66f-4d0a-f4e6-9bf995ab9e5f"
      },
      "outputs": [
        {
          "output_type": "display_data",
          "data": {
            "text/plain": [
              "plot without title"
            ],
            "image/png": "[encoded data removed]"
          },
          "metadata": {
            "image/png": {
              "width": 420,
              "height": 420
            }
          }
        }
      ],
      "source": [
        "# barplot(df_exp$cost)\n",
        "# barplot(df_cheap$cost)\n",
        "# ggplot(df, aes(x=age), y=expensive) +   geom_bar(stat=\"count\")\n",
        "# ggplot(df, aes(x=bmi), y=expensive) +   geom_bar(stat=\"count\")\n",
        "# ggplot(df, aes(x=children), y=expensive) +   geom_bar(stat=\"count\")\n",
        "# ggplot(df, aes(x=smoker), y=expensive) +   geom_bar(stat=\"count\")\n",
        "# ggplot(df, aes(x=location), y=expensive) +   geom_bar(stat=\"count\")\n",
        "# ggplot(df, aes(x=location_type), y=expensive) +   geom_bar(stat=\"count\")\n",
        "# ggplot(df, aes(x=education_level), y=expensive) +   geom_bar(stat=\"count\")\n",
        "# ggplot(df, aes(x=yearly_physical), y=expensive) +   geom_bar(stat=\"count\")\n",
        "# ggplot(df, aes(x=excercise), y=expensive) +   geom_bar(stat=\"count\")\n",
        "# ggplot(df, aes(x=married), y=expensive) +   geom_bar(stat=\"count\")\n",
        "# ggplot(df, aes(x=hypertension), y=expensive) +   geom_bar(stat=\"count\")\n",
        "# ggplot(df, aes(x=gender), y=expensive) +   geom_bar(stat=\"count\")\n",
        "\n",
        "# boxplot(age ~  expensive, data = df)\n",
        "\n",
        "ggplot(df) + aes(x = expensive, y = exercise) + \n",
        "      geom_boxplot() + theme_minimal()"
      ]
    },
    {
      "cell_type": "markdown",
      "metadata": {
        "id": "-EAzyNnxB7Q2"
      },
      "source": [
        "#2-Linear Regression:"
      ]
    },
    {
      "cell_type": "markdown",
      "metadata": {
        "id": "hoqnnVp6mtou"
      },
      "source": [
        "###2.1-Generate a list of cases to include in the training data"
      ]
    },
    {
      "cell_type": "code",
      "execution_count": 14,
      "metadata": {
        "id": "vRIufOm0CWPI",
        "colab": {
          "base_uri": "https://localhost:8080/"
        },
        "outputId": "91416092-eecf-4095-b3b0-c5b9cdf78561"
      },
      "outputs": [
        {
          "output_type": "stream",
          "name": "stderr",
          "text": [
            "Loading required package: lattice\n",
            "\n",
            "\n",
            "Attaching package: ‘caret’\n",
            "\n",
            "\n",
            "The following object is masked from ‘package:purrr’:\n",
            "\n",
            "    lift\n",
            "\n",
            "\n"
          ]
        }
      ],
      "source": [
        "library(caret)\n",
        "set.seed(111)\n",
        "trainListlm <- createDataPartition(y=df$cost, p=.70, list=FALSE)"
      ]
    },
    {
      "cell_type": "markdown",
      "metadata": {
        "id": "XhR-O-QSoxyP"
      },
      "source": [
        "###2.2-Create train and test data set:"
      ]
    },
    {
      "cell_type": "code",
      "execution_count": 15,
      "metadata": {
        "id": "bfcZDcL9o2s8"
      },
      "outputs": [],
      "source": [
        "trainDatalm <- df [trainListlm,]\n",
        "testDatalm <-  df [-trainListlm,]"
      ]
    },
    {
      "cell_type": "markdown",
      "source": [
        "###What are the significant variable."
      ],
      "metadata": {
        "id": "Br6s86FnrOUt"
      }
    },
    {
      "cell_type": "code",
      "source": [
        "lmodelFinalsignif <- lm(cost ~ . ,data=trainDatalm)\n",
        "summary(lmodelFinalsignif)"
      ],
      "metadata": {
        "colab": {
          "base_uri": "https://localhost:8080/",
          "height": 767
        },
        "id": "WF7Ue4yQrOng",
        "outputId": "71e7dc55-b923-44d6-93d8-01592a4ed162"
      },
      "execution_count": 16,
      "outputs": [
        {
          "output_type": "display_data",
          "data": {
            "text/plain": [
              "\n",
              "Call:\n",
              "lm(formula = cost ~ ., data = trainDatalm)\n",
              "\n",
              "Residuals:\n",
              "   Min     1Q Median     3Q    Max \n",
              " -8992  -1005    -71    776  41287 \n",
              "\n",
              "Coefficients:\n",
              "                                   Estimate Std. Error t value Pr(>|t|)    \n",
              "(Intercept)                      -5.576e+03  2.904e+02 -19.202  < 2e-16 ***\n",
              "X                                 4.871e-06  7.420e-06   0.657 0.511494    \n",
              "age                               6.403e+01  2.861e+00  22.382  < 2e-16 ***\n",
              "bmi                               1.161e+02  6.652e+00  17.453  < 2e-16 ***\n",
              "children1                         3.630e+02  9.951e+01   3.648 0.000267 ***\n",
              "children2                         6.633e+02  1.079e+02   6.149 8.35e-10 ***\n",
              "children3                         5.045e+02  1.236e+02   4.081 4.54e-05 ***\n",
              "children4                         4.413e+02  2.977e+02   1.482 0.138296    \n",
              "children5                         7.820e+02  3.162e+02   2.473 0.013427 *  \n",
              "smokeryes                         4.465e+03  1.204e+02  37.086  < 2e-16 ***\n",
              "locationMARYLAND                 -2.181e+02  1.808e+02  -1.206 0.227740    \n",
              "locationMASSACHUSETTS            -5.115e+01  2.089e+02  -0.245 0.806582    \n",
              "locationNEW JERSEY                5.651e+01  2.024e+02   0.279 0.780087    \n",
              "locationNEW YORK                  2.944e+02  1.965e+02   1.498 0.134079    \n",
              "locationPENNSYLVANIA              3.381e-01  1.443e+02   0.002 0.998131    \n",
              "locationRHODE ISLAND              2.332e+02  1.850e+02   1.260 0.207677    \n",
              "location_typeUrban                9.639e+01  8.869e+01   1.087 0.277160    \n",
              "education_levelMaster            -8.983e+01  9.892e+01  -0.908 0.363895    \n",
              "education_levelNo College Degree  1.253e+02  1.316e+02   0.952 0.341093    \n",
              "education_levelPhD               -2.155e+02  1.324e+02  -1.628 0.103689    \n",
              "yearly_physicalYes               -3.847e+01  8.852e+01  -0.435 0.663863    \n",
              "exerciseNot-Active                1.365e+03  9.101e+01  14.995  < 2e-16 ***\n",
              "marriedNot_Married                9.738e+01  8.173e+01   1.191 0.233525    \n",
              "hypertension1                     2.183e+02  9.642e+01   2.264 0.023627 *  \n",
              "gendermale                       -7.582e+01  7.741e+01  -0.979 0.327387    \n",
              "expensive1                        5.506e+03  1.195e+02  46.063  < 2e-16 ***\n",
              "---\n",
              "Signif. codes:  0 ‘***’ 0.001 ‘**’ 0.01 ‘*’ 0.05 ‘.’ 0.1 ‘ ’ 1\n",
              "\n",
              "Residual standard error: 2787 on 5262 degrees of freedom\n",
              "Multiple R-squared:  0.6926,\tAdjusted R-squared:  0.6911 \n",
              "F-statistic: 474.2 on 25 and 5262 DF,  p-value: < 2.2e-16\n"
            ]
          },
          "metadata": {}
        }
      ]
    },
    {
      "cell_type": "markdown",
      "metadata": {
        "id": "I1k0CGjaglWu"
      },
      "source": [
        "###2.1-Constructing the linear model:\n"
      ]
    },
    {
      "cell_type": "code",
      "execution_count": 17,
      "metadata": {
        "id": "QGOHm74NgpgW",
        "colab": {
          "base_uri": "https://localhost:8080/",
          "height": 624
        },
        "outputId": "35d5ccaa-f5d3-439f-e03c-365e96c12123"
      },
      "outputs": [
        {
          "output_type": "display_data",
          "data": {
            "text/plain": [
              "\n",
              "Call:\n",
              "lm(formula = cost ~ age + bmi + children + smoker + location + \n",
              "    exercise + hypertension, data = trainDatalm)\n",
              "\n",
              "Residuals:\n",
              "   Min     1Q Median     3Q    Max \n",
              "-12005  -1484   -330   1031  41635 \n",
              "\n",
              "Coefficients:\n",
              "                       Estimate Std. Error t value Pr(>|t|)    \n",
              "(Intercept)           -9208.208    313.449 -29.377  < 2e-16 ***\n",
              "age                      99.745      3.260  30.601  < 2e-16 ***\n",
              "bmi                     185.922      7.657  24.280  < 2e-16 ***\n",
              "children1               392.258    117.823   3.329 0.000877 ***\n",
              "children2               887.175    127.591   6.953    4e-12 ***\n",
              "children3               567.379    146.040   3.885 0.000104 ***\n",
              "children4              1180.974    352.016   3.355 0.000800 ***\n",
              "children5               852.957    374.542   2.277 0.022806 *  \n",
              "smokeryes              7732.234    114.839  67.331  < 2e-16 ***\n",
              "locationMARYLAND       -280.146    214.058  -1.309 0.190681    \n",
              "locationMASSACHUSETTS   -90.565    247.243  -0.366 0.714155    \n",
              "locationNEW JERSEY        3.181    239.539   0.013 0.989406    \n",
              "locationNEW YORK        595.892    232.494   2.563 0.010404 *  \n",
              "locationPENNSYLVANIA      7.757    170.785   0.045 0.963774    \n",
              "locationRHODE ISLAND    131.860    219.090   0.602 0.547298    \n",
              "exerciseNot-Active     2269.422    105.269  21.558  < 2e-16 ***\n",
              "hypertension1           426.280    114.064   3.737 0.000188 ***\n",
              "---\n",
              "Signif. codes:  0 ‘***’ 0.001 ‘**’ 0.01 ‘*’ 0.05 ‘.’ 0.1 ‘ ’ 1\n",
              "\n",
              "Residual standard error: 3303 on 5271 degrees of freedom\n",
              "Multiple R-squared:  0.5676,\tAdjusted R-squared:  0.5662 \n",
              "F-statistic: 432.4 on 16 and 5271 DF,  p-value: < 2.2e-16\n"
            ]
          },
          "metadata": {}
        }
      ],
      "source": [
        "# # lmodel1 <- lm(cost ~.,data=sorted_trainDataLM1)\n",
        "# # summary(lmodel1)\n",
        "\n",
        "# lmodel1 <- lm(cost ~ age+ bmi+ children+ smoker+ location+ exercise + yearly_physical+ hypertension + married ,data=df)\n",
        "# summary(lmodel1)\n",
        "lmodelFinal <- lm(cost ~ age+ bmi+ children+ smoker+ location+ exercise+ hypertension ,data=trainDatalm)\n",
        "summary(lmodelFinal)"
      ]
    },
    {
      "cell_type": "markdown",
      "source": [
        "###2.4-Prediction for the test data set:"
      ],
      "metadata": {
        "id": "q9WXZLZdpp_-"
      }
    },
    {
      "cell_type": "code",
      "source": [
        "# PredtestData<- data.frame(predict(lmodel1, sorted_testDataLM1))\n",
        "# PredtestData$Actual_value <- sorted_testDataLM1$cost\n",
        "# head(PredtestData)\n",
        "predictValues <- predict(lmodelFinal, newdata=testDatalm)\n",
        "PV <- data.frame(predictValues)\n",
        "head(PV)"
      ],
      "metadata": {
        "colab": {
          "base_uri": "https://localhost:8080/",
          "height": 286
        },
        "id": "nqQogDswqlG-",
        "outputId": "93428748-7153-4927-b9c9-cfdfaefe093e"
      },
      "execution_count": 18,
      "outputs": [
        {
          "output_type": "display_data",
          "data": {
            "text/html": [
              "<table class=\"dataframe\">\n",
              "<caption>A data.frame: 6 × 1</caption>\n",
              "<thead>\n",
              "\t<tr><th></th><th scope=col>predictValues</th></tr>\n",
              "\t<tr><th></th><th scope=col>&lt;dbl&gt;</th></tr>\n",
              "</thead>\n",
              "<tbody>\n",
              "\t<tr><th scope=row>1</th><td>1630.2523</td></tr>\n",
              "\t<tr><th scope=row>2</th><td>4366.4945</td></tr>\n",
              "\t<tr><th scope=row>3</th><td>9496.3808</td></tr>\n",
              "\t<tr><th scope=row>4</th><td>3478.3927</td></tr>\n",
              "\t<tr><th scope=row>5</th><td> 587.7675</td></tr>\n",
              "\t<tr><th scope=row>6</th><td>4518.0574</td></tr>\n",
              "</tbody>\n",
              "</table>\n"
            ],
            "text/markdown": "\nA data.frame: 6 × 1\n\n| <!--/--> | predictValues &lt;dbl&gt; |\n|---|---|\n| 1 | 1630.2523 |\n| 2 | 4366.4945 |\n| 3 | 9496.3808 |\n| 4 | 3478.3927 |\n| 5 |  587.7675 |\n| 6 | 4518.0574 |\n\n",
            "text/latex": "A data.frame: 6 × 1\n\\begin{tabular}{r|l}\n  & predictValues\\\\\n  & <dbl>\\\\\n\\hline\n\t1 & 1630.2523\\\\\n\t2 & 4366.4945\\\\\n\t3 & 9496.3808\\\\\n\t4 & 3478.3927\\\\\n\t5 &  587.7675\\\\\n\t6 & 4518.0574\\\\\n\\end{tabular}\n",
            "text/plain": [
              "  predictValues\n",
              "1 1630.2523    \n",
              "2 4366.4945    \n",
              "3 9496.3808    \n",
              "4 3478.3927    \n",
              "5  587.7675    \n",
              "6 4518.0574    "
            ]
          },
          "metadata": {}
        }
      ]
    },
    {
      "cell_type": "markdown",
      "source": [
        "###2.5-Add expensive column:"
      ],
      "metadata": {
        "id": "oprf9VxwZ_6R"
      }
    },
    {
      "cell_type": "code",
      "source": [
        "PV$expensive <- 1\n",
        "PV$expensive[PV$predictValues < 5000] <- 0\n",
        "PV$expensive <- factor(PV$expensive)\n",
        "head(PV)"
      ],
      "metadata": {
        "colab": {
          "base_uri": "https://localhost:8080/",
          "height": 286
        },
        "id": "sm_DpXfUaIAU",
        "outputId": "72c93702-234e-4267-8414-7716e23253b7"
      },
      "execution_count": 19,
      "outputs": [
        {
          "output_type": "display_data",
          "data": {
            "text/html": [
              "<table class=\"dataframe\">\n",
              "<caption>A data.frame: 6 × 2</caption>\n",
              "<thead>\n",
              "\t<tr><th></th><th scope=col>predictValues</th><th scope=col>expensive</th></tr>\n",
              "\t<tr><th></th><th scope=col>&lt;dbl&gt;</th><th scope=col>&lt;fct&gt;</th></tr>\n",
              "</thead>\n",
              "<tbody>\n",
              "\t<tr><th scope=row>1</th><td>1630.2523</td><td>0</td></tr>\n",
              "\t<tr><th scope=row>2</th><td>4366.4945</td><td>0</td></tr>\n",
              "\t<tr><th scope=row>3</th><td>9496.3808</td><td>1</td></tr>\n",
              "\t<tr><th scope=row>4</th><td>3478.3927</td><td>0</td></tr>\n",
              "\t<tr><th scope=row>5</th><td> 587.7675</td><td>0</td></tr>\n",
              "\t<tr><th scope=row>6</th><td>4518.0574</td><td>0</td></tr>\n",
              "</tbody>\n",
              "</table>\n"
            ],
            "text/markdown": "\nA data.frame: 6 × 2\n\n| <!--/--> | predictValues &lt;dbl&gt; | expensive &lt;fct&gt; |\n|---|---|---|\n| 1 | 1630.2523 | 0 |\n| 2 | 4366.4945 | 0 |\n| 3 | 9496.3808 | 1 |\n| 4 | 3478.3927 | 0 |\n| 5 |  587.7675 | 0 |\n| 6 | 4518.0574 | 0 |\n\n",
            "text/latex": "A data.frame: 6 × 2\n\\begin{tabular}{r|ll}\n  & predictValues & expensive\\\\\n  & <dbl> & <fct>\\\\\n\\hline\n\t1 & 1630.2523 & 0\\\\\n\t2 & 4366.4945 & 0\\\\\n\t3 & 9496.3808 & 1\\\\\n\t4 & 3478.3927 & 0\\\\\n\t5 &  587.7675 & 0\\\\\n\t6 & 4518.0574 & 0\\\\\n\\end{tabular}\n",
            "text/plain": [
              "  predictValues expensive\n",
              "1 1630.2523     0        \n",
              "2 4366.4945     0        \n",
              "3 9496.3808     1        \n",
              "4 3478.3927     0        \n",
              "5  587.7675     0        \n",
              "6 4518.0574     0        "
            ]
          },
          "metadata": {}
        }
      ]
    },
    {
      "cell_type": "markdown",
      "source": [
        "###2.7-Calculate the confusion matrix:"
      ],
      "metadata": {
        "id": "UqVb8QtnaWAJ"
      }
    },
    {
      "cell_type": "code",
      "source": [
        "table(PV$expensive,testDatalm$expensive)"
      ],
      "metadata": {
        "colab": {
          "base_uri": "https://localhost:8080/",
          "height": 88
        },
        "id": "VujdD-a7apm7",
        "outputId": "1a7fcf67-0cd3-4be9-fac7-213a87524beb"
      },
      "execution_count": 20,
      "outputs": [
        {
          "output_type": "display_data",
          "data": {
            "text/plain": [
              "   \n",
              "       0    1\n",
              "  0 1469  123\n",
              "  1  257  415"
            ]
          },
          "metadata": {}
        }
      ]
    },
    {
      "cell_type": "markdown",
      "source": [
        "###Calculate the accuracy:"
      ],
      "metadata": {
        "id": "jr_CpH4imzRn"
      }
    },
    {
      "cell_type": "code",
      "source": [
        "sum(diag(table(PV$expensive, testDatalm$expensive)))/sum(table(PV$expensive, testDatalm$expensive))"
      ],
      "metadata": {
        "colab": {
          "base_uri": "https://localhost:8080/",
          "height": 34
        },
        "id": "kJZiPo25m4Nq",
        "outputId": "1f67be74-77fe-4f79-d667-1bb82661c2f3"
      },
      "execution_count": 21,
      "outputs": [
        {
          "output_type": "display_data",
          "data": {
            "text/html": [
              "0.832155477031802"
            ],
            "text/markdown": "0.832155477031802",
            "text/latex": "0.832155477031802",
            "text/plain": [
              "[1] 0.8321555"
            ]
          },
          "metadata": {}
        }
      ]
    },
    {
      "cell_type": "markdown",
      "source": [
        "###2.8-Import the sample data:"
      ],
      "metadata": {
        "id": "94uw4guEpaU7"
      }
    },
    {
      "cell_type": "code",
      "source": [
        "sampleData <- read_csv(\"/content/HMO_TEST_data_sample.csv\")\n",
        "head(sampleData)"
      ],
      "metadata": {
        "colab": {
          "base_uri": "https://localhost:8080/",
          "height": 429
        },
        "id": "LlmhhRTBnv7o",
        "outputId": "69fd5e3e-68d1-4256-eb43-76810b9633ae"
      },
      "execution_count": 23,
      "outputs": [
        {
          "output_type": "stream",
          "name": "stderr",
          "text": [
            "\u001b[1mRows: \u001b[22m\u001b[34m20\u001b[39m \u001b[1mColumns: \u001b[22m\u001b[34m13\u001b[39m\n",
            "\u001b[36m──\u001b[39m \u001b[1mColumn specification\u001b[22m \u001b[36m────────────────────────────────────────────────────────\u001b[39m\n",
            "\u001b[1mDelimiter:\u001b[22m \",\"\n",
            "\u001b[31mchr\u001b[39m (8): smoker, location, location_type, education_level, yearly_physical, ...\n",
            "\u001b[32mdbl\u001b[39m (5): X, age, bmi, children, hypertension\n",
            "\n",
            "\u001b[36mℹ\u001b[39m Use `spec()` to retrieve the full column specification for this data.\n",
            "\u001b[36mℹ\u001b[39m Specify the column types or set `show_col_types = FALSE` to quiet this message.\n"
          ]
        },
        {
          "output_type": "display_data",
          "data": {
            "text/html": [
              "<table class=\"dataframe\">\n",
              "<caption>A tibble: 6 × 13</caption>\n",
              "<thead>\n",
              "\t<tr><th scope=col>X</th><th scope=col>age</th><th scope=col>bmi</th><th scope=col>children</th><th scope=col>smoker</th><th scope=col>location</th><th scope=col>location_type</th><th scope=col>education_level</th><th scope=col>yearly_physical</th><th scope=col>exercise</th><th scope=col>married</th><th scope=col>hypertension</th><th scope=col>gender</th></tr>\n",
              "\t<tr><th scope=col>&lt;dbl&gt;</th><th scope=col>&lt;dbl&gt;</th><th scope=col>&lt;dbl&gt;</th><th scope=col>&lt;dbl&gt;</th><th scope=col>&lt;chr&gt;</th><th scope=col>&lt;chr&gt;</th><th scope=col>&lt;chr&gt;</th><th scope=col>&lt;chr&gt;</th><th scope=col>&lt;chr&gt;</th><th scope=col>&lt;chr&gt;</th><th scope=col>&lt;chr&gt;</th><th scope=col>&lt;dbl&gt;</th><th scope=col>&lt;chr&gt;</th></tr>\n",
              "</thead>\n",
              "<tbody>\n",
              "\t<tr><td> 8</td><td>37</td><td>27.74</td><td>3</td><td>no </td><td>NEW JERSEY  </td><td>Urban  </td><td>Bachelor</td><td>Yes</td><td>Not-Active</td><td>Not_Married</td><td>0</td><td>female</td></tr>\n",
              "\t<tr><td>10</td><td>60</td><td>25.84</td><td>0</td><td>no </td><td>PENNSYLVANIA</td><td>Urban  </td><td>Bachelor</td><td>No </td><td>Not-Active</td><td>Married    </td><td>0</td><td>female</td></tr>\n",
              "\t<tr><td>20</td><td>30</td><td>35.30</td><td>0</td><td>yes</td><td>NEW YORK    </td><td>Country</td><td>PhD     </td><td>No </td><td>Not-Active</td><td>Married    </td><td>0</td><td>male  </td></tr>\n",
              "\t<tr><td>24</td><td>34</td><td>31.92</td><td>1</td><td>yes</td><td>PENNSYLVANIA</td><td>Urban  </td><td>Bachelor</td><td>No </td><td>Not-Active</td><td>Married    </td><td>0</td><td>female</td></tr>\n",
              "\t<tr><td>30</td><td>31</td><td>36.30</td><td>2</td><td>yes</td><td>PENNSYLVANIA</td><td>Urban  </td><td>Master  </td><td>Yes</td><td>Not-Active</td><td>Not_Married</td><td>0</td><td>male  </td></tr>\n",
              "\t<tr><td>31</td><td>22</td><td>35.60</td><td>0</td><td>yes</td><td>CONNECTICUT </td><td>Country</td><td>Bachelor</td><td>No </td><td>Not-Active</td><td>Not_Married</td><td>1</td><td>male  </td></tr>\n",
              "</tbody>\n",
              "</table>\n"
            ],
            "text/markdown": "\nA tibble: 6 × 13\n\n| X &lt;dbl&gt; | age &lt;dbl&gt; | bmi &lt;dbl&gt; | children &lt;dbl&gt; | smoker &lt;chr&gt; | location &lt;chr&gt; | location_type &lt;chr&gt; | education_level &lt;chr&gt; | yearly_physical &lt;chr&gt; | exercise &lt;chr&gt; | married &lt;chr&gt; | hypertension &lt;dbl&gt; | gender &lt;chr&gt; |\n|---|---|---|---|---|---|---|---|---|---|---|---|---|\n|  8 | 37 | 27.74 | 3 | no  | NEW JERSEY   | Urban   | Bachelor | Yes | Not-Active | Not_Married | 0 | female |\n| 10 | 60 | 25.84 | 0 | no  | PENNSYLVANIA | Urban   | Bachelor | No  | Not-Active | Married     | 0 | female |\n| 20 | 30 | 35.30 | 0 | yes | NEW YORK     | Country | PhD      | No  | Not-Active | Married     | 0 | male   |\n| 24 | 34 | 31.92 | 1 | yes | PENNSYLVANIA | Urban   | Bachelor | No  | Not-Active | Married     | 0 | female |\n| 30 | 31 | 36.30 | 2 | yes | PENNSYLVANIA | Urban   | Master   | Yes | Not-Active | Not_Married | 0 | male   |\n| 31 | 22 | 35.60 | 0 | yes | CONNECTICUT  | Country | Bachelor | No  | Not-Active | Not_Married | 1 | male   |\n\n",
            "text/latex": "A tibble: 6 × 13\n\\begin{tabular}{lllllllllllll}\n X & age & bmi & children & smoker & location & location\\_type & education\\_level & yearly\\_physical & exercise & married & hypertension & gender\\\\\n <dbl> & <dbl> & <dbl> & <dbl> & <chr> & <chr> & <chr> & <chr> & <chr> & <chr> & <chr> & <dbl> & <chr>\\\\\n\\hline\n\t  8 & 37 & 27.74 & 3 & no  & NEW JERSEY   & Urban   & Bachelor & Yes & Not-Active & Not\\_Married & 0 & female\\\\\n\t 10 & 60 & 25.84 & 0 & no  & PENNSYLVANIA & Urban   & Bachelor & No  & Not-Active & Married     & 0 & female\\\\\n\t 20 & 30 & 35.30 & 0 & yes & NEW YORK     & Country & PhD      & No  & Not-Active & Married     & 0 & male  \\\\\n\t 24 & 34 & 31.92 & 1 & yes & PENNSYLVANIA & Urban   & Bachelor & No  & Not-Active & Married     & 0 & female\\\\\n\t 30 & 31 & 36.30 & 2 & yes & PENNSYLVANIA & Urban   & Master   & Yes & Not-Active & Not\\_Married & 0 & male  \\\\\n\t 31 & 22 & 35.60 & 0 & yes & CONNECTICUT  & Country & Bachelor & No  & Not-Active & Not\\_Married & 1 & male  \\\\\n\\end{tabular}\n",
            "text/plain": [
              "  X  age bmi   children smoker location     location_type education_level\n",
              "1  8 37  27.74 3        no     NEW JERSEY   Urban         Bachelor       \n",
              "2 10 60  25.84 0        no     PENNSYLVANIA Urban         Bachelor       \n",
              "3 20 30  35.30 0        yes    NEW YORK     Country       PhD            \n",
              "4 24 34  31.92 1        yes    PENNSYLVANIA Urban         Bachelor       \n",
              "5 30 31  36.30 2        yes    PENNSYLVANIA Urban         Master         \n",
              "6 31 22  35.60 0        yes    CONNECTICUT  Country       Bachelor       \n",
              "  yearly_physical exercise   married     hypertension gender\n",
              "1 Yes             Not-Active Not_Married 0            female\n",
              "2 No              Not-Active Married     0            female\n",
              "3 No              Not-Active Married     0            male  \n",
              "4 No              Not-Active Married     0            female\n",
              "5 Yes             Not-Active Not_Married 0            male  \n",
              "6 No              Not-Active Not_Married 1            male  "
            ]
          },
          "metadata": {}
        }
      ]
    },
    {
      "cell_type": "markdown",
      "source": [
        "###2.9-Changing the characters to factors:"
      ],
      "metadata": {
        "id": "oiPFATUhry1q"
      }
    },
    {
      "cell_type": "code",
      "source": [
        "sampleData <- mutate_if(sampleData,is.character, factor)\n",
        "sampleData$children <- as.factor(sampleData$children)\n",
        "sampleData$hypertension <- as.factor(sampleData$hypertension)\n",
        "head(sampleData)"
      ],
      "metadata": {
        "colab": {
          "base_uri": "https://localhost:8080/",
          "height": 286
        },
        "id": "OdqdUDVXbL8w",
        "outputId": "08df12a6-628d-4fa8-d7d5-ea46db8a772a"
      },
      "execution_count": 24,
      "outputs": [
        {
          "output_type": "display_data",
          "data": {
            "text/html": [
              "<table class=\"dataframe\">\n",
              "<caption>A tibble: 6 × 13</caption>\n",
              "<thead>\n",
              "\t<tr><th scope=col>X</th><th scope=col>age</th><th scope=col>bmi</th><th scope=col>children</th><th scope=col>smoker</th><th scope=col>location</th><th scope=col>location_type</th><th scope=col>education_level</th><th scope=col>yearly_physical</th><th scope=col>exercise</th><th scope=col>married</th><th scope=col>hypertension</th><th scope=col>gender</th></tr>\n",
              "\t<tr><th scope=col>&lt;dbl&gt;</th><th scope=col>&lt;dbl&gt;</th><th scope=col>&lt;dbl&gt;</th><th scope=col>&lt;fct&gt;</th><th scope=col>&lt;fct&gt;</th><th scope=col>&lt;fct&gt;</th><th scope=col>&lt;fct&gt;</th><th scope=col>&lt;fct&gt;</th><th scope=col>&lt;fct&gt;</th><th scope=col>&lt;fct&gt;</th><th scope=col>&lt;fct&gt;</th><th scope=col>&lt;fct&gt;</th><th scope=col>&lt;fct&gt;</th></tr>\n",
              "</thead>\n",
              "<tbody>\n",
              "\t<tr><td> 8</td><td>37</td><td>27.74</td><td>3</td><td>no </td><td>NEW JERSEY  </td><td>Urban  </td><td>Bachelor</td><td>Yes</td><td>Not-Active</td><td>Not_Married</td><td>0</td><td>female</td></tr>\n",
              "\t<tr><td>10</td><td>60</td><td>25.84</td><td>0</td><td>no </td><td>PENNSYLVANIA</td><td>Urban  </td><td>Bachelor</td><td>No </td><td>Not-Active</td><td>Married    </td><td>0</td><td>female</td></tr>\n",
              "\t<tr><td>20</td><td>30</td><td>35.30</td><td>0</td><td>yes</td><td>NEW YORK    </td><td>Country</td><td>PhD     </td><td>No </td><td>Not-Active</td><td>Married    </td><td>0</td><td>male  </td></tr>\n",
              "\t<tr><td>24</td><td>34</td><td>31.92</td><td>1</td><td>yes</td><td>PENNSYLVANIA</td><td>Urban  </td><td>Bachelor</td><td>No </td><td>Not-Active</td><td>Married    </td><td>0</td><td>female</td></tr>\n",
              "\t<tr><td>30</td><td>31</td><td>36.30</td><td>2</td><td>yes</td><td>PENNSYLVANIA</td><td>Urban  </td><td>Master  </td><td>Yes</td><td>Not-Active</td><td>Not_Married</td><td>0</td><td>male  </td></tr>\n",
              "\t<tr><td>31</td><td>22</td><td>35.60</td><td>0</td><td>yes</td><td>CONNECTICUT </td><td>Country</td><td>Bachelor</td><td>No </td><td>Not-Active</td><td>Not_Married</td><td>1</td><td>male  </td></tr>\n",
              "</tbody>\n",
              "</table>\n"
            ],
            "text/markdown": "\nA tibble: 6 × 13\n\n| X &lt;dbl&gt; | age &lt;dbl&gt; | bmi &lt;dbl&gt; | children &lt;fct&gt; | smoker &lt;fct&gt; | location &lt;fct&gt; | location_type &lt;fct&gt; | education_level &lt;fct&gt; | yearly_physical &lt;fct&gt; | exercise &lt;fct&gt; | married &lt;fct&gt; | hypertension &lt;fct&gt; | gender &lt;fct&gt; |\n|---|---|---|---|---|---|---|---|---|---|---|---|---|\n|  8 | 37 | 27.74 | 3 | no  | NEW JERSEY   | Urban   | Bachelor | Yes | Not-Active | Not_Married | 0 | female |\n| 10 | 60 | 25.84 | 0 | no  | PENNSYLVANIA | Urban   | Bachelor | No  | Not-Active | Married     | 0 | female |\n| 20 | 30 | 35.30 | 0 | yes | NEW YORK     | Country | PhD      | No  | Not-Active | Married     | 0 | male   |\n| 24 | 34 | 31.92 | 1 | yes | PENNSYLVANIA | Urban   | Bachelor | No  | Not-Active | Married     | 0 | female |\n| 30 | 31 | 36.30 | 2 | yes | PENNSYLVANIA | Urban   | Master   | Yes | Not-Active | Not_Married | 0 | male   |\n| 31 | 22 | 35.60 | 0 | yes | CONNECTICUT  | Country | Bachelor | No  | Not-Active | Not_Married | 1 | male   |\n\n",
            "text/latex": "A tibble: 6 × 13\n\\begin{tabular}{lllllllllllll}\n X & age & bmi & children & smoker & location & location\\_type & education\\_level & yearly\\_physical & exercise & married & hypertension & gender\\\\\n <dbl> & <dbl> & <dbl> & <fct> & <fct> & <fct> & <fct> & <fct> & <fct> & <fct> & <fct> & <fct> & <fct>\\\\\n\\hline\n\t  8 & 37 & 27.74 & 3 & no  & NEW JERSEY   & Urban   & Bachelor & Yes & Not-Active & Not\\_Married & 0 & female\\\\\n\t 10 & 60 & 25.84 & 0 & no  & PENNSYLVANIA & Urban   & Bachelor & No  & Not-Active & Married     & 0 & female\\\\\n\t 20 & 30 & 35.30 & 0 & yes & NEW YORK     & Country & PhD      & No  & Not-Active & Married     & 0 & male  \\\\\n\t 24 & 34 & 31.92 & 1 & yes & PENNSYLVANIA & Urban   & Bachelor & No  & Not-Active & Married     & 0 & female\\\\\n\t 30 & 31 & 36.30 & 2 & yes & PENNSYLVANIA & Urban   & Master   & Yes & Not-Active & Not\\_Married & 0 & male  \\\\\n\t 31 & 22 & 35.60 & 0 & yes & CONNECTICUT  & Country & Bachelor & No  & Not-Active & Not\\_Married & 1 & male  \\\\\n\\end{tabular}\n",
            "text/plain": [
              "  X  age bmi   children smoker location     location_type education_level\n",
              "1  8 37  27.74 3        no     NEW JERSEY   Urban         Bachelor       \n",
              "2 10 60  25.84 0        no     PENNSYLVANIA Urban         Bachelor       \n",
              "3 20 30  35.30 0        yes    NEW YORK     Country       PhD            \n",
              "4 24 34  31.92 1        yes    PENNSYLVANIA Urban         Bachelor       \n",
              "5 30 31  36.30 2        yes    PENNSYLVANIA Urban         Master         \n",
              "6 31 22  35.60 0        yes    CONNECTICUT  Country       Bachelor       \n",
              "  yearly_physical exercise   married     hypertension gender\n",
              "1 Yes             Not-Active Not_Married 0            female\n",
              "2 No              Not-Active Married     0            female\n",
              "3 No              Not-Active Married     0            male  \n",
              "4 No              Not-Active Married     0            female\n",
              "5 Yes             Not-Active Not_Married 0            male  \n",
              "6 No              Not-Active Not_Married 1            male  "
            ]
          },
          "metadata": {}
        }
      ]
    },
    {
      "cell_type": "markdown",
      "source": [
        "###2.10-Training the linear model with the whole data set:"
      ],
      "metadata": {
        "id": "aLBrrLmheBXU"
      }
    },
    {
      "cell_type": "code",
      "source": [
        "lmodelFinal2 <- lm(cost ~ age+ bmi+ children+ smoker+ location+ exercise+ hypertension ,data=df)\n",
        "summary(lmodelFinal2)"
      ],
      "metadata": {
        "colab": {
          "base_uri": "https://localhost:8080/",
          "height": 624
        },
        "id": "z_87Y028eF2T",
        "outputId": "2658e9ad-11b0-4c32-ef0a-655a199aac15"
      },
      "execution_count": 25,
      "outputs": [
        {
          "output_type": "display_data",
          "data": {
            "text/plain": [
              "\n",
              "Call:\n",
              "lm(formula = cost ~ age + bmi + children + smoker + location + \n",
              "    exercise + hypertension, data = df)\n",
              "\n",
              "Residuals:\n",
              "   Min     1Q Median     3Q    Max \n",
              "-12019  -1474   -340   1008  41812 \n",
              "\n",
              "Coefficients:\n",
              "                       Estimate Std. Error t value Pr(>|t|)    \n",
              "(Intercept)           -9127.607    257.150 -35.495  < 2e-16 ***\n",
              "age                     102.117      2.637  38.731  < 2e-16 ***\n",
              "bmi                     181.255      6.239  29.050  < 2e-16 ***\n",
              "children1               297.351     95.320   3.119 0.001818 ** \n",
              "children2               852.465    104.110   8.188 3.09e-16 ***\n",
              "children3               478.194    120.076   3.982 6.89e-05 ***\n",
              "children4              1209.542    288.282   4.196 2.75e-05 ***\n",
              "children5               740.015    310.183   2.386 0.017070 *  \n",
              "smokeryes              7672.105     93.960  81.653  < 2e-16 ***\n",
              "locationMARYLAND       -135.553    176.136  -0.770 0.441564    \n",
              "locationMASSACHUSETTS    -8.957    198.729  -0.045 0.964050    \n",
              "locationNEW JERSEY      124.877    194.851   0.641 0.521615    \n",
              "locationNEW YORK        470.923    190.111   2.477 0.013268 *  \n",
              "locationPENNSYLVANIA      1.168    140.276   0.008 0.993357    \n",
              "locationRHODE ISLAND    112.729    178.545   0.631 0.527815    \n",
              "exerciseNot-Active     2264.930     85.675  26.436  < 2e-16 ***\n",
              "hypertension1           338.574     92.807   3.648 0.000266 ***\n",
              "---\n",
              "Signif. codes:  0 ‘***’ 0.001 ‘**’ 0.01 ‘*’ 0.05 ‘.’ 0.1 ‘ ’ 1\n",
              "\n",
              "Residual standard error: 3218 on 7535 degrees of freedom\n",
              "Multiple R-squared:  0.5753,\tAdjusted R-squared:  0.5744 \n",
              "F-statistic: 637.8 on 16 and 7535 DF,  p-value: < 2.2e-16\n"
            ]
          },
          "metadata": {}
        }
      ]
    },
    {
      "cell_type": "markdown",
      "source": [
        "###2.11-Prediction for sample data:"
      ],
      "metadata": {
        "id": "wrWhZiVjedNY"
      }
    },
    {
      "cell_type": "code",
      "source": [
        "predFinal2 <- predict(lmodelFinal2, newdata=sampleData)\n",
        "PV2 <- data.frame(predFinal2)\n",
        "PV2"
      ],
      "metadata": {
        "colab": {
          "base_uri": "https://localhost:8080/",
          "height": 725
        },
        "id": "ziYphr5qegFg",
        "outputId": "24b79827-679d-465c-8566-df0331623e38"
      },
      "execution_count": 26,
      "outputs": [
        {
          "output_type": "display_data",
          "data": {
            "text/html": [
              "<table class=\"dataframe\">\n",
              "<caption>A data.frame: 20 × 1</caption>\n",
              "<thead>\n",
              "\t<tr><th></th><th scope=col>predFinal2</th></tr>\n",
              "\t<tr><th></th><th scope=col>&lt;dbl&gt;</th></tr>\n",
              "</thead>\n",
              "<tbody>\n",
              "\t<tr><th scope=row>1</th><td> 2546.7602</td></tr>\n",
              "\t<tr><th scope=row>2</th><td> 3949.1742</td></tr>\n",
              "\t<tr><th scope=row>3</th><td>10742.1846</td></tr>\n",
              "\t<tr><th scope=row>4</th><td>10365.6079</td></tr>\n",
              "\t<tr><th scope=row>5</th><td>11408.2669</td></tr>\n",
              "\t<tr><th scope=row>6</th><td> 9847.2728</td></tr>\n",
              "\t<tr><th scope=row>7</th><td>10428.2051</td></tr>\n",
              "\t<tr><th scope=row>8</th><td>11318.5622</td></tr>\n",
              "\t<tr><th scope=row>9</th><td>  749.2737</td></tr>\n",
              "\t<tr><th scope=row>10</th><td> 1520.9202</td></tr>\n",
              "\t<tr><th scope=row>11</th><td> 6841.6893</td></tr>\n",
              "\t<tr><th scope=row>12</th><td> 2280.1467</td></tr>\n",
              "\t<tr><th scope=row>13</th><td> 4120.2226</td></tr>\n",
              "\t<tr><th scope=row>14</th><td> 6229.6491</td></tr>\n",
              "\t<tr><th scope=row>15</th><td> 8177.5441</td></tr>\n",
              "\t<tr><th scope=row>16</th><td> 2672.2048</td></tr>\n",
              "\t<tr><th scope=row>17</th><td> 2858.7464</td></tr>\n",
              "\t<tr><th scope=row>18</th><td>  335.0087</td></tr>\n",
              "\t<tr><th scope=row>19</th><td> 4673.1330</td></tr>\n",
              "\t<tr><th scope=row>20</th><td> 2862.7465</td></tr>\n",
              "</tbody>\n",
              "</table>\n"
            ],
            "text/markdown": "\nA data.frame: 20 × 1\n\n| <!--/--> | predFinal2 &lt;dbl&gt; |\n|---|---|\n| 1 |  2546.7602 |\n| 2 |  3949.1742 |\n| 3 | 10742.1846 |\n| 4 | 10365.6079 |\n| 5 | 11408.2669 |\n| 6 |  9847.2728 |\n| 7 | 10428.2051 |\n| 8 | 11318.5622 |\n| 9 |   749.2737 |\n| 10 |  1520.9202 |\n| 11 |  6841.6893 |\n| 12 |  2280.1467 |\n| 13 |  4120.2226 |\n| 14 |  6229.6491 |\n| 15 |  8177.5441 |\n| 16 |  2672.2048 |\n| 17 |  2858.7464 |\n| 18 |   335.0087 |\n| 19 |  4673.1330 |\n| 20 |  2862.7465 |\n\n",
            "text/latex": "A data.frame: 20 × 1\n\\begin{tabular}{r|l}\n  & predFinal2\\\\\n  & <dbl>\\\\\n\\hline\n\t1 &  2546.7602\\\\\n\t2 &  3949.1742\\\\\n\t3 & 10742.1846\\\\\n\t4 & 10365.6079\\\\\n\t5 & 11408.2669\\\\\n\t6 &  9847.2728\\\\\n\t7 & 10428.2051\\\\\n\t8 & 11318.5622\\\\\n\t9 &   749.2737\\\\\n\t10 &  1520.9202\\\\\n\t11 &  6841.6893\\\\\n\t12 &  2280.1467\\\\\n\t13 &  4120.2226\\\\\n\t14 &  6229.6491\\\\\n\t15 &  8177.5441\\\\\n\t16 &  2672.2048\\\\\n\t17 &  2858.7464\\\\\n\t18 &   335.0087\\\\\n\t19 &  4673.1330\\\\\n\t20 &  2862.7465\\\\\n\\end{tabular}\n",
            "text/plain": [
              "   predFinal2\n",
              "1   2546.7602\n",
              "2   3949.1742\n",
              "3  10742.1846\n",
              "4  10365.6079\n",
              "5  11408.2669\n",
              "6   9847.2728\n",
              "7  10428.2051\n",
              "8  11318.5622\n",
              "9    749.2737\n",
              "10  1520.9202\n",
              "11  6841.6893\n",
              "12  2280.1467\n",
              "13  4120.2226\n",
              "14  6229.6491\n",
              "15  8177.5441\n",
              "16  2672.2048\n",
              "17  2858.7464\n",
              "18   335.0087\n",
              "19  4673.1330\n",
              "20  2862.7465"
            ]
          },
          "metadata": {}
        }
      ]
    },
    {
      "cell_type": "markdown",
      "source": [
        "###2.12-Add index:"
      ],
      "metadata": {
        "id": "DsoiJJDhf7hD"
      }
    },
    {
      "cell_type": "code",
      "source": [
        "PV2$X <- sampleData$X\n",
        "head(PV2)"
      ],
      "metadata": {
        "colab": {
          "base_uri": "https://localhost:8080/",
          "height": 286
        },
        "id": "jF1EiRPKf-CV",
        "outputId": "d78deb78-f957-4273-ff47-3a1c4102f21a"
      },
      "execution_count": 27,
      "outputs": [
        {
          "output_type": "display_data",
          "data": {
            "text/html": [
              "<table class=\"dataframe\">\n",
              "<caption>A data.frame: 6 × 2</caption>\n",
              "<thead>\n",
              "\t<tr><th></th><th scope=col>predFinal2</th><th scope=col>X</th></tr>\n",
              "\t<tr><th></th><th scope=col>&lt;dbl&gt;</th><th scope=col>&lt;dbl&gt;</th></tr>\n",
              "</thead>\n",
              "<tbody>\n",
              "\t<tr><th scope=row>1</th><td> 2546.760</td><td> 8</td></tr>\n",
              "\t<tr><th scope=row>2</th><td> 3949.174</td><td>10</td></tr>\n",
              "\t<tr><th scope=row>3</th><td>10742.185</td><td>20</td></tr>\n",
              "\t<tr><th scope=row>4</th><td>10365.608</td><td>24</td></tr>\n",
              "\t<tr><th scope=row>5</th><td>11408.267</td><td>30</td></tr>\n",
              "\t<tr><th scope=row>6</th><td> 9847.273</td><td>31</td></tr>\n",
              "</tbody>\n",
              "</table>\n"
            ],
            "text/markdown": "\nA data.frame: 6 × 2\n\n| <!--/--> | predFinal2 &lt;dbl&gt; | X &lt;dbl&gt; |\n|---|---|---|\n| 1 |  2546.760 |  8 |\n| 2 |  3949.174 | 10 |\n| 3 | 10742.185 | 20 |\n| 4 | 10365.608 | 24 |\n| 5 | 11408.267 | 30 |\n| 6 |  9847.273 | 31 |\n\n",
            "text/latex": "A data.frame: 6 × 2\n\\begin{tabular}{r|ll}\n  & predFinal2 & X\\\\\n  & <dbl> & <dbl>\\\\\n\\hline\n\t1 &  2546.760 &  8\\\\\n\t2 &  3949.174 & 10\\\\\n\t3 & 10742.185 & 20\\\\\n\t4 & 10365.608 & 24\\\\\n\t5 & 11408.267 & 30\\\\\n\t6 &  9847.273 & 31\\\\\n\\end{tabular}\n",
            "text/plain": [
              "  predFinal2 X \n",
              "1  2546.760   8\n",
              "2  3949.174  10\n",
              "3 10742.185  20\n",
              "4 10365.608  24\n",
              "5 11408.267  30\n",
              "6  9847.273  31"
            ]
          },
          "metadata": {}
        }
      ]
    },
    {
      "cell_type": "markdown",
      "source": [
        "###2.13-Add expensive column:"
      ],
      "metadata": {
        "id": "KWx2oVLneo8I"
      }
    },
    {
      "cell_type": "code",
      "source": [
        "PV2$expensive <- 1\n",
        "PV2$expensive[PV2$predFinal2 < 5000] <- 0\n",
        "PV2$expensive <- factor(PV2$expensive)\n",
        "head(PV2)"
      ],
      "metadata": {
        "colab": {
          "base_uri": "https://localhost:8080/",
          "height": 286
        },
        "id": "r8PKN5Q-epGR",
        "outputId": "49ee0026-bd87-420e-d6c2-e66a6b4033d8"
      },
      "execution_count": 28,
      "outputs": [
        {
          "output_type": "display_data",
          "data": {
            "text/html": [
              "<table class=\"dataframe\">\n",
              "<caption>A data.frame: 6 × 3</caption>\n",
              "<thead>\n",
              "\t<tr><th></th><th scope=col>predFinal2</th><th scope=col>X</th><th scope=col>expensive</th></tr>\n",
              "\t<tr><th></th><th scope=col>&lt;dbl&gt;</th><th scope=col>&lt;dbl&gt;</th><th scope=col>&lt;fct&gt;</th></tr>\n",
              "</thead>\n",
              "<tbody>\n",
              "\t<tr><th scope=row>1</th><td> 2546.760</td><td> 8</td><td>0</td></tr>\n",
              "\t<tr><th scope=row>2</th><td> 3949.174</td><td>10</td><td>0</td></tr>\n",
              "\t<tr><th scope=row>3</th><td>10742.185</td><td>20</td><td>1</td></tr>\n",
              "\t<tr><th scope=row>4</th><td>10365.608</td><td>24</td><td>1</td></tr>\n",
              "\t<tr><th scope=row>5</th><td>11408.267</td><td>30</td><td>1</td></tr>\n",
              "\t<tr><th scope=row>6</th><td> 9847.273</td><td>31</td><td>1</td></tr>\n",
              "</tbody>\n",
              "</table>\n"
            ],
            "text/markdown": "\nA data.frame: 6 × 3\n\n| <!--/--> | predFinal2 &lt;dbl&gt; | X &lt;dbl&gt; | expensive &lt;fct&gt; |\n|---|---|---|---|\n| 1 |  2546.760 |  8 | 0 |\n| 2 |  3949.174 | 10 | 0 |\n| 3 | 10742.185 | 20 | 1 |\n| 4 | 10365.608 | 24 | 1 |\n| 5 | 11408.267 | 30 | 1 |\n| 6 |  9847.273 | 31 | 1 |\n\n",
            "text/latex": "A data.frame: 6 × 3\n\\begin{tabular}{r|lll}\n  & predFinal2 & X & expensive\\\\\n  & <dbl> & <dbl> & <fct>\\\\\n\\hline\n\t1 &  2546.760 &  8 & 0\\\\\n\t2 &  3949.174 & 10 & 0\\\\\n\t3 & 10742.185 & 20 & 1\\\\\n\t4 & 10365.608 & 24 & 1\\\\\n\t5 & 11408.267 & 30 & 1\\\\\n\t6 &  9847.273 & 31 & 1\\\\\n\\end{tabular}\n",
            "text/plain": [
              "  predFinal2 X  expensive\n",
              "1  2546.760   8 0        \n",
              "2  3949.174  10 0        \n",
              "3 10742.185  20 1        \n",
              "4 10365.608  24 1        \n",
              "5 11408.267  30 1        \n",
              "6  9847.273  31 1        "
            ]
          },
          "metadata": {}
        }
      ]
    },
    {
      "cell_type": "markdown",
      "source": [
        "###2.14-Changing the expensive column values from 0/1 to FALSE/TRUE"
      ],
      "metadata": {
        "id": "7ZFbeIcUg30d"
      }
    },
    {
      "cell_type": "code",
      "source": [
        "PV3 <- PV2\n",
        "PV3$expensive <- as.character(PV3$expensive)\n",
        "PV3$expensive[PV3$expensive == '1'] <- 'TRUE'\n",
        "PV3$expensive[PV3$expensive == '0'] <- 'FALSE'\n",
        "PV3$expensive <- as.factor(PV3$expensive)\n",
        "PV3 <- (PV3[, -1])\n",
        "head(PV3)"
      ],
      "metadata": {
        "colab": {
          "base_uri": "https://localhost:8080/",
          "height": 286
        },
        "id": "Hcgtws74g5pb",
        "outputId": "78e0578f-a941-47a0-dc62-4f97d3eb6a7c"
      },
      "execution_count": 29,
      "outputs": [
        {
          "output_type": "display_data",
          "data": {
            "text/html": [
              "<table class=\"dataframe\">\n",
              "<caption>A data.frame: 6 × 2</caption>\n",
              "<thead>\n",
              "\t<tr><th></th><th scope=col>X</th><th scope=col>expensive</th></tr>\n",
              "\t<tr><th></th><th scope=col>&lt;dbl&gt;</th><th scope=col>&lt;fct&gt;</th></tr>\n",
              "</thead>\n",
              "<tbody>\n",
              "\t<tr><th scope=row>1</th><td> 8</td><td>FALSE</td></tr>\n",
              "\t<tr><th scope=row>2</th><td>10</td><td>FALSE</td></tr>\n",
              "\t<tr><th scope=row>3</th><td>20</td><td>TRUE </td></tr>\n",
              "\t<tr><th scope=row>4</th><td>24</td><td>TRUE </td></tr>\n",
              "\t<tr><th scope=row>5</th><td>30</td><td>TRUE </td></tr>\n",
              "\t<tr><th scope=row>6</th><td>31</td><td>TRUE </td></tr>\n",
              "</tbody>\n",
              "</table>\n"
            ],
            "text/markdown": "\nA data.frame: 6 × 2\n\n| <!--/--> | X &lt;dbl&gt; | expensive &lt;fct&gt; |\n|---|---|---|\n| 1 |  8 | FALSE |\n| 2 | 10 | FALSE |\n| 3 | 20 | TRUE  |\n| 4 | 24 | TRUE  |\n| 5 | 30 | TRUE  |\n| 6 | 31 | TRUE  |\n\n",
            "text/latex": "A data.frame: 6 × 2\n\\begin{tabular}{r|ll}\n  & X & expensive\\\\\n  & <dbl> & <fct>\\\\\n\\hline\n\t1 &  8 & FALSE\\\\\n\t2 & 10 & FALSE\\\\\n\t3 & 20 & TRUE \\\\\n\t4 & 24 & TRUE \\\\\n\t5 & 30 & TRUE \\\\\n\t6 & 31 & TRUE \\\\\n\\end{tabular}\n",
            "text/plain": [
              "  X  expensive\n",
              "1  8 FALSE    \n",
              "2 10 FALSE    \n",
              "3 20 TRUE     \n",
              "4 24 TRUE     \n",
              "5 30 TRUE     \n",
              "6 31 TRUE     "
            ]
          },
          "metadata": {}
        }
      ]
    },
    {
      "cell_type": "markdown",
      "source": [
        "###2.15-Importing the sample solution:"
      ],
      "metadata": {
        "id": "_4LqVZSqhZmc"
      }
    },
    {
      "cell_type": "code",
      "source": [
        "sampleSolution <- read.csv(\"/content/HMO_TEST_data_sample_solution.csv\")\n",
        "sampleSolution"
      ],
      "metadata": {
        "colab": {
          "base_uri": "https://localhost:8080/",
          "height": 725
        },
        "id": "t2RqzkWMhctg",
        "outputId": "518e93db-4610-45f0-860f-01290ffbe639"
      },
      "execution_count": 30,
      "outputs": [
        {
          "output_type": "display_data",
          "data": {
            "text/html": [
              "<table class=\"dataframe\">\n",
              "<caption>A data.frame: 20 × 2</caption>\n",
              "<thead>\n",
              "\t<tr><th scope=col>X</th><th scope=col>expensive</th></tr>\n",
              "\t<tr><th scope=col>&lt;int&gt;</th><th scope=col>&lt;lgl&gt;</th></tr>\n",
              "</thead>\n",
              "<tbody>\n",
              "\t<tr><td> 8</td><td> TRUE</td></tr>\n",
              "\t<tr><td>10</td><td> TRUE</td></tr>\n",
              "\t<tr><td>20</td><td>FALSE</td></tr>\n",
              "\t<tr><td>24</td><td>FALSE</td></tr>\n",
              "\t<tr><td>30</td><td>FALSE</td></tr>\n",
              "\t<tr><td>31</td><td> TRUE</td></tr>\n",
              "\t<tr><td>35</td><td> TRUE</td></tr>\n",
              "\t<tr><td>39</td><td> TRUE</td></tr>\n",
              "\t<tr><td>41</td><td>FALSE</td></tr>\n",
              "\t<tr><td>42</td><td>FALSE</td></tr>\n",
              "\t<tr><td>58</td><td> TRUE</td></tr>\n",
              "\t<tr><td>68</td><td>FALSE</td></tr>\n",
              "\t<tr><td>69</td><td>FALSE</td></tr>\n",
              "\t<tr><td>70</td><td>FALSE</td></tr>\n",
              "\t<tr><td>71</td><td>FALSE</td></tr>\n",
              "\t<tr><td>72</td><td>FALSE</td></tr>\n",
              "\t<tr><td>76</td><td>FALSE</td></tr>\n",
              "\t<tr><td>79</td><td> TRUE</td></tr>\n",
              "\t<tr><td>82</td><td>FALSE</td></tr>\n",
              "\t<tr><td>89</td><td> TRUE</td></tr>\n",
              "</tbody>\n",
              "</table>\n"
            ],
            "text/markdown": "\nA data.frame: 20 × 2\n\n| X &lt;int&gt; | expensive &lt;lgl&gt; |\n|---|---|\n|  8 |  TRUE |\n| 10 |  TRUE |\n| 20 | FALSE |\n| 24 | FALSE |\n| 30 | FALSE |\n| 31 |  TRUE |\n| 35 |  TRUE |\n| 39 |  TRUE |\n| 41 | FALSE |\n| 42 | FALSE |\n| 58 |  TRUE |\n| 68 | FALSE |\n| 69 | FALSE |\n| 70 | FALSE |\n| 71 | FALSE |\n| 72 | FALSE |\n| 76 | FALSE |\n| 79 |  TRUE |\n| 82 | FALSE |\n| 89 |  TRUE |\n\n",
            "text/latex": "A data.frame: 20 × 2\n\\begin{tabular}{ll}\n X & expensive\\\\\n <int> & <lgl>\\\\\n\\hline\n\t  8 &  TRUE\\\\\n\t 10 &  TRUE\\\\\n\t 20 & FALSE\\\\\n\t 24 & FALSE\\\\\n\t 30 & FALSE\\\\\n\t 31 &  TRUE\\\\\n\t 35 &  TRUE\\\\\n\t 39 &  TRUE\\\\\n\t 41 & FALSE\\\\\n\t 42 & FALSE\\\\\n\t 58 &  TRUE\\\\\n\t 68 & FALSE\\\\\n\t 69 & FALSE\\\\\n\t 70 & FALSE\\\\\n\t 71 & FALSE\\\\\n\t 72 & FALSE\\\\\n\t 76 & FALSE\\\\\n\t 79 &  TRUE\\\\\n\t 82 & FALSE\\\\\n\t 89 &  TRUE\\\\\n\\end{tabular}\n",
            "text/plain": [
              "   X  expensive\n",
              "1   8  TRUE    \n",
              "2  10  TRUE    \n",
              "3  20 FALSE    \n",
              "4  24 FALSE    \n",
              "5  30 FALSE    \n",
              "6  31  TRUE    \n",
              "7  35  TRUE    \n",
              "8  39  TRUE    \n",
              "9  41 FALSE    \n",
              "10 42 FALSE    \n",
              "11 58  TRUE    \n",
              "12 68 FALSE    \n",
              "13 69 FALSE    \n",
              "14 70 FALSE    \n",
              "15 71 FALSE    \n",
              "16 72 FALSE    \n",
              "17 76 FALSE    \n",
              "18 79  TRUE    \n",
              "19 82 FALSE    \n",
              "20 89  TRUE    "
            ]
          },
          "metadata": {}
        }
      ]
    },
    {
      "cell_type": "markdown",
      "source": [
        "###2.16-Calculating the accuracy for the sample data:"
      ],
      "metadata": {
        "id": "Z8yRhLHkhRzj"
      }
    },
    {
      "cell_type": "code",
      "source": [
        "table(sampleSolution$expensive, PV3$expensive)\n",
        "sum(diag(table(sampleSolution$expensive, PV3$expensive)))/sum(table(sampleSolution$expensive, PV3$expensive))"
      ],
      "metadata": {
        "colab": {
          "base_uri": "https://localhost:8080/",
          "height": 106
        },
        "id": "kTf2ivuVr4vo",
        "outputId": "3789adba-2c47-405f-81c8-a889be362c55"
      },
      "execution_count": 31,
      "outputs": [
        {
          "output_type": "display_data",
          "data": {
            "text/plain": [
              "       \n",
              "        FALSE TRUE\n",
              "  FALSE     7    5\n",
              "  TRUE      4    4"
            ]
          },
          "metadata": {}
        },
        {
          "output_type": "display_data",
          "data": {
            "text/html": [
              "0.55"
            ],
            "text/markdown": "0.55",
            "text/latex": "0.55",
            "text/plain": [
              "[1] 0.55"
            ]
          },
          "metadata": {}
        }
      ]
    },
    {
      "cell_type": "markdown",
      "metadata": {
        "id": "qLNPdOVSj3eY"
      },
      "source": [
        "###2.17-Calculating the sensitivity:"
      ]
    },
    {
      "cell_type": "code",
      "source": [],
      "metadata": {
        "id": "Bww3-btN7FLr"
      },
      "execution_count": null,
      "outputs": []
    },
    {
      "cell_type": "markdown",
      "metadata": {
        "id": "CzVVpvru2ttk"
      },
      "source": [
        "#3-SVM:"
      ]
    },
    {
      "cell_type": "markdown",
      "source": [
        "###3.1-Remove the cost column:"
      ],
      "metadata": {
        "id": "32cMRVK68LzQ"
      }
    },
    {
      "cell_type": "code",
      "source": [
        "dfsvm <- df \n",
        "dfsvm <- subset(dfsvm, select = c(-14))\n",
        "# dfsvm$X <- as.numeric(dfsvm$X)\n",
        "# dfsvm$age <- as.numeric(dfsvm$age)\n",
        "# dfsvm$bmi <- as.numeric(dfsvm$bmi)\n",
        "# dfsvm$children <- as.numeric(dfsvm$children)\n",
        "# dfsvm$hypertension <- as.numeric(dfsvm$hypertension)\n",
        "head(dfsvm)"
      ],
      "metadata": {
        "id": "Zq0nhhng7zUA",
        "colab": {
          "base_uri": "https://localhost:8080/",
          "height": 306
        },
        "outputId": "5e515a7e-0511-4765-dc20-689004fcddac"
      },
      "execution_count": 34,
      "outputs": [
        {
          "output_type": "display_data",
          "data": {
            "text/html": [
              "<table class=\"dataframe\">\n",
              "<caption>A tibble: 6 × 14</caption>\n",
              "<thead>\n",
              "\t<tr><th scope=col>X</th><th scope=col>age</th><th scope=col>bmi</th><th scope=col>children</th><th scope=col>smoker</th><th scope=col>location</th><th scope=col>location_type</th><th scope=col>education_level</th><th scope=col>yearly_physical</th><th scope=col>exercise</th><th scope=col>married</th><th scope=col>hypertension</th><th scope=col>gender</th><th scope=col>expensive</th></tr>\n",
              "\t<tr><th scope=col>&lt;dbl&gt;</th><th scope=col>&lt;dbl&gt;</th><th scope=col>&lt;dbl&gt;</th><th scope=col>&lt;fct&gt;</th><th scope=col>&lt;fct&gt;</th><th scope=col>&lt;fct&gt;</th><th scope=col>&lt;fct&gt;</th><th scope=col>&lt;fct&gt;</th><th scope=col>&lt;fct&gt;</th><th scope=col>&lt;fct&gt;</th><th scope=col>&lt;fct&gt;</th><th scope=col>&lt;fct&gt;</th><th scope=col>&lt;fct&gt;</th><th scope=col>&lt;fct&gt;</th></tr>\n",
              "</thead>\n",
              "<tbody>\n",
              "\t<tr><td>1</td><td>18</td><td>27.900</td><td>0</td><td>yes</td><td>CONNECTICUT  </td><td>Urban  </td><td>Bachelor</td><td>No</td><td>Active    </td><td>Married</td><td>0</td><td>female</td><td>0</td></tr>\n",
              "\t<tr><td>2</td><td>19</td><td>33.770</td><td>1</td><td>no </td><td>RHODE ISLAND </td><td>Urban  </td><td>Bachelor</td><td>No</td><td>Not-Active</td><td>Married</td><td>0</td><td>male  </td><td>0</td></tr>\n",
              "\t<tr><td>3</td><td>27</td><td>33.000</td><td>3</td><td>no </td><td>MASSACHUSETTS</td><td>Urban  </td><td>Master  </td><td>No</td><td>Active    </td><td>Married</td><td>0</td><td>male  </td><td>0</td></tr>\n",
              "\t<tr><td>4</td><td>34</td><td>22.705</td><td>0</td><td>no </td><td>PENNSYLVANIA </td><td>Country</td><td>Master  </td><td>No</td><td>Not-Active</td><td>Married</td><td>1</td><td>male  </td><td>1</td></tr>\n",
              "\t<tr><td>5</td><td>32</td><td>28.880</td><td>0</td><td>no </td><td>PENNSYLVANIA </td><td>Country</td><td>PhD     </td><td>No</td><td>Not-Active</td><td>Married</td><td>0</td><td>male  </td><td>0</td></tr>\n",
              "\t<tr><td>7</td><td>47</td><td>33.440</td><td>1</td><td>no </td><td>PENNSYLVANIA </td><td>Urban  </td><td>Bachelor</td><td>No</td><td>Not-Active</td><td>Married</td><td>0</td><td>female</td><td>0</td></tr>\n",
              "</tbody>\n",
              "</table>\n"
            ],
            "text/markdown": "\nA tibble: 6 × 14\n\n| X &lt;dbl&gt; | age &lt;dbl&gt; | bmi &lt;dbl&gt; | children &lt;fct&gt; | smoker &lt;fct&gt; | location &lt;fct&gt; | location_type &lt;fct&gt; | education_level &lt;fct&gt; | yearly_physical &lt;fct&gt; | exercise &lt;fct&gt; | married &lt;fct&gt; | hypertension &lt;fct&gt; | gender &lt;fct&gt; | expensive &lt;fct&gt; |\n|---|---|---|---|---|---|---|---|---|---|---|---|---|---|\n| 1 | 18 | 27.900 | 0 | yes | CONNECTICUT   | Urban   | Bachelor | No | Active     | Married | 0 | female | 0 |\n| 2 | 19 | 33.770 | 1 | no  | RHODE ISLAND  | Urban   | Bachelor | No | Not-Active | Married | 0 | male   | 0 |\n| 3 | 27 | 33.000 | 3 | no  | MASSACHUSETTS | Urban   | Master   | No | Active     | Married | 0 | male   | 0 |\n| 4 | 34 | 22.705 | 0 | no  | PENNSYLVANIA  | Country | Master   | No | Not-Active | Married | 1 | male   | 1 |\n| 5 | 32 | 28.880 | 0 | no  | PENNSYLVANIA  | Country | PhD      | No | Not-Active | Married | 0 | male   | 0 |\n| 7 | 47 | 33.440 | 1 | no  | PENNSYLVANIA  | Urban   | Bachelor | No | Not-Active | Married | 0 | female | 0 |\n\n",
            "text/latex": "A tibble: 6 × 14\n\\begin{tabular}{llllllllllllll}\n X & age & bmi & children & smoker & location & location\\_type & education\\_level & yearly\\_physical & exercise & married & hypertension & gender & expensive\\\\\n <dbl> & <dbl> & <dbl> & <fct> & <fct> & <fct> & <fct> & <fct> & <fct> & <fct> & <fct> & <fct> & <fct> & <fct>\\\\\n\\hline\n\t 1 & 18 & 27.900 & 0 & yes & CONNECTICUT   & Urban   & Bachelor & No & Active     & Married & 0 & female & 0\\\\\n\t 2 & 19 & 33.770 & 1 & no  & RHODE ISLAND  & Urban   & Bachelor & No & Not-Active & Married & 0 & male   & 0\\\\\n\t 3 & 27 & 33.000 & 3 & no  & MASSACHUSETTS & Urban   & Master   & No & Active     & Married & 0 & male   & 0\\\\\n\t 4 & 34 & 22.705 & 0 & no  & PENNSYLVANIA  & Country & Master   & No & Not-Active & Married & 1 & male   & 1\\\\\n\t 5 & 32 & 28.880 & 0 & no  & PENNSYLVANIA  & Country & PhD      & No & Not-Active & Married & 0 & male   & 0\\\\\n\t 7 & 47 & 33.440 & 1 & no  & PENNSYLVANIA  & Urban   & Bachelor & No & Not-Active & Married & 0 & female & 0\\\\\n\\end{tabular}\n",
            "text/plain": [
              "  X age bmi    children smoker location      location_type education_level\n",
              "1 1 18  27.900 0        yes    CONNECTICUT   Urban         Bachelor       \n",
              "2 2 19  33.770 1        no     RHODE ISLAND  Urban         Bachelor       \n",
              "3 3 27  33.000 3        no     MASSACHUSETTS Urban         Master         \n",
              "4 4 34  22.705 0        no     PENNSYLVANIA  Country       Master         \n",
              "5 5 32  28.880 0        no     PENNSYLVANIA  Country       PhD            \n",
              "6 7 47  33.440 1        no     PENNSYLVANIA  Urban         Bachelor       \n",
              "  yearly_physical exercise   married hypertension gender expensive\n",
              "1 No              Active     Married 0            female 0        \n",
              "2 No              Not-Active Married 0            male   0        \n",
              "3 No              Active     Married 0            male   0        \n",
              "4 No              Not-Active Married 1            male   1        \n",
              "5 No              Not-Active Married 0            male   0        \n",
              "6 No              Not-Active Married 0            female 0        "
            ]
          },
          "metadata": {}
        }
      ]
    },
    {
      "cell_type": "markdown",
      "source": [
        "###3.2-Generate a list of cases to include in the training data:"
      ],
      "metadata": {
        "id": "N9yWqMZBcKIf"
      }
    },
    {
      "cell_type": "code",
      "source": [
        "library(caret)\n",
        "set.seed(111)\n",
        "trainListSVM <- createDataPartition(y=dfsvm$expensive, p=.70, list=FALSE)"
      ],
      "metadata": {
        "id": "4QyhoJmdcNfJ"
      },
      "execution_count": 35,
      "outputs": []
    },
    {
      "cell_type": "markdown",
      "source": [
        "###3.3-Create train and test data set:"
      ],
      "metadata": {
        "id": "duwRXmPUcdSE"
      }
    },
    {
      "cell_type": "code",
      "source": [
        "trainDataSVM <- dfsvm [trainListSVM,]\n",
        "testDataSVM <-  dfsvm [-trainListSVM,]"
      ],
      "metadata": {
        "id": "ezGZro05cewt"
      },
      "execution_count": 36,
      "outputs": []
    },
    {
      "cell_type": "markdown",
      "metadata": {
        "id": "NQWiTt3Frr5L"
      },
      "source": [
        "###3.4-Constructing the SVM model:"
      ]
    },
    {
      "cell_type": "code",
      "execution_count": 37,
      "metadata": {
        "id": "ULfO8HQGpe0-",
        "colab": {
          "base_uri": "https://localhost:8080/",
          "height": 267
        },
        "outputId": "fb1f0dc8-adfb-4c56-de4b-605304cbeb6d"
      },
      "outputs": [
        {
          "output_type": "display_data",
          "data": {
            "text/plain": [
              "Support Vector Machine object of class \"ksvm\" \n",
              "\n",
              "SV type: C-svc  (classification) \n",
              " parameter : cost C = 5 \n",
              "\n",
              "Gaussian Radial Basis kernel function. \n",
              " Hyperparameter : sigma =  0.185349781513556 \n",
              "\n",
              "Number of Support Vectors : 1482 \n",
              "\n",
              "Objective Function Value : -6081.527 \n",
              "Training error : 0.103064 \n",
              "Cross validation error : 0.12046 \n",
              "Probability model included. "
            ]
          },
          "metadata": {}
        }
      ],
      "source": [
        "svmModel <- ksvm(expensive ~ age+ bmi+ children+ smoker+ location+ exercise+ hypertension , data = trainDataSVM, C = 5, cross = 3, prob.model = TRUE)\n",
        "#Investigate the SVM model:\n",
        "svmModel"
      ]
    },
    {
      "cell_type": "markdown",
      "metadata": {
        "id": "rx_LkDhhr2kV"
      },
      "source": [
        "###3.5-Prediction for the test data set using the SVM model:"
      ]
    },
    {
      "cell_type": "code",
      "execution_count": 38,
      "metadata": {
        "id": "ANpXutQOr3Hy"
      },
      "outputs": [],
      "source": [
        "predSVM <- predict(svmModel, newdata = testDataSVM, type = \"response\")"
      ]
    },
    {
      "cell_type": "markdown",
      "metadata": {
        "id": "DIZUfyYuwPVQ"
      },
      "source": [
        "###3.6-Calculate\tthe confusion\tmatrix and\tthe accuracy\t:"
      ]
    },
    {
      "cell_type": "code",
      "execution_count": 39,
      "metadata": {
        "id": "EumPF7ebwt27",
        "colab": {
          "base_uri": "https://localhost:8080/",
          "height": 499
        },
        "outputId": "a209f891-067e-488e-acba-91c2ec95a3fc"
      },
      "outputs": [
        {
          "output_type": "display_data",
          "data": {
            "text/plain": [
              "Confusion Matrix and Statistics\n",
              "\n",
              "          Reference\n",
              "Prediction    0    1\n",
              "         0 1677  228\n",
              "         1   50  309\n",
              "                                         \n",
              "               Accuracy : 0.8772         \n",
              "                 95% CI : (0.863, 0.8905)\n",
              "    No Information Rate : 0.7628         \n",
              "    P-Value [Acc > NIR] : < 2.2e-16      \n",
              "                                         \n",
              "                  Kappa : 0.6169         \n",
              "                                         \n",
              " Mcnemar's Test P-Value : < 2.2e-16      \n",
              "                                         \n",
              "            Sensitivity : 0.9710         \n",
              "            Specificity : 0.5754         \n",
              "         Pos Pred Value : 0.8803         \n",
              "         Neg Pred Value : 0.8607         \n",
              "             Prevalence : 0.7628         \n",
              "         Detection Rate : 0.7407         \n",
              "   Detection Prevalence : 0.8414         \n",
              "      Balanced Accuracy : 0.7732         \n",
              "                                         \n",
              "       'Positive' Class : 0              \n",
              "                                         "
            ]
          },
          "metadata": {}
        }
      ],
      "source": [
        "confusionMatrix(predSVM, testDataSVM$expensive)"
      ]
    },
    {
      "cell_type": "markdown",
      "source": [
        "###3.7-Import the sample data:"
      ],
      "metadata": {
        "id": "IfaMYoGn9NzO"
      }
    },
    {
      "cell_type": "code",
      "source": [
        "sampleData <- read_csv(\"/content/HMO_TEST_data_sample.csv\")\n",
        "head(sampleData)"
      ],
      "metadata": {
        "id": "Za7tusHy9R1n",
        "colab": {
          "base_uri": "https://localhost:8080/",
          "height": 429
        },
        "outputId": "3b4cb306-03f7-4d2d-ce8b-926ad9528567"
      },
      "execution_count": 40,
      "outputs": [
        {
          "output_type": "stream",
          "name": "stderr",
          "text": [
            "\u001b[1mRows: \u001b[22m\u001b[34m20\u001b[39m \u001b[1mColumns: \u001b[22m\u001b[34m13\u001b[39m\n",
            "\u001b[36m──\u001b[39m \u001b[1mColumn specification\u001b[22m \u001b[36m────────────────────────────────────────────────────────\u001b[39m\n",
            "\u001b[1mDelimiter:\u001b[22m \",\"\n",
            "\u001b[31mchr\u001b[39m (8): smoker, location, location_type, education_level, yearly_physical, ...\n",
            "\u001b[32mdbl\u001b[39m (5): X, age, bmi, children, hypertension\n",
            "\n",
            "\u001b[36mℹ\u001b[39m Use `spec()` to retrieve the full column specification for this data.\n",
            "\u001b[36mℹ\u001b[39m Specify the column types or set `show_col_types = FALSE` to quiet this message.\n"
          ]
        },
        {
          "output_type": "display_data",
          "data": {
            "text/html": [
              "<table class=\"dataframe\">\n",
              "<caption>A tibble: 6 × 13</caption>\n",
              "<thead>\n",
              "\t<tr><th scope=col>X</th><th scope=col>age</th><th scope=col>bmi</th><th scope=col>children</th><th scope=col>smoker</th><th scope=col>location</th><th scope=col>location_type</th><th scope=col>education_level</th><th scope=col>yearly_physical</th><th scope=col>exercise</th><th scope=col>married</th><th scope=col>hypertension</th><th scope=col>gender</th></tr>\n",
              "\t<tr><th scope=col>&lt;dbl&gt;</th><th scope=col>&lt;dbl&gt;</th><th scope=col>&lt;dbl&gt;</th><th scope=col>&lt;dbl&gt;</th><th scope=col>&lt;chr&gt;</th><th scope=col>&lt;chr&gt;</th><th scope=col>&lt;chr&gt;</th><th scope=col>&lt;chr&gt;</th><th scope=col>&lt;chr&gt;</th><th scope=col>&lt;chr&gt;</th><th scope=col>&lt;chr&gt;</th><th scope=col>&lt;dbl&gt;</th><th scope=col>&lt;chr&gt;</th></tr>\n",
              "</thead>\n",
              "<tbody>\n",
              "\t<tr><td> 8</td><td>37</td><td>27.74</td><td>3</td><td>no </td><td>NEW JERSEY  </td><td>Urban  </td><td>Bachelor</td><td>Yes</td><td>Not-Active</td><td>Not_Married</td><td>0</td><td>female</td></tr>\n",
              "\t<tr><td>10</td><td>60</td><td>25.84</td><td>0</td><td>no </td><td>PENNSYLVANIA</td><td>Urban  </td><td>Bachelor</td><td>No </td><td>Not-Active</td><td>Married    </td><td>0</td><td>female</td></tr>\n",
              "\t<tr><td>20</td><td>30</td><td>35.30</td><td>0</td><td>yes</td><td>NEW YORK    </td><td>Country</td><td>PhD     </td><td>No </td><td>Not-Active</td><td>Married    </td><td>0</td><td>male  </td></tr>\n",
              "\t<tr><td>24</td><td>34</td><td>31.92</td><td>1</td><td>yes</td><td>PENNSYLVANIA</td><td>Urban  </td><td>Bachelor</td><td>No </td><td>Not-Active</td><td>Married    </td><td>0</td><td>female</td></tr>\n",
              "\t<tr><td>30</td><td>31</td><td>36.30</td><td>2</td><td>yes</td><td>PENNSYLVANIA</td><td>Urban  </td><td>Master  </td><td>Yes</td><td>Not-Active</td><td>Not_Married</td><td>0</td><td>male  </td></tr>\n",
              "\t<tr><td>31</td><td>22</td><td>35.60</td><td>0</td><td>yes</td><td>CONNECTICUT </td><td>Country</td><td>Bachelor</td><td>No </td><td>Not-Active</td><td>Not_Married</td><td>1</td><td>male  </td></tr>\n",
              "</tbody>\n",
              "</table>\n"
            ],
            "text/markdown": "\nA tibble: 6 × 13\n\n| X &lt;dbl&gt; | age &lt;dbl&gt; | bmi &lt;dbl&gt; | children &lt;dbl&gt; | smoker &lt;chr&gt; | location &lt;chr&gt; | location_type &lt;chr&gt; | education_level &lt;chr&gt; | yearly_physical &lt;chr&gt; | exercise &lt;chr&gt; | married &lt;chr&gt; | hypertension &lt;dbl&gt; | gender &lt;chr&gt; |\n|---|---|---|---|---|---|---|---|---|---|---|---|---|\n|  8 | 37 | 27.74 | 3 | no  | NEW JERSEY   | Urban   | Bachelor | Yes | Not-Active | Not_Married | 0 | female |\n| 10 | 60 | 25.84 | 0 | no  | PENNSYLVANIA | Urban   | Bachelor | No  | Not-Active | Married     | 0 | female |\n| 20 | 30 | 35.30 | 0 | yes | NEW YORK     | Country | PhD      | No  | Not-Active | Married     | 0 | male   |\n| 24 | 34 | 31.92 | 1 | yes | PENNSYLVANIA | Urban   | Bachelor | No  | Not-Active | Married     | 0 | female |\n| 30 | 31 | 36.30 | 2 | yes | PENNSYLVANIA | Urban   | Master   | Yes | Not-Active | Not_Married | 0 | male   |\n| 31 | 22 | 35.60 | 0 | yes | CONNECTICUT  | Country | Bachelor | No  | Not-Active | Not_Married | 1 | male   |\n\n",
            "text/latex": "A tibble: 6 × 13\n\\begin{tabular}{lllllllllllll}\n X & age & bmi & children & smoker & location & location\\_type & education\\_level & yearly\\_physical & exercise & married & hypertension & gender\\\\\n <dbl> & <dbl> & <dbl> & <dbl> & <chr> & <chr> & <chr> & <chr> & <chr> & <chr> & <chr> & <dbl> & <chr>\\\\\n\\hline\n\t  8 & 37 & 27.74 & 3 & no  & NEW JERSEY   & Urban   & Bachelor & Yes & Not-Active & Not\\_Married & 0 & female\\\\\n\t 10 & 60 & 25.84 & 0 & no  & PENNSYLVANIA & Urban   & Bachelor & No  & Not-Active & Married     & 0 & female\\\\\n\t 20 & 30 & 35.30 & 0 & yes & NEW YORK     & Country & PhD      & No  & Not-Active & Married     & 0 & male  \\\\\n\t 24 & 34 & 31.92 & 1 & yes & PENNSYLVANIA & Urban   & Bachelor & No  & Not-Active & Married     & 0 & female\\\\\n\t 30 & 31 & 36.30 & 2 & yes & PENNSYLVANIA & Urban   & Master   & Yes & Not-Active & Not\\_Married & 0 & male  \\\\\n\t 31 & 22 & 35.60 & 0 & yes & CONNECTICUT  & Country & Bachelor & No  & Not-Active & Not\\_Married & 1 & male  \\\\\n\\end{tabular}\n",
            "text/plain": [
              "  X  age bmi   children smoker location     location_type education_level\n",
              "1  8 37  27.74 3        no     NEW JERSEY   Urban         Bachelor       \n",
              "2 10 60  25.84 0        no     PENNSYLVANIA Urban         Bachelor       \n",
              "3 20 30  35.30 0        yes    NEW YORK     Country       PhD            \n",
              "4 24 34  31.92 1        yes    PENNSYLVANIA Urban         Bachelor       \n",
              "5 30 31  36.30 2        yes    PENNSYLVANIA Urban         Master         \n",
              "6 31 22  35.60 0        yes    CONNECTICUT  Country       Bachelor       \n",
              "  yearly_physical exercise   married     hypertension gender\n",
              "1 Yes             Not-Active Not_Married 0            female\n",
              "2 No              Not-Active Married     0            female\n",
              "3 No              Not-Active Married     0            male  \n",
              "4 No              Not-Active Married     0            female\n",
              "5 Yes             Not-Active Not_Married 0            male  \n",
              "6 No              Not-Active Not_Married 1            male  "
            ]
          },
          "metadata": {}
        }
      ]
    },
    {
      "cell_type": "markdown",
      "source": [
        "###3.8-Changing the characters to factors:"
      ],
      "metadata": {
        "id": "5sTnhgwY-Y9L"
      }
    },
    {
      "cell_type": "code",
      "source": [
        "SampleDataSVM <- mutate_if(sampleData,is.character, factor)\n",
        "# SampleDataSVM$X <- as.numeric(SampleDataSVM$X)\n",
        "# SampleDataSVM$age <- as.numeric(SampleDataSVM$age)\n",
        "# SampleDataSVM$bmi <- as.numeric(SampleDataSVM$bmi)\n",
        " SampleDataSVM$children <- as.factor(SampleDataSVM$children)\n",
        " SampleDataSVM$hypertension <- as.factor(SampleDataSVM$hypertension)\n",
        "#SampleDataSVM$expensive <- as.factor(NA)\n",
        "# SampleDataSVM$children <- as.factor(SampleDataSVM$children)\n",
        "# SampleDataSVM$hypertension <- as.factor(SampleDataSVM$hypertension)\n",
        "head(SampleDataSVM)"
      ],
      "metadata": {
        "id": "KA-nq3L1-dpn",
        "colab": {
          "base_uri": "https://localhost:8080/",
          "height": 286
        },
        "outputId": "de589af7-9da4-49ca-91c1-24cca2f961b3"
      },
      "execution_count": 41,
      "outputs": [
        {
          "output_type": "display_data",
          "data": {
            "text/html": [
              "<table class=\"dataframe\">\n",
              "<caption>A tibble: 6 × 13</caption>\n",
              "<thead>\n",
              "\t<tr><th scope=col>X</th><th scope=col>age</th><th scope=col>bmi</th><th scope=col>children</th><th scope=col>smoker</th><th scope=col>location</th><th scope=col>location_type</th><th scope=col>education_level</th><th scope=col>yearly_physical</th><th scope=col>exercise</th><th scope=col>married</th><th scope=col>hypertension</th><th scope=col>gender</th></tr>\n",
              "\t<tr><th scope=col>&lt;dbl&gt;</th><th scope=col>&lt;dbl&gt;</th><th scope=col>&lt;dbl&gt;</th><th scope=col>&lt;fct&gt;</th><th scope=col>&lt;fct&gt;</th><th scope=col>&lt;fct&gt;</th><th scope=col>&lt;fct&gt;</th><th scope=col>&lt;fct&gt;</th><th scope=col>&lt;fct&gt;</th><th scope=col>&lt;fct&gt;</th><th scope=col>&lt;fct&gt;</th><th scope=col>&lt;fct&gt;</th><th scope=col>&lt;fct&gt;</th></tr>\n",
              "</thead>\n",
              "<tbody>\n",
              "\t<tr><td> 8</td><td>37</td><td>27.74</td><td>3</td><td>no </td><td>NEW JERSEY  </td><td>Urban  </td><td>Bachelor</td><td>Yes</td><td>Not-Active</td><td>Not_Married</td><td>0</td><td>female</td></tr>\n",
              "\t<tr><td>10</td><td>60</td><td>25.84</td><td>0</td><td>no </td><td>PENNSYLVANIA</td><td>Urban  </td><td>Bachelor</td><td>No </td><td>Not-Active</td><td>Married    </td><td>0</td><td>female</td></tr>\n",
              "\t<tr><td>20</td><td>30</td><td>35.30</td><td>0</td><td>yes</td><td>NEW YORK    </td><td>Country</td><td>PhD     </td><td>No </td><td>Not-Active</td><td>Married    </td><td>0</td><td>male  </td></tr>\n",
              "\t<tr><td>24</td><td>34</td><td>31.92</td><td>1</td><td>yes</td><td>PENNSYLVANIA</td><td>Urban  </td><td>Bachelor</td><td>No </td><td>Not-Active</td><td>Married    </td><td>0</td><td>female</td></tr>\n",
              "\t<tr><td>30</td><td>31</td><td>36.30</td><td>2</td><td>yes</td><td>PENNSYLVANIA</td><td>Urban  </td><td>Master  </td><td>Yes</td><td>Not-Active</td><td>Not_Married</td><td>0</td><td>male  </td></tr>\n",
              "\t<tr><td>31</td><td>22</td><td>35.60</td><td>0</td><td>yes</td><td>CONNECTICUT </td><td>Country</td><td>Bachelor</td><td>No </td><td>Not-Active</td><td>Not_Married</td><td>1</td><td>male  </td></tr>\n",
              "</tbody>\n",
              "</table>\n"
            ],
            "text/markdown": "\nA tibble: 6 × 13\n\n| X &lt;dbl&gt; | age &lt;dbl&gt; | bmi &lt;dbl&gt; | children &lt;fct&gt; | smoker &lt;fct&gt; | location &lt;fct&gt; | location_type &lt;fct&gt; | education_level &lt;fct&gt; | yearly_physical &lt;fct&gt; | exercise &lt;fct&gt; | married &lt;fct&gt; | hypertension &lt;fct&gt; | gender &lt;fct&gt; |\n|---|---|---|---|---|---|---|---|---|---|---|---|---|\n|  8 | 37 | 27.74 | 3 | no  | NEW JERSEY   | Urban   | Bachelor | Yes | Not-Active | Not_Married | 0 | female |\n| 10 | 60 | 25.84 | 0 | no  | PENNSYLVANIA | Urban   | Bachelor | No  | Not-Active | Married     | 0 | female |\n| 20 | 30 | 35.30 | 0 | yes | NEW YORK     | Country | PhD      | No  | Not-Active | Married     | 0 | male   |\n| 24 | 34 | 31.92 | 1 | yes | PENNSYLVANIA | Urban   | Bachelor | No  | Not-Active | Married     | 0 | female |\n| 30 | 31 | 36.30 | 2 | yes | PENNSYLVANIA | Urban   | Master   | Yes | Not-Active | Not_Married | 0 | male   |\n| 31 | 22 | 35.60 | 0 | yes | CONNECTICUT  | Country | Bachelor | No  | Not-Active | Not_Married | 1 | male   |\n\n",
            "text/latex": "A tibble: 6 × 13\n\\begin{tabular}{lllllllllllll}\n X & age & bmi & children & smoker & location & location\\_type & education\\_level & yearly\\_physical & exercise & married & hypertension & gender\\\\\n <dbl> & <dbl> & <dbl> & <fct> & <fct> & <fct> & <fct> & <fct> & <fct> & <fct> & <fct> & <fct> & <fct>\\\\\n\\hline\n\t  8 & 37 & 27.74 & 3 & no  & NEW JERSEY   & Urban   & Bachelor & Yes & Not-Active & Not\\_Married & 0 & female\\\\\n\t 10 & 60 & 25.84 & 0 & no  & PENNSYLVANIA & Urban   & Bachelor & No  & Not-Active & Married     & 0 & female\\\\\n\t 20 & 30 & 35.30 & 0 & yes & NEW YORK     & Country & PhD      & No  & Not-Active & Married     & 0 & male  \\\\\n\t 24 & 34 & 31.92 & 1 & yes & PENNSYLVANIA & Urban   & Bachelor & No  & Not-Active & Married     & 0 & female\\\\\n\t 30 & 31 & 36.30 & 2 & yes & PENNSYLVANIA & Urban   & Master   & Yes & Not-Active & Not\\_Married & 0 & male  \\\\\n\t 31 & 22 & 35.60 & 0 & yes & CONNECTICUT  & Country & Bachelor & No  & Not-Active & Not\\_Married & 1 & male  \\\\\n\\end{tabular}\n",
            "text/plain": [
              "  X  age bmi   children smoker location     location_type education_level\n",
              "1  8 37  27.74 3        no     NEW JERSEY   Urban         Bachelor       \n",
              "2 10 60  25.84 0        no     PENNSYLVANIA Urban         Bachelor       \n",
              "3 20 30  35.30 0        yes    NEW YORK     Country       PhD            \n",
              "4 24 34  31.92 1        yes    PENNSYLVANIA Urban         Bachelor       \n",
              "5 30 31  36.30 2        yes    PENNSYLVANIA Urban         Master         \n",
              "6 31 22  35.60 0        yes    CONNECTICUT  Country       Bachelor       \n",
              "  yearly_physical exercise   married     hypertension gender\n",
              "1 Yes             Not-Active Not_Married 0            female\n",
              "2 No              Not-Active Married     0            female\n",
              "3 No              Not-Active Married     0            male  \n",
              "4 No              Not-Active Married     0            female\n",
              "5 Yes             Not-Active Not_Married 0            male  \n",
              "6 No              Not-Active Not_Married 1            male  "
            ]
          },
          "metadata": {}
        }
      ]
    },
    {
      "cell_type": "markdown",
      "source": [
        "###3.9-Training the SVM model with the whole data set:"
      ],
      "metadata": {
        "id": "446Nctb0m-oU"
      }
    },
    {
      "cell_type": "code",
      "source": [
        "svmModelFinal <- ksvm(expensive ~ age+ bmi+ children+ smoker+ location+ exercise+ hypertension , data = dfsvm, C = 5, cross = 3, prob.model = TRUE)\n",
        "\n",
        "#svmModelFinal <- ksvm(expensive ~ ., data = dfsvm, C = 5, cross = 3, prob.model = TRUE)\n",
        "\n",
        "\n",
        "#train_control <- trainControl(method=\"repeatedcv\", number=10, repeats=3)\n",
        "#svmModelFinal <- train(expensive ~ age+ bmi+ children+ smoker+ location+ exercise+ hypertension, data = dfsvm, method = \"svmLinear\", trControl = train_control,  preProcess = c(\"center\",\"scale\"))\n",
        "\n",
        "#Investigate the SVM model:\n",
        "svmModelFinal"
      ],
      "metadata": {
        "colab": {
          "base_uri": "https://localhost:8080/",
          "height": 267
        },
        "id": "cewA-s09nIz4",
        "outputId": "e93b9668-aebf-4090-de63-aefbf48dd6d1"
      },
      "execution_count": 77,
      "outputs": [
        {
          "output_type": "display_data",
          "data": {
            "text/plain": [
              "Support Vector Machine object of class \"ksvm\" \n",
              "\n",
              "SV type: C-svc  (classification) \n",
              " parameter : cost C = 5 \n",
              "\n",
              "Gaussian Radial Basis kernel function. \n",
              " Hyperparameter : sigma =  0.164038185038791 \n",
              "\n",
              "Number of Support Vectors : 2112 \n",
              "\n",
              "Objective Function Value : -8981.319 \n",
              "Training error : 0.107389 \n",
              "Cross validation error : 0.119041 \n",
              "Probability model included. "
            ]
          },
          "metadata": {}
        }
      ]
    },
    {
      "cell_type": "markdown",
      "source": [
        "###3.9-Prediction for sample data:"
      ],
      "metadata": {
        "id": "xjmuinPP9FRE"
      }
    },
    {
      "cell_type": "code",
      "source": [
        "predSVMSample <- predict(svmModelFinal, newdata = SampleDataSVM, type = \"response\")"
      ],
      "metadata": {
        "id": "9YA0cMoI9hm5",
        "colab": {
          "base_uri": "https://localhost:8080/",
          "height": 187
        },
        "outputId": "ab14300f-8032-484d-d903-9f817a02279e"
      },
      "execution_count": 76,
      "outputs": [
        {
          "output_type": "error",
          "ename": "ERROR",
          "evalue": "ignored",
          "traceback": [
            "Error in .local(object, ...): test vector does not match model !\nTraceback:\n",
            "1. predict(svmModelFinal, newdata = SampleDataSVM, type = \"response\")",
            "2. predict(svmModelFinal, newdata = SampleDataSVM, type = \"response\")",
            "3. .local(object, ...)",
            "4. stop(\"test vector does not match model !\")"
          ]
        }
      ]
    },
    {
      "cell_type": "code",
      "source": [
        "#head(SampleDataSVM)\n",
        "\n",
        "SampleDataSVM$hypertension <- as.numeric (SampleDataSVM$hypertension)\n",
        "SampleDataSVM$children <- as.numeric (SampleDataSVM$children)\n",
        "SampleDataSVM$X <- as.numeric (SampleDataSVM$X)\n",
        "SampleDataSVM$age <- as.numeric (SampleDataSVM$age)\n",
        "dfsvm$bmi <- as.numeric (dfsvm$bmi)\n",
        "SampleDataSVM$expensive <- as.factor(NA)\n",
        "\n",
        "dfsvm$hypertension <- as.numeric (dfsvm$hypertension)\n",
        "dfsvm$children <- as.numeric (dfsvm$children)\n",
        "dfsvm$X <- as.numeric (dfsvm$X)\n",
        "dfsvm$age <- as.numeric (dfsvm$age)\n",
        "dfsvm$bmi <- as.numeric (dfsvm$bmi)\n",
        "str(dfsvm)\n",
        "str(SampleDataSVM)"
      ],
      "metadata": {
        "colab": {
          "base_uri": "https://localhost:8080/"
        },
        "id": "JwDziqCIoAQQ",
        "outputId": "c0764487-bf29-43c1-9707-d0bb5500fafc"
      },
      "execution_count": 74,
      "outputs": [
        {
          "output_type": "stream",
          "name": "stdout",
          "text": [
            "tibble [7,552 × 14] (S3: tbl_df/tbl/data.frame)\n",
            " $ X              : num [1:7552] 1 2 3 4 5 7 9 10 11 12 ...\n",
            " $ age            : num [1:7552] 18 19 27 34 32 47 36 59 24 61 ...\n",
            " $ bmi            : num [1:7552] 27.9 33.8 33 22.7 28.9 ...\n",
            " $ children       : num [1:7552] 1 2 4 1 1 2 3 1 1 1 ...\n",
            " $ smoker         : Factor w/ 2 levels \"no\",\"yes\": 2 1 1 1 1 1 1 1 1 2 ...\n",
            " $ location       : Factor w/ 7 levels \"CONNECTICUT\",..: 1 7 3 6 6 6 6 6 6 1 ...\n",
            " $ location_type  : Factor w/ 2 levels \"Country\",\"Urban\": 2 2 2 1 1 2 2 1 2 2 ...\n",
            " $ education_level: Factor w/ 4 levels \"Bachelor\",\"Master\",..: 1 1 2 2 4 1 1 1 1 3 ...\n",
            " $ yearly_physical: Factor w/ 2 levels \"No\",\"Yes\": 1 1 1 1 1 1 1 1 1 1 ...\n",
            " $ exercise       : Factor w/ 2 levels \"Active\",\"Not-Active\": 1 2 1 2 2 2 1 2 1 1 ...\n",
            " $ married        : Factor w/ 2 levels \"Married\",\"Not_Married\": 1 1 1 1 1 1 1 1 1 1 ...\n",
            " $ hypertension   : num [1:7552] 1 1 1 3 1 1 1 3 1 1 ...\n",
            " $ gender         : Factor w/ 2 levels \"female\",\"male\": 1 2 2 2 2 1 2 1 2 1 ...\n",
            " $ expensive      : Factor w/ 2 levels \"0\",\"1\": 1 1 1 2 1 1 1 2 1 1 ...\n",
            "tibble [20 × 14] (S3: tbl_df/tbl/data.frame)\n",
            " $ X              : num [1:20] 8 10 20 24 30 31 35 39 41 42 ...\n",
            " $ age            : num [1:20] 37 60 30 34 31 22 28 35 24 31 ...\n",
            " $ bmi            : num [1:20] 27.7 25.8 35.3 31.9 36.3 ...\n",
            " $ children       : num [1:20] 4 1 1 2 3 1 2 2 1 3 ...\n",
            " $ smoker         : Factor w/ 2 levels \"no\",\"yes\": 1 1 2 2 2 2 2 2 1 1 ...\n",
            " $ location       : Factor w/ 6 levels \"CONNECTICUT\",..: 4 6 5 6 6 1 2 3 6 3 ...\n",
            " $ location_type  : Factor w/ 2 levels \"Country\",\"Urban\": 2 2 1 2 2 1 1 2 1 2 ...\n",
            " $ education_level: Factor w/ 4 levels \"Bachelor\",\"Master\",..: 1 1 4 1 2 1 1 1 1 1 ...\n",
            " $ yearly_physical: Factor w/ 2 levels \"No\",\"Yes\": 2 1 1 1 2 1 1 1 2 2 ...\n",
            " $ exercise       : Factor w/ 2 levels \"Active\",\"Not-Active\": 2 2 2 2 2 2 2 2 2 1 ...\n",
            " $ married        : Factor w/ 2 levels \"Married\",\"Not_Married\": 2 1 1 1 2 2 1 1 1 1 ...\n",
            " $ hypertension   : num [1:20] 1 1 1 1 1 2 1 1 2 1 ...\n",
            " $ gender         : Factor w/ 2 levels \"female\",\"male\": 1 1 2 1 2 2 2 2 1 1 ...\n",
            " $ expensive      : Factor w/ 0 levels: NA NA NA NA NA NA NA NA NA NA ...\n"
          ]
        }
      ]
    },
    {
      "cell_type": "markdown",
      "metadata": {
        "id": "gdBCHB1gokog"
      },
      "source": [
        "#4-Association Rules:\n"
      ]
    },
    {
      "cell_type": "markdown",
      "metadata": {
        "id": "pGCBIIrw6yZv"
      },
      "source": [
        "###4.1-Import the libraries:"
      ]
    },
    {
      "cell_type": "code",
      "execution_count": 45,
      "metadata": {
        "id": "se9UaIa56yoq",
        "colab": {
          "base_uri": "https://localhost:8080/"
        },
        "outputId": "be8f4f27-1484-4a3c-c9df-fb2f14cfd327"
      },
      "outputs": [
        {
          "output_type": "stream",
          "name": "stderr",
          "text": [
            "Loading required package: Matrix\n",
            "\n",
            "\n",
            "Attaching package: ‘Matrix’\n",
            "\n",
            "\n",
            "The following objects are masked from ‘package:tidyr’:\n",
            "\n",
            "    expand, pack, unpack\n",
            "\n",
            "\n",
            "\n",
            "Attaching package: ‘arules’\n",
            "\n",
            "\n",
            "The following object is masked from ‘package:kernlab’:\n",
            "\n",
            "    size\n",
            "\n",
            "\n",
            "The following object is masked from ‘package:dplyr’:\n",
            "\n",
            "    recode\n",
            "\n",
            "\n",
            "The following objects are masked from ‘package:base’:\n",
            "\n",
            "    abbreviate, write\n",
            "\n",
            "\n"
          ]
        }
      ],
      "source": [
        "library(arules)\n",
        "library(arulesViz)"
      ]
    },
    {
      "cell_type": "markdown",
      "metadata": {
        "id": "WQzph2nPSvdp"
      },
      "source": [
        "###4.2-Descritize the continuous variables and remove the index column:"
      ]
    },
    {
      "cell_type": "code",
      "execution_count": 46,
      "metadata": {
        "id": "QCPLxdvzS0uD",
        "colab": {
          "base_uri": "https://localhost:8080/",
          "height": 432
        },
        "outputId": "b7c275cb-c4ca-40db-894e-529432f82372"
      },
      "outputs": [
        {
          "output_type": "display_data",
          "data": {
            "text/html": [
              "<table class=\"dataframe\">\n",
              "<caption>A tibble: 10 × 14</caption>\n",
              "<thead>\n",
              "\t<tr><th scope=col>age</th><th scope=col>bmi</th><th scope=col>children</th><th scope=col>smoker</th><th scope=col>location</th><th scope=col>location_type</th><th scope=col>education_level</th><th scope=col>yearly_physical</th><th scope=col>exercise</th><th scope=col>married</th><th scope=col>hypertension</th><th scope=col>gender</th><th scope=col>cost</th><th scope=col>expensive</th></tr>\n",
              "\t<tr><th scope=col>&lt;fct&gt;</th><th scope=col>&lt;fct&gt;</th><th scope=col>&lt;fct&gt;</th><th scope=col>&lt;fct&gt;</th><th scope=col>&lt;fct&gt;</th><th scope=col>&lt;fct&gt;</th><th scope=col>&lt;fct&gt;</th><th scope=col>&lt;fct&gt;</th><th scope=col>&lt;fct&gt;</th><th scope=col>&lt;fct&gt;</th><th scope=col>&lt;fct&gt;</th><th scope=col>&lt;fct&gt;</th><th scope=col>&lt;fct&gt;</th><th scope=col>&lt;fct&gt;</th></tr>\n",
              "</thead>\n",
              "<tbody>\n",
              "\t<tr><td>young </td><td>small </td><td>0</td><td>yes</td><td>CONNECTICUT  </td><td>Urban  </td><td>Bachelor         </td><td>No</td><td>Active    </td><td>Married</td><td>0</td><td>female</td><td>small</td><td>0</td></tr>\n",
              "\t<tr><td>young </td><td>medium</td><td>1</td><td>no </td><td>RHODE ISLAND </td><td>Urban  </td><td>Bachelor         </td><td>No</td><td>Not-Active</td><td>Married</td><td>0</td><td>male  </td><td>small</td><td>0</td></tr>\n",
              "\t<tr><td>young </td><td>medium</td><td>3</td><td>no </td><td>MASSACHUSETTS</td><td>Urban  </td><td>Master           </td><td>No</td><td>Active    </td><td>Married</td><td>0</td><td>male  </td><td>small</td><td>0</td></tr>\n",
              "\t<tr><td>middle</td><td>small </td><td>0</td><td>no </td><td>PENNSYLVANIA </td><td>Country</td><td>Master           </td><td>No</td><td>Not-Active</td><td>Married</td><td>1</td><td>male  </td><td>small</td><td>1</td></tr>\n",
              "\t<tr><td>young </td><td>medium</td><td>0</td><td>no </td><td>PENNSYLVANIA </td><td>Country</td><td>PhD              </td><td>No</td><td>Not-Active</td><td>Married</td><td>0</td><td>male  </td><td>small</td><td>0</td></tr>\n",
              "\t<tr><td>middle</td><td>medium</td><td>1</td><td>no </td><td>PENNSYLVANIA </td><td>Urban  </td><td>Bachelor         </td><td>No</td><td>Not-Active</td><td>Married</td><td>0</td><td>female</td><td>small</td><td>0</td></tr>\n",
              "\t<tr><td>middle</td><td>medium</td><td>2</td><td>no </td><td>PENNSYLVANIA </td><td>Urban  </td><td>Bachelor         </td><td>No</td><td>Active    </td><td>Married</td><td>0</td><td>male  </td><td>small</td><td>0</td></tr>\n",
              "\t<tr><td>old   </td><td>small </td><td>0</td><td>no </td><td>PENNSYLVANIA </td><td>Country</td><td>Bachelor         </td><td>No</td><td>Not-Active</td><td>Married</td><td>1</td><td>female</td><td>small</td><td>1</td></tr>\n",
              "\t<tr><td>young </td><td>small </td><td>0</td><td>no </td><td>PENNSYLVANIA </td><td>Urban  </td><td>Bachelor         </td><td>No</td><td>Active    </td><td>Married</td><td>0</td><td>male  </td><td>small</td><td>0</td></tr>\n",
              "\t<tr><td>old   </td><td>small </td><td>0</td><td>yes</td><td>CONNECTICUT  </td><td>Urban  </td><td>No College Degree</td><td>No</td><td>Active    </td><td>Married</td><td>0</td><td>female</td><td>small</td><td>0</td></tr>\n",
              "</tbody>\n",
              "</table>\n"
            ],
            "text/markdown": "\nA tibble: 10 × 14\n\n| age &lt;fct&gt; | bmi &lt;fct&gt; | children &lt;fct&gt; | smoker &lt;fct&gt; | location &lt;fct&gt; | location_type &lt;fct&gt; | education_level &lt;fct&gt; | yearly_physical &lt;fct&gt; | exercise &lt;fct&gt; | married &lt;fct&gt; | hypertension &lt;fct&gt; | gender &lt;fct&gt; | cost &lt;fct&gt; | expensive &lt;fct&gt; |\n|---|---|---|---|---|---|---|---|---|---|---|---|---|---|\n| young  | small  | 0 | yes | CONNECTICUT   | Urban   | Bachelor          | No | Active     | Married | 0 | female | small | 0 |\n| young  | medium | 1 | no  | RHODE ISLAND  | Urban   | Bachelor          | No | Not-Active | Married | 0 | male   | small | 0 |\n| young  | medium | 3 | no  | MASSACHUSETTS | Urban   | Master            | No | Active     | Married | 0 | male   | small | 0 |\n| middle | small  | 0 | no  | PENNSYLVANIA  | Country | Master            | No | Not-Active | Married | 1 | male   | small | 1 |\n| young  | medium | 0 | no  | PENNSYLVANIA  | Country | PhD               | No | Not-Active | Married | 0 | male   | small | 0 |\n| middle | medium | 1 | no  | PENNSYLVANIA  | Urban   | Bachelor          | No | Not-Active | Married | 0 | female | small | 0 |\n| middle | medium | 2 | no  | PENNSYLVANIA  | Urban   | Bachelor          | No | Active     | Married | 0 | male   | small | 0 |\n| old    | small  | 0 | no  | PENNSYLVANIA  | Country | Bachelor          | No | Not-Active | Married | 1 | female | small | 1 |\n| young  | small  | 0 | no  | PENNSYLVANIA  | Urban   | Bachelor          | No | Active     | Married | 0 | male   | small | 0 |\n| old    | small  | 0 | yes | CONNECTICUT   | Urban   | No College Degree | No | Active     | Married | 0 | female | small | 0 |\n\n",
            "text/latex": "A tibble: 10 × 14\n\\begin{tabular}{llllllllllllll}\n age & bmi & children & smoker & location & location\\_type & education\\_level & yearly\\_physical & exercise & married & hypertension & gender & cost & expensive\\\\\n <fct> & <fct> & <fct> & <fct> & <fct> & <fct> & <fct> & <fct> & <fct> & <fct> & <fct> & <fct> & <fct> & <fct>\\\\\n\\hline\n\t young  & small  & 0 & yes & CONNECTICUT   & Urban   & Bachelor          & No & Active     & Married & 0 & female & small & 0\\\\\n\t young  & medium & 1 & no  & RHODE ISLAND  & Urban   & Bachelor          & No & Not-Active & Married & 0 & male   & small & 0\\\\\n\t young  & medium & 3 & no  & MASSACHUSETTS & Urban   & Master            & No & Active     & Married & 0 & male   & small & 0\\\\\n\t middle & small  & 0 & no  & PENNSYLVANIA  & Country & Master            & No & Not-Active & Married & 1 & male   & small & 1\\\\\n\t young  & medium & 0 & no  & PENNSYLVANIA  & Country & PhD               & No & Not-Active & Married & 0 & male   & small & 0\\\\\n\t middle & medium & 1 & no  & PENNSYLVANIA  & Urban   & Bachelor          & No & Not-Active & Married & 0 & female & small & 0\\\\\n\t middle & medium & 2 & no  & PENNSYLVANIA  & Urban   & Bachelor          & No & Active     & Married & 0 & male   & small & 0\\\\\n\t old    & small  & 0 & no  & PENNSYLVANIA  & Country & Bachelor          & No & Not-Active & Married & 1 & female & small & 1\\\\\n\t young  & small  & 0 & no  & PENNSYLVANIA  & Urban   & Bachelor          & No & Active     & Married & 0 & male   & small & 0\\\\\n\t old    & small  & 0 & yes & CONNECTICUT   & Urban   & No College Degree & No & Active     & Married & 0 & female & small & 0\\\\\n\\end{tabular}\n",
            "text/plain": [
              "   age    bmi    children smoker location      location_type education_level  \n",
              "1  young  small  0        yes    CONNECTICUT   Urban         Bachelor         \n",
              "2  young  medium 1        no     RHODE ISLAND  Urban         Bachelor         \n",
              "3  young  medium 3        no     MASSACHUSETTS Urban         Master           \n",
              "4  middle small  0        no     PENNSYLVANIA  Country       Master           \n",
              "5  young  medium 0        no     PENNSYLVANIA  Country       PhD              \n",
              "6  middle medium 1        no     PENNSYLVANIA  Urban         Bachelor         \n",
              "7  middle medium 2        no     PENNSYLVANIA  Urban         Bachelor         \n",
              "8  old    small  0        no     PENNSYLVANIA  Country       Bachelor         \n",
              "9  young  small  0        no     PENNSYLVANIA  Urban         Bachelor         \n",
              "10 old    small  0        yes    CONNECTICUT   Urban         No College Degree\n",
              "   yearly_physical exercise   married hypertension gender cost  expensive\n",
              "1  No              Active     Married 0            female small 0        \n",
              "2  No              Not-Active Married 0            male   small 0        \n",
              "3  No              Active     Married 0            male   small 0        \n",
              "4  No              Not-Active Married 1            male   small 1        \n",
              "5  No              Not-Active Married 0            male   small 0        \n",
              "6  No              Not-Active Married 0            female small 0        \n",
              "7  No              Active     Married 0            male   small 0        \n",
              "8  No              Not-Active Married 1            female small 1        \n",
              "9  No              Active     Married 0            male   small 0        \n",
              "10 No              Active     Married 0            female small 0        "
            ]
          },
          "metadata": {}
        }
      ],
      "source": [
        "dfassoc <- df\n",
        "dfassoc$cost <- discretize(dfassoc$cost, method = \"interval\", breaks = 3, labels = c(\"small\", \"medium\", \"large\"))\n",
        "dfassoc$bmi <- discretize(dfassoc$bmi, method = \"interval\", breaks = 3, labels = c(\"small\", \"medium\", \"large\"))\n",
        "dfassoc$age <- discretize(dfassoc$age, method = \"interval\", breaks = 3, labels = c(\"young\", \"middle\", \"old\"))\n",
        "dfassoc <- dfassoc[,-1]\n",
        "head(dfassoc, 10)\n"
      ]
    },
    {
      "cell_type": "markdown",
      "metadata": {
        "id": "inB5sx2he8C2"
      },
      "source": [
        "###4.3-One hotencoding the data set:"
      ]
    },
    {
      "cell_type": "code",
      "execution_count": 48,
      "metadata": {
        "id": "Sfz6NpRXFDQa"
      },
      "outputs": [],
      "source": [
        "dftransactions <- as(dfassoc, 'transactions')"
      ]
    },
    {
      "cell_type": "markdown",
      "metadata": {
        "id": "HS5NqGHuFRfV"
      },
      "source": [
        "###4.4-Generate a list of item frequencies"
      ]
    },
    {
      "cell_type": "code",
      "execution_count": 49,
      "metadata": {
        "id": "jIyX4K-QFXVx",
        "colab": {
          "base_uri": "https://localhost:8080/"
        },
        "outputId": "5cbeb4aa-8429-42d1-ffcf-ffdb9480eee5"
      },
      "outputs": [
        {
          "output_type": "stream",
          "name": "stdout",
          "text": [
            " Named num [1:43] 0.402 0.312 0.286 0.358 0.589 ...\n",
            " - attr(*, \"names\")= chr [1:43] \"age=young\" \"age=middle\" \"age=old\" \"bmi=small\" ...\n"
          ]
        }
      ],
      "source": [
        "dfIF <- itemFrequency(dftransactions)\n",
        "str(dfIF)"
      ]
    },
    {
      "cell_type": "markdown",
      "metadata": {
        "id": "7-AeVGPNRXll"
      },
      "source": [
        "###4.5-Show the most\tand\tleast\tfrequent features:"
      ]
    },
    {
      "cell_type": "code",
      "execution_count": 50,
      "metadata": {
        "id": "If3D7vuURewA",
        "colab": {
          "base_uri": "https://localhost:8080/",
          "height": 156
        },
        "outputId": "c8dc788e-cb63-4a31-e578-c45646d82a3c"
      },
      "outputs": [
        {
          "output_type": "display_data",
          "data": {
            "text/html": [
              "<style>\n",
              ".dl-inline {width: auto; margin:0; padding: 0}\n",
              ".dl-inline>dt, .dl-inline>dd {float: none; width: auto; display: inline-block}\n",
              ".dl-inline>dt::after {content: \":\\0020\"; padding-right: .5ex}\n",
              ".dl-inline>dt:not(:first-of-type) {padding-left: .5ex}\n",
              "</style><dl class=dl-inline><dt>cost=small</dt><dd>-0.973516949152542</dd><dt>smoker=no</dt><dd>-0.804952330508475</dd><dt>hypertension=0</dt><dd>-0.800715042372881</dd><dt>expensive=0</dt><dd>-0.762579449152542</dd><dt>yearly_physical=No</dt><dd>-0.751986228813559</dd><dt>exercise=Not-Active</dt><dd>-0.750662076271186</dd><dt>location_type=Urban</dt><dd>-0.749337923728814</dd><dt>married=Married</dt><dd>-0.667637711864407</dd><dt>education_level=Bachelor</dt><dd>-0.603548728813559</dd><dt>bmi=medium</dt><dd>-0.588983050847458</dd><dt>location=PENNSYLVANIA</dt><dd>-0.529396186440678</dd><dt>gender=male</dt><dd>-0.51708156779661</dd><dt>gender=female</dt><dd>-0.48291843220339</dd><dt>children=0</dt><dd>-0.430084745762712</dd></dl>\n"
            ],
            "text/markdown": "cost=small\n:   -0.973516949152542smoker=no\n:   -0.804952330508475hypertension=0\n:   -0.800715042372881expensive=0\n:   -0.762579449152542yearly_physical=No\n:   -0.751986228813559exercise=Not-Active\n:   -0.750662076271186location_type=Urban\n:   -0.749337923728814married=Married\n:   -0.667637711864407education_level=Bachelor\n:   -0.603548728813559bmi=medium\n:   -0.588983050847458location=PENNSYLVANIA\n:   -0.529396186440678gender=male\n:   -0.51708156779661gender=female\n:   -0.48291843220339children=0\n:   -0.430084745762712\n\n",
            "text/latex": "\\begin{description*}\n\\item[cost=small] -0.973516949152542\n\\item[smoker=no] -0.804952330508475\n\\item[hypertension=0] -0.800715042372881\n\\item[expensive=0] -0.762579449152542\n\\item[yearly\\textbackslash{}\\_physical=No] -0.751986228813559\n\\item[exercise=Not-Active] -0.750662076271186\n\\item[location\\textbackslash{}\\_type=Urban] -0.749337923728814\n\\item[married=Married] -0.667637711864407\n\\item[education\\textbackslash{}\\_level=Bachelor] -0.603548728813559\n\\item[bmi=medium] -0.588983050847458\n\\item[location=PENNSYLVANIA] -0.529396186440678\n\\item[gender=male] -0.51708156779661\n\\item[gender=female] -0.48291843220339\n\\item[children=0] -0.430084745762712\n\\end{description*}\n",
            "text/plain": [
              "              cost=small                smoker=no           hypertension=0 \n",
              "              -0.9735169               -0.8049523               -0.8007150 \n",
              "             expensive=0       yearly_physical=No      exercise=Not-Active \n",
              "              -0.7625794               -0.7519862               -0.7506621 \n",
              "     location_type=Urban          married=Married education_level=Bachelor \n",
              "              -0.7493379               -0.6676377               -0.6035487 \n",
              "              bmi=medium    location=PENNSYLVANIA              gender=male \n",
              "              -0.5889831               -0.5293962               -0.5170816 \n",
              "           gender=female               children=0 \n",
              "              -0.4829184               -0.4300847 "
            ]
          },
          "metadata": {}
        },
        {
          "output_type": "display_data",
          "data": {
            "text/html": [
              "<style>\n",
              ".dl-inline {width: auto; margin:0; padding: 0}\n",
              ".dl-inline>dt, .dl-inline>dd {float: none; width: auto; display: inline-block}\n",
              ".dl-inline>dt::after {content: \":\\0020\"; padding-right: .5ex}\n",
              ".dl-inline>dt:not(:first-of-type) {padding-left: .5ex}\n",
              "</style><dl class=dl-inline><dt>education_level=No College Degree</dt><dd>-0.100238347457627</dd><dt>location=MARYLAND</dt><dd>-0.0983845338983051</dd><dt>education_level=PhD</dt><dd>-0.0938824152542373</dd><dt>location=RHODE ISLAND</dt><dd>-0.092823093220339</dd><dt>location=CONNECTICUT</dt><dd>-0.0803760593220339</dd><dt>location=NEW YORK</dt><dd>-0.0720338983050847</dd><dt>location=NEW JERSEY</dt><dd>-0.0656779661016949</dd><dt>location=MASSACHUSETTS</dt><dd>-0.0613082627118644</dd><dt>bmi=large</dt><dd>-0.0529661016949153</dd><dt>cost=medium</dt><dd>-0.025291313559322</dd><dt>children=4</dt><dd>-0.0172139830508475</dd><dt>children=5</dt><dd>-0.0148305084745763</dd><dt>cost=large</dt><dd>-0.00119173728813559</dd><dt>hypertension=0.5</dt><dd>0</dd></dl>\n"
            ],
            "text/markdown": "education_level=No College Degree\n:   -0.100238347457627location=MARYLAND\n:   -0.0983845338983051education_level=PhD\n:   -0.0938824152542373location=RHODE ISLAND\n:   -0.092823093220339location=CONNECTICUT\n:   -0.0803760593220339location=NEW YORK\n:   -0.0720338983050847location=NEW JERSEY\n:   -0.0656779661016949location=MASSACHUSETTS\n:   -0.0613082627118644bmi=large\n:   -0.0529661016949153cost=medium\n:   -0.025291313559322children=4\n:   -0.0172139830508475children=5\n:   -0.0148305084745763cost=large\n:   -0.00119173728813559hypertension=0.5\n:   0\n\n",
            "text/latex": "\\begin{description*}\n\\item[education\\textbackslash{}\\_level=No College Degree] -0.100238347457627\n\\item[location=MARYLAND] -0.0983845338983051\n\\item[education\\textbackslash{}\\_level=PhD] -0.0938824152542373\n\\item[location=RHODE ISLAND] -0.092823093220339\n\\item[location=CONNECTICUT] -0.0803760593220339\n\\item[location=NEW YORK] -0.0720338983050847\n\\item[location=NEW JERSEY] -0.0656779661016949\n\\item[location=MASSACHUSETTS] -0.0613082627118644\n\\item[bmi=large] -0.0529661016949153\n\\item[cost=medium] -0.025291313559322\n\\item[children=4] -0.0172139830508475\n\\item[children=5] -0.0148305084745763\n\\item[cost=large] -0.00119173728813559\n\\item[hypertension=0.5] 0\n\\end{description*}\n",
            "text/plain": [
              "education_level=No College Degree                 location=MARYLAND \n",
              "                     -0.100238347                      -0.098384534 \n",
              "              education_level=PhD             location=RHODE ISLAND \n",
              "                     -0.093882415                      -0.092823093 \n",
              "             location=CONNECTICUT                 location=NEW YORK \n",
              "                     -0.080376059                      -0.072033898 \n",
              "              location=NEW JERSEY            location=MASSACHUSETTS \n",
              "                     -0.065677966                      -0.061308263 \n",
              "                        bmi=large                       cost=medium \n",
              "                     -0.052966102                      -0.025291314 \n",
              "                       children=4                        children=5 \n",
              "                     -0.017213983                      -0.014830508 \n",
              "                       cost=large                  hypertension=0.5 \n",
              "                     -0.001191737                       0.000000000 "
            ]
          },
          "metadata": {}
        }
      ],
      "source": [
        "dfIF <- sort(-dfIF)\n",
        "head(dfIF,14)\n",
        "tail(dfIF,14)"
      ]
    },
    {
      "cell_type": "markdown",
      "metadata": {
        "id": "zk60KO5QbGBd"
      },
      "source": [
        "###4.6-Create\ta\tfrequency\tplot:"
      ]
    },
    {
      "cell_type": "code",
      "execution_count": 51,
      "metadata": {
        "id": "EI2EFBArR7a0",
        "colab": {
          "base_uri": "https://localhost:8080/",
          "height": 437
        },
        "outputId": "d3018ed7-b043-4581-b612-68c6f048bc4f"
      },
      "outputs": [
        {
          "output_type": "display_data",
          "data": {
            "text/plain": [
              "plot without title"
            ],
            "image/png": "[encoded data removed]"
          },
          "metadata": {
            "image/png": {
              "width": 420,
              "height": 420
            }
          }
        }
      ],
      "source": [
        "itemFrequencyPlot(dftransactions, topN=20)"
      ]
    },
    {
      "cell_type": "markdown",
      "metadata": {
        "id": "KTkiDQomc5Xl"
      },
      "source": [
        "###4.7-Create\ta\tcross\ttable:"
      ]
    },
    {
      "cell_type": "code",
      "execution_count": 52,
      "metadata": {
        "id": "V_in8HsTc6C_",
        "colab": {
          "base_uri": "https://localhost:8080/",
          "height": 543
        },
        "outputId": "c5eb0b47-d647-4228-f3af-2e0453bb358d"
      },
      "outputs": [
        {
          "output_type": "display_data",
          "data": {
            "text/html": [
              "<table class=\"dataframe\">\n",
              "<caption>A matrix: 14 × 14 of type int</caption>\n",
              "<thead>\n",
              "\t<tr><th></th><th scope=col>cost=small</th><th scope=col>smoker=no</th><th scope=col>hypertension=0</th><th scope=col>expensive=0</th><th scope=col>yearly_physical=No</th><th scope=col>exercise=Not-Active</th><th scope=col>location_type=Urban</th><th scope=col>married=Married</th><th scope=col>education_level=Bachelor</th><th scope=col>bmi=medium</th><th scope=col>location=PENNSYLVANIA</th><th scope=col>gender=male</th><th scope=col>gender=female</th><th scope=col>children=0</th></tr>\n",
              "</thead>\n",
              "<tbody>\n",
              "\t<tr><th scope=row>cost=small</th><td>7352</td><td>6077</td><td>5891</td><td>5759</td><td>5526</td><td>5480</td><td>5510</td><td>4909</td><td>4433</td><td>4268</td><td>3888</td><td>3778</td><td>3574</td><td>3184</td></tr>\n",
              "\t<tr><th scope=row>smoker=no</th><td>6077</td><td>6079</td><td>4885</td><td>5344</td><td>4557</td><td>4588</td><td>4549</td><td>4071</td><td>3684</td><td>3630</td><td>3212</td><td>3019</td><td>3060</td><td>2646</td></tr>\n",
              "\t<tr><th scope=row>hypertension=0</th><td>5891</td><td>4885</td><td>6047</td><td>4666</td><td>4547</td><td>4532</td><td>4511</td><td>4036</td><td>3662</td><td>3549</td><td>3200</td><td>3121</td><td>2926</td><td>2608</td></tr>\n",
              "\t<tr><th scope=row>expensive=0</th><td>5759</td><td>5344</td><td>4666</td><td>5759</td><td>4343</td><td>4113</td><td>4324</td><td>3855</td><td>3493</td><td>3193</td><td>3049</td><td>2874</td><td>2885</td><td>2568</td></tr>\n",
              "\t<tr><th scope=row>yearly_physical=No</th><td>5526</td><td>4557</td><td>4547</td><td>4343</td><td>5679</td><td>4274</td><td>4256</td><td>3762</td><td>3413</td><td>3358</td><td>3046</td><td>2951</td><td>2728</td><td>2443</td></tr>\n",
              "\t<tr><th scope=row>exercise=Not-Active</th><td>5480</td><td>4588</td><td>4532</td><td>4113</td><td>4274</td><td>5669</td><td>4262</td><td>3816</td><td>3410</td><td>3345</td><td>2984</td><td>2920</td><td>2749</td><td>2429</td></tr>\n",
              "\t<tr><th scope=row>location_type=Urban</th><td>5510</td><td>4549</td><td>4511</td><td>4324</td><td>4256</td><td>4262</td><td>5659</td><td>3824</td><td>3405</td><td>3328</td><td>3025</td><td>2926</td><td>2733</td><td>2431</td></tr>\n",
              "\t<tr><th scope=row>married=Married</th><td>4909</td><td>4071</td><td>4036</td><td>3855</td><td>3762</td><td>3816</td><td>3824</td><td>5042</td><td>3038</td><td>2968</td><td>2683</td><td>2611</td><td>2431</td><td>2177</td></tr>\n",
              "\t<tr><th scope=row>education_level=Bachelor</th><td>4433</td><td>3684</td><td>3662</td><td>3493</td><td>3413</td><td>3410</td><td>3405</td><td>3038</td><td>4558</td><td>2690</td><td>2382</td><td>2325</td><td>2233</td><td>1935</td></tr>\n",
              "\t<tr><th scope=row>bmi=medium</th><td>4268</td><td>3630</td><td>3549</td><td>3193</td><td>3358</td><td>3345</td><td>3328</td><td>2968</td><td>2690</td><td>4448</td><td>2372</td><td>2311</td><td>2137</td><td>1941</td></tr>\n",
              "\t<tr><th scope=row>location=PENNSYLVANIA</th><td>3888</td><td>3212</td><td>3200</td><td>3049</td><td>3046</td><td>2984</td><td>3025</td><td>2683</td><td>2382</td><td>2372</td><td>3998</td><td>2069</td><td>1929</td><td>1716</td></tr>\n",
              "\t<tr><th scope=row>gender=male</th><td>3778</td><td>3019</td><td>3121</td><td>2874</td><td>2951</td><td>2920</td><td>2926</td><td>2611</td><td>2325</td><td>2311</td><td>2069</td><td>3905</td><td>   0</td><td>1592</td></tr>\n",
              "\t<tr><th scope=row>gender=female</th><td>3574</td><td>3060</td><td>2926</td><td>2885</td><td>2728</td><td>2749</td><td>2733</td><td>2431</td><td>2233</td><td>2137</td><td>1929</td><td>   0</td><td>3647</td><td>1656</td></tr>\n",
              "\t<tr><th scope=row>children=0</th><td>3184</td><td>2646</td><td>2608</td><td>2568</td><td>2443</td><td>2429</td><td>2431</td><td>2177</td><td>1935</td><td>1941</td><td>1716</td><td>1592</td><td>1656</td><td>3248</td></tr>\n",
              "</tbody>\n",
              "</table>\n"
            ],
            "text/markdown": "\nA matrix: 14 × 14 of type int\n\n| <!--/--> | cost=small | smoker=no | hypertension=0 | expensive=0 | yearly_physical=No | exercise=Not-Active | location_type=Urban | married=Married | education_level=Bachelor | bmi=medium | location=PENNSYLVANIA | gender=male | gender=female | children=0 |\n|---|---|---|---|---|---|---|---|---|---|---|---|---|---|---|\n| cost=small | 7352 | 6077 | 5891 | 5759 | 5526 | 5480 | 5510 | 4909 | 4433 | 4268 | 3888 | 3778 | 3574 | 3184 |\n| smoker=no | 6077 | 6079 | 4885 | 5344 | 4557 | 4588 | 4549 | 4071 | 3684 | 3630 | 3212 | 3019 | 3060 | 2646 |\n| hypertension=0 | 5891 | 4885 | 6047 | 4666 | 4547 | 4532 | 4511 | 4036 | 3662 | 3549 | 3200 | 3121 | 2926 | 2608 |\n| expensive=0 | 5759 | 5344 | 4666 | 5759 | 4343 | 4113 | 4324 | 3855 | 3493 | 3193 | 3049 | 2874 | 2885 | 2568 |\n| yearly_physical=No | 5526 | 4557 | 4547 | 4343 | 5679 | 4274 | 4256 | 3762 | 3413 | 3358 | 3046 | 2951 | 2728 | 2443 |\n| exercise=Not-Active | 5480 | 4588 | 4532 | 4113 | 4274 | 5669 | 4262 | 3816 | 3410 | 3345 | 2984 | 2920 | 2749 | 2429 |\n| location_type=Urban | 5510 | 4549 | 4511 | 4324 | 4256 | 4262 | 5659 | 3824 | 3405 | 3328 | 3025 | 2926 | 2733 | 2431 |\n| married=Married | 4909 | 4071 | 4036 | 3855 | 3762 | 3816 | 3824 | 5042 | 3038 | 2968 | 2683 | 2611 | 2431 | 2177 |\n| education_level=Bachelor | 4433 | 3684 | 3662 | 3493 | 3413 | 3410 | 3405 | 3038 | 4558 | 2690 | 2382 | 2325 | 2233 | 1935 |\n| bmi=medium | 4268 | 3630 | 3549 | 3193 | 3358 | 3345 | 3328 | 2968 | 2690 | 4448 | 2372 | 2311 | 2137 | 1941 |\n| location=PENNSYLVANIA | 3888 | 3212 | 3200 | 3049 | 3046 | 2984 | 3025 | 2683 | 2382 | 2372 | 3998 | 2069 | 1929 | 1716 |\n| gender=male | 3778 | 3019 | 3121 | 2874 | 2951 | 2920 | 2926 | 2611 | 2325 | 2311 | 2069 | 3905 |    0 | 1592 |\n| gender=female | 3574 | 3060 | 2926 | 2885 | 2728 | 2749 | 2733 | 2431 | 2233 | 2137 | 1929 |    0 | 3647 | 1656 |\n| children=0 | 3184 | 2646 | 2608 | 2568 | 2443 | 2429 | 2431 | 2177 | 1935 | 1941 | 1716 | 1592 | 1656 | 3248 |\n\n",
            "text/latex": "A matrix: 14 × 14 of type int\n\\begin{tabular}{r|llllllllllllll}\n  & cost=small & smoker=no & hypertension=0 & expensive=0 & yearly\\_physical=No & exercise=Not-Active & location\\_type=Urban & married=Married & education\\_level=Bachelor & bmi=medium & location=PENNSYLVANIA & gender=male & gender=female & children=0\\\\\n\\hline\n\tcost=small & 7352 & 6077 & 5891 & 5759 & 5526 & 5480 & 5510 & 4909 & 4433 & 4268 & 3888 & 3778 & 3574 & 3184\\\\\n\tsmoker=no & 6077 & 6079 & 4885 & 5344 & 4557 & 4588 & 4549 & 4071 & 3684 & 3630 & 3212 & 3019 & 3060 & 2646\\\\\n\thypertension=0 & 5891 & 4885 & 6047 & 4666 & 4547 & 4532 & 4511 & 4036 & 3662 & 3549 & 3200 & 3121 & 2926 & 2608\\\\\n\texpensive=0 & 5759 & 5344 & 4666 & 5759 & 4343 & 4113 & 4324 & 3855 & 3493 & 3193 & 3049 & 2874 & 2885 & 2568\\\\\n\tyearly\\_physical=No & 5526 & 4557 & 4547 & 4343 & 5679 & 4274 & 4256 & 3762 & 3413 & 3358 & 3046 & 2951 & 2728 & 2443\\\\\n\texercise=Not-Active & 5480 & 4588 & 4532 & 4113 & 4274 & 5669 & 4262 & 3816 & 3410 & 3345 & 2984 & 2920 & 2749 & 2429\\\\\n\tlocation\\_type=Urban & 5510 & 4549 & 4511 & 4324 & 4256 & 4262 & 5659 & 3824 & 3405 & 3328 & 3025 & 2926 & 2733 & 2431\\\\\n\tmarried=Married & 4909 & 4071 & 4036 & 3855 & 3762 & 3816 & 3824 & 5042 & 3038 & 2968 & 2683 & 2611 & 2431 & 2177\\\\\n\teducation\\_level=Bachelor & 4433 & 3684 & 3662 & 3493 & 3413 & 3410 & 3405 & 3038 & 4558 & 2690 & 2382 & 2325 & 2233 & 1935\\\\\n\tbmi=medium & 4268 & 3630 & 3549 & 3193 & 3358 & 3345 & 3328 & 2968 & 2690 & 4448 & 2372 & 2311 & 2137 & 1941\\\\\n\tlocation=PENNSYLVANIA & 3888 & 3212 & 3200 & 3049 & 3046 & 2984 & 3025 & 2683 & 2382 & 2372 & 3998 & 2069 & 1929 & 1716\\\\\n\tgender=male & 3778 & 3019 & 3121 & 2874 & 2951 & 2920 & 2926 & 2611 & 2325 & 2311 & 2069 & 3905 &    0 & 1592\\\\\n\tgender=female & 3574 & 3060 & 2926 & 2885 & 2728 & 2749 & 2733 & 2431 & 2233 & 2137 & 1929 &    0 & 3647 & 1656\\\\\n\tchildren=0 & 3184 & 2646 & 2608 & 2568 & 2443 & 2429 & 2431 & 2177 & 1935 & 1941 & 1716 & 1592 & 1656 & 3248\\\\\n\\end{tabular}\n",
            "text/plain": [
              "                         cost=small smoker=no hypertension=0 expensive=0\n",
              "cost=small               7352       6077      5891           5759       \n",
              "smoker=no                6077       6079      4885           5344       \n",
              "hypertension=0           5891       4885      6047           4666       \n",
              "expensive=0              5759       5344      4666           5759       \n",
              "yearly_physical=No       5526       4557      4547           4343       \n",
              "exercise=Not-Active      5480       4588      4532           4113       \n",
              "location_type=Urban      5510       4549      4511           4324       \n",
              "married=Married          4909       4071      4036           3855       \n",
              "education_level=Bachelor 4433       3684      3662           3493       \n",
              "bmi=medium               4268       3630      3549           3193       \n",
              "location=PENNSYLVANIA    3888       3212      3200           3049       \n",
              "gender=male              3778       3019      3121           2874       \n",
              "gender=female            3574       3060      2926           2885       \n",
              "children=0               3184       2646      2608           2568       \n",
              "                         yearly_physical=No exercise=Not-Active\n",
              "cost=small               5526               5480               \n",
              "smoker=no                4557               4588               \n",
              "hypertension=0           4547               4532               \n",
              "expensive=0              4343               4113               \n",
              "yearly_physical=No       5679               4274               \n",
              "exercise=Not-Active      4274               5669               \n",
              "location_type=Urban      4256               4262               \n",
              "married=Married          3762               3816               \n",
              "education_level=Bachelor 3413               3410               \n",
              "bmi=medium               3358               3345               \n",
              "location=PENNSYLVANIA    3046               2984               \n",
              "gender=male              2951               2920               \n",
              "gender=female            2728               2749               \n",
              "children=0               2443               2429               \n",
              "                         location_type=Urban married=Married\n",
              "cost=small               5510                4909           \n",
              "smoker=no                4549                4071           \n",
              "hypertension=0           4511                4036           \n",
              "expensive=0              4324                3855           \n",
              "yearly_physical=No       4256                3762           \n",
              "exercise=Not-Active      4262                3816           \n",
              "location_type=Urban      5659                3824           \n",
              "married=Married          3824                5042           \n",
              "education_level=Bachelor 3405                3038           \n",
              "bmi=medium               3328                2968           \n",
              "location=PENNSYLVANIA    3025                2683           \n",
              "gender=male              2926                2611           \n",
              "gender=female            2733                2431           \n",
              "children=0               2431                2177           \n",
              "                         education_level=Bachelor bmi=medium\n",
              "cost=small               4433                     4268      \n",
              "smoker=no                3684                     3630      \n",
              "hypertension=0           3662                     3549      \n",
              "expensive=0              3493                     3193      \n",
              "yearly_physical=No       3413                     3358      \n",
              "exercise=Not-Active      3410                     3345      \n",
              "location_type=Urban      3405                     3328      \n",
              "married=Married          3038                     2968      \n",
              "education_level=Bachelor 4558                     2690      \n",
              "bmi=medium               2690                     4448      \n",
              "location=PENNSYLVANIA    2382                     2372      \n",
              "gender=male              2325                     2311      \n",
              "gender=female            2233                     2137      \n",
              "children=0               1935                     1941      \n",
              "                         location=PENNSYLVANIA gender=male gender=female\n",
              "cost=small               3888                  3778        3574         \n",
              "smoker=no                3212                  3019        3060         \n",
              "hypertension=0           3200                  3121        2926         \n",
              "expensive=0              3049                  2874        2885         \n",
              "yearly_physical=No       3046                  2951        2728         \n",
              "exercise=Not-Active      2984                  2920        2749         \n",
              "location_type=Urban      3025                  2926        2733         \n",
              "married=Married          2683                  2611        2431         \n",
              "education_level=Bachelor 2382                  2325        2233         \n",
              "bmi=medium               2372                  2311        2137         \n",
              "location=PENNSYLVANIA    3998                  2069        1929         \n",
              "gender=male              2069                  3905           0         \n",
              "gender=female            1929                     0        3647         \n",
              "children=0               1716                  1592        1656         \n",
              "                         children=0\n",
              "cost=small               3184      \n",
              "smoker=no                2646      \n",
              "hypertension=0           2608      \n",
              "expensive=0              2568      \n",
              "yearly_physical=No       2443      \n",
              "exercise=Not-Active      2429      \n",
              "location_type=Urban      2431      \n",
              "married=Married          2177      \n",
              "education_level=Bachelor 1935      \n",
              "bmi=medium               1941      \n",
              "location=PENNSYLVANIA    1716      \n",
              "gender=male              1592      \n",
              "gender=female            1656      \n",
              "children=0               3248      "
            ]
          },
          "metadata": {}
        }
      ],
      "source": [
        "ct\t<-\tcrossTable(dftransactions,\tsort=TRUE)\n",
        "ct[1:14,\t1:14]"
      ]
    },
    {
      "cell_type": "markdown",
      "metadata": {
        "id": "hglePz0thZzV"
      },
      "source": [
        "###4.8-Create association rules:"
      ]
    },
    {
      "cell_type": "code",
      "execution_count": 53,
      "metadata": {
        "id": "22TyMp6WhdIg"
      },
      "outputs": [],
      "source": [
        "assocRules <- apriori(dftransactions,\n",
        " parameter=list(supp=0.6, conf=0.6),\n",
        " control=list(verbose=F),\n",
        " appearance=list(default=\"lhs\",rhs=(\"expensive=0\")))"
      ]
    },
    {
      "cell_type": "markdown",
      "metadata": {
        "id": "mP5b-SRah8Kz"
      },
      "source": [
        "###4.9-Invesitigate the rules:"
      ]
    },
    {
      "cell_type": "code",
      "execution_count": 54,
      "metadata": {
        "id": "bLBJYtvFh8UR",
        "colab": {
          "base_uri": "https://localhost:8080/",
          "height": 285
        },
        "outputId": "9da00182-1e80-4abf-8ab6-71d817667049"
      },
      "outputs": [
        {
          "output_type": "display_data",
          "data": {
            "text/plain": [
              "set of 6 rules "
            ]
          },
          "metadata": {}
        },
        {
          "output_type": "stream",
          "name": "stdout",
          "text": [
            "    lhs                             rhs           support   confidence\n",
            "[1] {}                           => {expensive=0} 0.7625794 0.7625794 \n",
            "[2] {hypertension=0}             => {expensive=0} 0.6178496 0.7716223 \n",
            "[3] {smoker=no}                  => {expensive=0} 0.7076271 0.8790920 \n",
            "[4] {cost=small}                 => {expensive=0} 0.7625794 0.7833243 \n",
            "[5] {hypertension=0, cost=small} => {expensive=0} 0.6178496 0.7920557 \n",
            "[6] {smoker=no, cost=small}      => {expensive=0} 0.7076271 0.8793813 \n",
            "    coverage  lift     count\n",
            "[1] 1.0000000 1.000000 5759 \n",
            "[2] 0.8007150 1.011858 4666 \n",
            "[3] 0.8049523 1.152787 5344 \n",
            "[4] 0.9735169 1.027203 5759 \n",
            "[5] 0.7800583 1.038653 4666 \n",
            "[6] 0.8046875 1.153167 5344 \n"
          ]
        }
      ],
      "source": [
        "assocRules\n",
        "inspect(assocRules)"
      ]
    }
  ],
  "metadata": {
    "colab": {
      "provenance": [],
      "include_colab_link": true
    },
    "kernelspec": {
      "display_name": "R",
      "name": "ir"
    },
    "language_info": {
      "name": "R"
    }
  },
  "nbformat": 4,
  "nbformat_minor": 0
}